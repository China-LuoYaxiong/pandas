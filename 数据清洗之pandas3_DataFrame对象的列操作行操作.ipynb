{
 "cells": [
  {
   "cell_type": "markdown",
   "metadata": {
    "toc": true
   },
   "source": [
    "<h1>Table of Contents<span class=\"tocSkip\"></span></h1>\n",
    "<div class=\"toc\"><ul class=\"toc-item\"><li><span><a href=\"#列操作\" data-toc-modified-id=\"列操作-1\"><span class=\"toc-item-num\">1&nbsp;&nbsp;</span>列操作</a></span><ul class=\"toc-item\"><li><span><a href=\"#增加列\" data-toc-modified-id=\"增加列-1.1\"><span class=\"toc-item-num\">1.1&nbsp;&nbsp;</span>增加列</a></span></li><li><span><a href=\"#插入列\" data-toc-modified-id=\"插入列-1.2\"><span class=\"toc-item-num\">1.2&nbsp;&nbsp;</span>插入列</a></span></li><li><span><a href=\"#删除列\" data-toc-modified-id=\"删除列-1.3\"><span class=\"toc-item-num\">1.3&nbsp;&nbsp;</span>删除列</a></span><ul class=\"toc-item\"><li><span><a href=\"#del-df[要删除的列名]\" data-toc-modified-id=\"del-df[要删除的列名]-1.3.1\"><span class=\"toc-item-num\">1.3.1&nbsp;&nbsp;</span>del df[要删除的列名]</a></span></li><li><span><a href=\"#df.pop(要删除的列名)\" data-toc-modified-id=\"df.pop(要删除的列名)-1.3.2\"><span class=\"toc-item-num\">1.3.2&nbsp;&nbsp;</span>df.pop(要删除的列名)</a></span></li><li><span><a href=\"#df.drop(coumns=要删除的列名)\" data-toc-modified-id=\"df.drop(coumns=要删除的列名)-1.3.3\"><span class=\"toc-item-num\">1.3.3&nbsp;&nbsp;</span>df.drop(coumns=要删除的列名)</a></span></li></ul></li><li><span><a href=\"#修改列\" data-toc-modified-id=\"修改列-1.4\"><span class=\"toc-item-num\">1.4&nbsp;&nbsp;</span>修改列</a></span><ul class=\"toc-item\"><li><span><a href=\"#修改列的值-df[要修改的列]-=-新值\" data-toc-modified-id=\"修改列的值-df[要修改的列]-=-新值-1.4.1\"><span class=\"toc-item-num\">1.4.1&nbsp;&nbsp;</span>修改列的值 df[要修改的列] = 新值</a></span></li><li><span><a href=\"#修改列的名\" data-toc-modified-id=\"修改列的名-1.4.2\"><span class=\"toc-item-num\">1.4.2&nbsp;&nbsp;</span>修改列的名</a></span><ul class=\"toc-item\"><li><span><a href=\"#df.columns-=--包含新列名的列表\" data-toc-modified-id=\"df.columns-=--包含新列名的列表-1.4.2.1\"><span class=\"toc-item-num\">1.4.2.1&nbsp;&nbsp;</span>df.columns =  包含新列名的列表</a></span></li><li><span><a href=\"#df.rename()\" data-toc-modified-id=\"df.rename()-1.4.2.2\"><span class=\"toc-item-num\">1.4.2.2&nbsp;&nbsp;</span>df.rename()</a></span></li></ul></li></ul></li><li><span><a href=\"#去重列\" data-toc-modified-id=\"去重列-1.5\"><span class=\"toc-item-num\">1.5&nbsp;&nbsp;</span>去重列</a></span></li></ul></li><li><span><a href=\"#行操作\" data-toc-modified-id=\"行操作-2\"><span class=\"toc-item-num\">2&nbsp;&nbsp;</span>行操作</a></span><ul class=\"toc-item\"><li><span><a href=\"#增加行\" data-toc-modified-id=\"增加行-2.1\"><span class=\"toc-item-num\">2.1&nbsp;&nbsp;</span>增加行</a></span></li><li><span><a href=\"#删除行\" data-toc-modified-id=\"删除行-2.2\"><span class=\"toc-item-num\">2.2&nbsp;&nbsp;</span>删除行</a></span></li><li><span><a href=\"#重置行索引\" data-toc-modified-id=\"重置行索引-2.3\"><span class=\"toc-item-num\">2.3&nbsp;&nbsp;</span>重置行索引</a></span></li></ul></li></ul></div>"
   ]
  },
  {
   "cell_type": "code",
   "execution_count": 1,
   "metadata": {
    "ExecuteTime": {
     "end_time": "2019-12-10T23:52:41.035591Z",
     "start_time": "2019-12-10T23:52:41.032598Z"
    }
   },
   "outputs": [],
   "source": [
    "#全部行都能输出\n",
    "from IPython.core.interactiveshell import InteractiveShell\n",
    "InteractiveShell.ast_node_interactivity = \"all\"\n",
    "\n",
    "import numpy as np\n",
    "import pandas as pd"
   ]
  },
  {
   "cell_type": "markdown",
   "metadata": {},
   "source": [
    "# 列操作"
   ]
  },
  {
   "cell_type": "code",
   "execution_count": 2,
   "metadata": {
    "ExecuteTime": {
     "end_time": "2019-12-10T23:52:43.932143Z",
     "start_time": "2019-12-10T23:52:43.915174Z"
    }
   },
   "outputs": [
    {
     "data": {
      "text/html": [
       "<div>\n",
       "<style scoped>\n",
       "    .dataframe tbody tr th:only-of-type {\n",
       "        vertical-align: middle;\n",
       "    }\n",
       "\n",
       "    .dataframe tbody tr th {\n",
       "        vertical-align: top;\n",
       "    }\n",
       "\n",
       "    .dataframe thead th {\n",
       "        text-align: right;\n",
       "    }\n",
       "</style>\n",
       "<table border=\"1\" class=\"dataframe\">\n",
       "  <thead>\n",
       "    <tr style=\"text-align: right;\">\n",
       "      <th></th>\n",
       "      <th>员工姓名</th>\n",
       "      <th>基本工资</th>\n",
       "      <th>销售业绩</th>\n",
       "    </tr>\n",
       "  </thead>\n",
       "  <tbody>\n",
       "    <tr>\n",
       "      <th>0</th>\n",
       "      <td>小明</td>\n",
       "      <td>3500</td>\n",
       "      <td>8000</td>\n",
       "    </tr>\n",
       "    <tr>\n",
       "      <th>1</th>\n",
       "      <td>小李</td>\n",
       "      <td>4000</td>\n",
       "      <td>12000</td>\n",
       "    </tr>\n",
       "    <tr>\n",
       "      <th>2</th>\n",
       "      <td>小红</td>\n",
       "      <td>4500</td>\n",
       "      <td>6000</td>\n",
       "    </tr>\n",
       "  </tbody>\n",
       "</table>\n",
       "</div>"
      ],
      "text/plain": [
       "  员工姓名  基本工资   销售业绩\n",
       "0   小明  3500   8000\n",
       "1   小李  4000  12000\n",
       "2   小红  4500   6000"
      ]
     },
     "execution_count": 2,
     "metadata": {},
     "output_type": "execute_result"
    }
   ],
   "source": [
    "df = pd.DataFrame({'员工姓名':['小明', '小李', '小红'], \n",
    "                     '基本工资':[3500, 4000, 4500], \n",
    "                     '销售业绩':[8000, 12000, 6000]})\n",
    "df"
   ]
  },
  {
   "cell_type": "markdown",
   "metadata": {},
   "source": [
    "## 增加列  \n",
    "比如我们增加一列 **销售提成**， 提成是销售业绩的5个点， 也是5%"
   ]
  },
  {
   "cell_type": "code",
   "execution_count": 3,
   "metadata": {
    "ExecuteTime": {
     "end_time": "2019-12-10T23:52:46.830230Z",
     "start_time": "2019-12-10T23:52:46.825244Z"
    }
   },
   "outputs": [
    {
     "data": {
      "text/plain": [
       "0     8000\n",
       "1    12000\n",
       "2     6000\n",
       "Name: 销售业绩, dtype: int64"
      ]
     },
     "execution_count": 3,
     "metadata": {},
     "output_type": "execute_result"
    }
   ],
   "source": [
    "df.销售业绩  # 这样可以单独提取出一列， 单独的一个是Series结构"
   ]
  },
  {
   "cell_type": "code",
   "execution_count": 4,
   "metadata": {
    "ExecuteTime": {
     "end_time": "2019-12-10T23:52:47.680314Z",
     "start_time": "2019-12-10T23:52:47.669308Z"
    }
   },
   "outputs": [
    {
     "data": {
      "text/plain": [
       "0    400.0\n",
       "1    600.0\n",
       "2    300.0\n",
       "Name: 销售业绩, dtype: float64"
      ]
     },
     "execution_count": 4,
     "metadata": {},
     "output_type": "execute_result"
    }
   ],
   "source": [
    "df.销售业绩*0.05"
   ]
  },
  {
   "cell_type": "code",
   "execution_count": 5,
   "metadata": {
    "ExecuteTime": {
     "end_time": "2019-12-10T23:53:06.825748Z",
     "start_time": "2019-12-10T23:53:06.820761Z"
    }
   },
   "outputs": [],
   "source": [
    "df['销售提成'] = df.销售业绩*0.05"
   ]
  },
  {
   "cell_type": "code",
   "execution_count": 6,
   "metadata": {
    "ExecuteTime": {
     "end_time": "2019-12-10T23:53:07.313261Z",
     "start_time": "2019-12-10T23:53:07.304312Z"
    }
   },
   "outputs": [
    {
     "data": {
      "text/html": [
       "<div>\n",
       "<style scoped>\n",
       "    .dataframe tbody tr th:only-of-type {\n",
       "        vertical-align: middle;\n",
       "    }\n",
       "\n",
       "    .dataframe tbody tr th {\n",
       "        vertical-align: top;\n",
       "    }\n",
       "\n",
       "    .dataframe thead th {\n",
       "        text-align: right;\n",
       "    }\n",
       "</style>\n",
       "<table border=\"1\" class=\"dataframe\">\n",
       "  <thead>\n",
       "    <tr style=\"text-align: right;\">\n",
       "      <th></th>\n",
       "      <th>员工姓名</th>\n",
       "      <th>基本工资</th>\n",
       "      <th>销售业绩</th>\n",
       "      <th>销售提成</th>\n",
       "    </tr>\n",
       "  </thead>\n",
       "  <tbody>\n",
       "    <tr>\n",
       "      <th>0</th>\n",
       "      <td>小明</td>\n",
       "      <td>3500</td>\n",
       "      <td>8000</td>\n",
       "      <td>400.0</td>\n",
       "    </tr>\n",
       "    <tr>\n",
       "      <th>1</th>\n",
       "      <td>小李</td>\n",
       "      <td>4000</td>\n",
       "      <td>12000</td>\n",
       "      <td>600.0</td>\n",
       "    </tr>\n",
       "    <tr>\n",
       "      <th>2</th>\n",
       "      <td>小红</td>\n",
       "      <td>4500</td>\n",
       "      <td>6000</td>\n",
       "      <td>300.0</td>\n",
       "    </tr>\n",
       "  </tbody>\n",
       "</table>\n",
       "</div>"
      ],
      "text/plain": [
       "  员工姓名  基本工资   销售业绩   销售提成\n",
       "0   小明  3500   8000  400.0\n",
       "1   小李  4000  12000  600.0\n",
       "2   小红  4500   6000  300.0"
      ]
     },
     "execution_count": 6,
     "metadata": {},
     "output_type": "execute_result"
    }
   ],
   "source": [
    "df"
   ]
  },
  {
   "cell_type": "markdown",
   "metadata": {},
   "source": [
    "再创建一列 **应发工资** = 基本工资+销售提成"
   ]
  },
  {
   "cell_type": "code",
   "execution_count": 7,
   "metadata": {},
   "outputs": [],
   "source": [
    "df['应发工资'] = df.基本工资+df.销售提成"
   ]
  },
  {
   "cell_type": "code",
   "execution_count": 8,
   "metadata": {},
   "outputs": [
    {
     "data": {
      "text/html": [
       "<div>\n",
       "<style scoped>\n",
       "    .dataframe tbody tr th:only-of-type {\n",
       "        vertical-align: middle;\n",
       "    }\n",
       "\n",
       "    .dataframe tbody tr th {\n",
       "        vertical-align: top;\n",
       "    }\n",
       "\n",
       "    .dataframe thead th {\n",
       "        text-align: right;\n",
       "    }\n",
       "</style>\n",
       "<table border=\"1\" class=\"dataframe\">\n",
       "  <thead>\n",
       "    <tr style=\"text-align: right;\">\n",
       "      <th></th>\n",
       "      <th>员工姓名</th>\n",
       "      <th>基本工资</th>\n",
       "      <th>销售业绩</th>\n",
       "      <th>销售提成</th>\n",
       "      <th>应发工资</th>\n",
       "    </tr>\n",
       "  </thead>\n",
       "  <tbody>\n",
       "    <tr>\n",
       "      <th>0</th>\n",
       "      <td>小明</td>\n",
       "      <td>3500</td>\n",
       "      <td>8000</td>\n",
       "      <td>400.0</td>\n",
       "      <td>3900.0</td>\n",
       "    </tr>\n",
       "    <tr>\n",
       "      <th>1</th>\n",
       "      <td>小李</td>\n",
       "      <td>4000</td>\n",
       "      <td>12000</td>\n",
       "      <td>600.0</td>\n",
       "      <td>4600.0</td>\n",
       "    </tr>\n",
       "    <tr>\n",
       "      <th>2</th>\n",
       "      <td>小红</td>\n",
       "      <td>4500</td>\n",
       "      <td>6000</td>\n",
       "      <td>300.0</td>\n",
       "      <td>4800.0</td>\n",
       "    </tr>\n",
       "  </tbody>\n",
       "</table>\n",
       "</div>"
      ],
      "text/plain": [
       "  员工姓名  基本工资   销售业绩   销售提成    应发工资\n",
       "0   小明  3500   8000  400.0  3900.0\n",
       "1   小李  4000  12000  600.0  4600.0\n",
       "2   小红  4500   6000  300.0  4800.0"
      ]
     },
     "execution_count": 8,
     "metadata": {},
     "output_type": "execute_result"
    }
   ],
   "source": [
    "df"
   ]
  },
  {
   "cell_type": "markdown",
   "metadata": {},
   "source": [
    "增加一列， **出勤天数**  \n",
    "小明 24  \n",
    "小李 22   \n",
    "小红 23"
   ]
  },
  {
   "cell_type": "code",
   "execution_count": 9,
   "metadata": {
    "ExecuteTime": {
     "end_time": "2019-12-10T23:53:32.201071Z",
     "start_time": "2019-12-10T23:53:32.197054Z"
    }
   },
   "outputs": [],
   "source": [
    "df['出勤天数'] = [24, 22, 23]"
   ]
  },
  {
   "cell_type": "code",
   "execution_count": 10,
   "metadata": {
    "ExecuteTime": {
     "end_time": "2019-12-10T23:53:33.503172Z",
     "start_time": "2019-12-10T23:53:33.497154Z"
    }
   },
   "outputs": [
    {
     "data": {
      "text/html": [
       "<div>\n",
       "<style scoped>\n",
       "    .dataframe tbody tr th:only-of-type {\n",
       "        vertical-align: middle;\n",
       "    }\n",
       "\n",
       "    .dataframe tbody tr th {\n",
       "        vertical-align: top;\n",
       "    }\n",
       "\n",
       "    .dataframe thead th {\n",
       "        text-align: right;\n",
       "    }\n",
       "</style>\n",
       "<table border=\"1\" class=\"dataframe\">\n",
       "  <thead>\n",
       "    <tr style=\"text-align: right;\">\n",
       "      <th></th>\n",
       "      <th>员工姓名</th>\n",
       "      <th>基本工资</th>\n",
       "      <th>销售业绩</th>\n",
       "      <th>销售提成</th>\n",
       "      <th>应发工资</th>\n",
       "      <th>出勤天数</th>\n",
       "    </tr>\n",
       "  </thead>\n",
       "  <tbody>\n",
       "    <tr>\n",
       "      <th>0</th>\n",
       "      <td>小明</td>\n",
       "      <td>3500</td>\n",
       "      <td>8000</td>\n",
       "      <td>400.0</td>\n",
       "      <td>3900.0</td>\n",
       "      <td>24</td>\n",
       "    </tr>\n",
       "    <tr>\n",
       "      <th>1</th>\n",
       "      <td>小李</td>\n",
       "      <td>4000</td>\n",
       "      <td>12000</td>\n",
       "      <td>600.0</td>\n",
       "      <td>4600.0</td>\n",
       "      <td>22</td>\n",
       "    </tr>\n",
       "    <tr>\n",
       "      <th>2</th>\n",
       "      <td>小红</td>\n",
       "      <td>4500</td>\n",
       "      <td>6000</td>\n",
       "      <td>300.0</td>\n",
       "      <td>4800.0</td>\n",
       "      <td>23</td>\n",
       "    </tr>\n",
       "  </tbody>\n",
       "</table>\n",
       "</div>"
      ],
      "text/plain": [
       "  员工姓名  基本工资   销售业绩   销售提成    应发工资  出勤天数\n",
       "0   小明  3500   8000  400.0  3900.0    24\n",
       "1   小李  4000  12000  600.0  4600.0    22\n",
       "2   小红  4500   6000  300.0  4800.0    23"
      ]
     },
     "execution_count": 10,
     "metadata": {},
     "output_type": "execute_result"
    }
   ],
   "source": [
    "df"
   ]
  },
  {
   "cell_type": "markdown",
   "metadata": {},
   "source": [
    "## 插入列  \n",
    "在 **员工姓名** 后面插入**性别**  \n",
    "男 男 女"
   ]
  },
  {
   "cell_type": "code",
   "execution_count": 11,
   "metadata": {},
   "outputs": [
    {
     "data": {
      "text/html": [
       "<div>\n",
       "<style scoped>\n",
       "    .dataframe tbody tr th:only-of-type {\n",
       "        vertical-align: middle;\n",
       "    }\n",
       "\n",
       "    .dataframe tbody tr th {\n",
       "        vertical-align: top;\n",
       "    }\n",
       "\n",
       "    .dataframe thead th {\n",
       "        text-align: right;\n",
       "    }\n",
       "</style>\n",
       "<table border=\"1\" class=\"dataframe\">\n",
       "  <thead>\n",
       "    <tr style=\"text-align: right;\">\n",
       "      <th></th>\n",
       "      <th>员工姓名</th>\n",
       "      <th>基本工资</th>\n",
       "      <th>销售业绩</th>\n",
       "      <th>销售提成</th>\n",
       "      <th>应发工资</th>\n",
       "      <th>出勤天数</th>\n",
       "    </tr>\n",
       "  </thead>\n",
       "  <tbody>\n",
       "    <tr>\n",
       "      <th>0</th>\n",
       "      <td>小明</td>\n",
       "      <td>3500</td>\n",
       "      <td>8000</td>\n",
       "      <td>400.0</td>\n",
       "      <td>3900.0</td>\n",
       "      <td>24</td>\n",
       "    </tr>\n",
       "    <tr>\n",
       "      <th>1</th>\n",
       "      <td>小李</td>\n",
       "      <td>4000</td>\n",
       "      <td>12000</td>\n",
       "      <td>600.0</td>\n",
       "      <td>4600.0</td>\n",
       "      <td>22</td>\n",
       "    </tr>\n",
       "    <tr>\n",
       "      <th>2</th>\n",
       "      <td>小红</td>\n",
       "      <td>4500</td>\n",
       "      <td>6000</td>\n",
       "      <td>300.0</td>\n",
       "      <td>4800.0</td>\n",
       "      <td>23</td>\n",
       "    </tr>\n",
       "  </tbody>\n",
       "</table>\n",
       "</div>"
      ],
      "text/plain": [
       "  员工姓名  基本工资   销售业绩   销售提成    应发工资  出勤天数\n",
       "0   小明  3500   8000  400.0  3900.0    24\n",
       "1   小李  4000  12000  600.0  4600.0    22\n",
       "2   小红  4500   6000  300.0  4800.0    23"
      ]
     },
     "execution_count": 11,
     "metadata": {},
     "output_type": "execute_result"
    }
   ],
   "source": [
    "df"
   ]
  },
  {
   "cell_type": "code",
   "execution_count": 12,
   "metadata": {},
   "outputs": [],
   "source": [
    "df.insert(1, '性别', ['男', '男', '女'])"
   ]
  },
  {
   "cell_type": "code",
   "execution_count": 13,
   "metadata": {},
   "outputs": [
    {
     "data": {
      "text/html": [
       "<div>\n",
       "<style scoped>\n",
       "    .dataframe tbody tr th:only-of-type {\n",
       "        vertical-align: middle;\n",
       "    }\n",
       "\n",
       "    .dataframe tbody tr th {\n",
       "        vertical-align: top;\n",
       "    }\n",
       "\n",
       "    .dataframe thead th {\n",
       "        text-align: right;\n",
       "    }\n",
       "</style>\n",
       "<table border=\"1\" class=\"dataframe\">\n",
       "  <thead>\n",
       "    <tr style=\"text-align: right;\">\n",
       "      <th></th>\n",
       "      <th>员工姓名</th>\n",
       "      <th>性别</th>\n",
       "      <th>基本工资</th>\n",
       "      <th>销售业绩</th>\n",
       "      <th>销售提成</th>\n",
       "      <th>应发工资</th>\n",
       "      <th>出勤天数</th>\n",
       "    </tr>\n",
       "  </thead>\n",
       "  <tbody>\n",
       "    <tr>\n",
       "      <th>0</th>\n",
       "      <td>小明</td>\n",
       "      <td>男</td>\n",
       "      <td>3500</td>\n",
       "      <td>8000</td>\n",
       "      <td>400.0</td>\n",
       "      <td>3900.0</td>\n",
       "      <td>24</td>\n",
       "    </tr>\n",
       "    <tr>\n",
       "      <th>1</th>\n",
       "      <td>小李</td>\n",
       "      <td>男</td>\n",
       "      <td>4000</td>\n",
       "      <td>12000</td>\n",
       "      <td>600.0</td>\n",
       "      <td>4600.0</td>\n",
       "      <td>22</td>\n",
       "    </tr>\n",
       "    <tr>\n",
       "      <th>2</th>\n",
       "      <td>小红</td>\n",
       "      <td>女</td>\n",
       "      <td>4500</td>\n",
       "      <td>6000</td>\n",
       "      <td>300.0</td>\n",
       "      <td>4800.0</td>\n",
       "      <td>23</td>\n",
       "    </tr>\n",
       "  </tbody>\n",
       "</table>\n",
       "</div>"
      ],
      "text/plain": [
       "  员工姓名 性别  基本工资   销售业绩   销售提成    应发工资  出勤天数\n",
       "0   小明  男  3500   8000  400.0  3900.0    24\n",
       "1   小李  男  4000  12000  600.0  4600.0    22\n",
       "2   小红  女  4500   6000  300.0  4800.0    23"
      ]
     },
     "execution_count": 13,
     "metadata": {},
     "output_type": "execute_result"
    }
   ],
   "source": [
    "df"
   ]
  },
  {
   "cell_type": "markdown",
   "metadata": {},
   "source": [
    "**在性别之后插入一列年龄**  \n",
    "23 24 25"
   ]
  },
  {
   "cell_type": "code",
   "execution_count": 14,
   "metadata": {},
   "outputs": [
    {
     "data": {
      "text/html": [
       "<div>\n",
       "<style scoped>\n",
       "    .dataframe tbody tr th:only-of-type {\n",
       "        vertical-align: middle;\n",
       "    }\n",
       "\n",
       "    .dataframe tbody tr th {\n",
       "        vertical-align: top;\n",
       "    }\n",
       "\n",
       "    .dataframe thead th {\n",
       "        text-align: right;\n",
       "    }\n",
       "</style>\n",
       "<table border=\"1\" class=\"dataframe\">\n",
       "  <thead>\n",
       "    <tr style=\"text-align: right;\">\n",
       "      <th></th>\n",
       "      <th>员工姓名</th>\n",
       "      <th>性别</th>\n",
       "      <th>基本工资</th>\n",
       "      <th>销售业绩</th>\n",
       "      <th>销售提成</th>\n",
       "      <th>应发工资</th>\n",
       "      <th>出勤天数</th>\n",
       "    </tr>\n",
       "  </thead>\n",
       "  <tbody>\n",
       "    <tr>\n",
       "      <th>0</th>\n",
       "      <td>小明</td>\n",
       "      <td>男</td>\n",
       "      <td>3500</td>\n",
       "      <td>8000</td>\n",
       "      <td>400.0</td>\n",
       "      <td>3900.0</td>\n",
       "      <td>24</td>\n",
       "    </tr>\n",
       "    <tr>\n",
       "      <th>1</th>\n",
       "      <td>小李</td>\n",
       "      <td>男</td>\n",
       "      <td>4000</td>\n",
       "      <td>12000</td>\n",
       "      <td>600.0</td>\n",
       "      <td>4600.0</td>\n",
       "      <td>22</td>\n",
       "    </tr>\n",
       "    <tr>\n",
       "      <th>2</th>\n",
       "      <td>小红</td>\n",
       "      <td>女</td>\n",
       "      <td>4500</td>\n",
       "      <td>6000</td>\n",
       "      <td>300.0</td>\n",
       "      <td>4800.0</td>\n",
       "      <td>23</td>\n",
       "    </tr>\n",
       "  </tbody>\n",
       "</table>\n",
       "</div>"
      ],
      "text/plain": [
       "  员工姓名 性别  基本工资   销售业绩   销售提成    应发工资  出勤天数\n",
       "0   小明  男  3500   8000  400.0  3900.0    24\n",
       "1   小李  男  4000  12000  600.0  4600.0    22\n",
       "2   小红  女  4500   6000  300.0  4800.0    23"
      ]
     },
     "execution_count": 14,
     "metadata": {},
     "output_type": "execute_result"
    }
   ],
   "source": [
    "df"
   ]
  },
  {
   "cell_type": "code",
   "execution_count": 15,
   "metadata": {},
   "outputs": [],
   "source": [
    "df.insert(2, '年龄', [23, 24, 25])"
   ]
  },
  {
   "cell_type": "code",
   "execution_count": 16,
   "metadata": {},
   "outputs": [
    {
     "data": {
      "text/html": [
       "<div>\n",
       "<style scoped>\n",
       "    .dataframe tbody tr th:only-of-type {\n",
       "        vertical-align: middle;\n",
       "    }\n",
       "\n",
       "    .dataframe tbody tr th {\n",
       "        vertical-align: top;\n",
       "    }\n",
       "\n",
       "    .dataframe thead th {\n",
       "        text-align: right;\n",
       "    }\n",
       "</style>\n",
       "<table border=\"1\" class=\"dataframe\">\n",
       "  <thead>\n",
       "    <tr style=\"text-align: right;\">\n",
       "      <th></th>\n",
       "      <th>员工姓名</th>\n",
       "      <th>性别</th>\n",
       "      <th>年龄</th>\n",
       "      <th>基本工资</th>\n",
       "      <th>销售业绩</th>\n",
       "      <th>销售提成</th>\n",
       "      <th>应发工资</th>\n",
       "      <th>出勤天数</th>\n",
       "    </tr>\n",
       "  </thead>\n",
       "  <tbody>\n",
       "    <tr>\n",
       "      <th>0</th>\n",
       "      <td>小明</td>\n",
       "      <td>男</td>\n",
       "      <td>23</td>\n",
       "      <td>3500</td>\n",
       "      <td>8000</td>\n",
       "      <td>400.0</td>\n",
       "      <td>3900.0</td>\n",
       "      <td>24</td>\n",
       "    </tr>\n",
       "    <tr>\n",
       "      <th>1</th>\n",
       "      <td>小李</td>\n",
       "      <td>男</td>\n",
       "      <td>24</td>\n",
       "      <td>4000</td>\n",
       "      <td>12000</td>\n",
       "      <td>600.0</td>\n",
       "      <td>4600.0</td>\n",
       "      <td>22</td>\n",
       "    </tr>\n",
       "    <tr>\n",
       "      <th>2</th>\n",
       "      <td>小红</td>\n",
       "      <td>女</td>\n",
       "      <td>25</td>\n",
       "      <td>4500</td>\n",
       "      <td>6000</td>\n",
       "      <td>300.0</td>\n",
       "      <td>4800.0</td>\n",
       "      <td>23</td>\n",
       "    </tr>\n",
       "  </tbody>\n",
       "</table>\n",
       "</div>"
      ],
      "text/plain": [
       "  员工姓名 性别  年龄  基本工资   销售业绩   销售提成    应发工资  出勤天数\n",
       "0   小明  男  23  3500   8000  400.0  3900.0    24\n",
       "1   小李  男  24  4000  12000  600.0  4600.0    22\n",
       "2   小红  女  25  4500   6000  300.0  4800.0    23"
      ]
     },
     "execution_count": 16,
     "metadata": {},
     "output_type": "execute_result"
    }
   ],
   "source": [
    "df"
   ]
  },
  {
   "cell_type": "markdown",
   "metadata": {},
   "source": [
    "## 删除列"
   ]
  },
  {
   "cell_type": "markdown",
   "metadata": {},
   "source": [
    "### del df[要删除的列名]  \n",
    "会直接在原数据上修改"
   ]
  },
  {
   "cell_type": "code",
   "execution_count": 17,
   "metadata": {
    "ExecuteTime": {
     "end_time": "2019-12-10T23:53:40.899441Z",
     "start_time": "2019-12-10T23:53:40.892459Z"
    }
   },
   "outputs": [
    {
     "data": {
      "text/html": [
       "<div>\n",
       "<style scoped>\n",
       "    .dataframe tbody tr th:only-of-type {\n",
       "        vertical-align: middle;\n",
       "    }\n",
       "\n",
       "    .dataframe tbody tr th {\n",
       "        vertical-align: top;\n",
       "    }\n",
       "\n",
       "    .dataframe thead th {\n",
       "        text-align: right;\n",
       "    }\n",
       "</style>\n",
       "<table border=\"1\" class=\"dataframe\">\n",
       "  <thead>\n",
       "    <tr style=\"text-align: right;\">\n",
       "      <th></th>\n",
       "      <th>员工姓名</th>\n",
       "      <th>性别</th>\n",
       "      <th>年龄</th>\n",
       "      <th>基本工资</th>\n",
       "      <th>销售业绩</th>\n",
       "      <th>销售提成</th>\n",
       "      <th>应发工资</th>\n",
       "      <th>出勤天数</th>\n",
       "      <th>a</th>\n",
       "    </tr>\n",
       "  </thead>\n",
       "  <tbody>\n",
       "    <tr>\n",
       "      <th>0</th>\n",
       "      <td>小明</td>\n",
       "      <td>男</td>\n",
       "      <td>23</td>\n",
       "      <td>3500</td>\n",
       "      <td>8000</td>\n",
       "      <td>400.0</td>\n",
       "      <td>3900.0</td>\n",
       "      <td>24</td>\n",
       "      <td>1</td>\n",
       "    </tr>\n",
       "    <tr>\n",
       "      <th>1</th>\n",
       "      <td>小李</td>\n",
       "      <td>男</td>\n",
       "      <td>24</td>\n",
       "      <td>4000</td>\n",
       "      <td>12000</td>\n",
       "      <td>600.0</td>\n",
       "      <td>4600.0</td>\n",
       "      <td>22</td>\n",
       "      <td>2</td>\n",
       "    </tr>\n",
       "    <tr>\n",
       "      <th>2</th>\n",
       "      <td>小红</td>\n",
       "      <td>女</td>\n",
       "      <td>25</td>\n",
       "      <td>4500</td>\n",
       "      <td>6000</td>\n",
       "      <td>300.0</td>\n",
       "      <td>4800.0</td>\n",
       "      <td>23</td>\n",
       "      <td>3</td>\n",
       "    </tr>\n",
       "  </tbody>\n",
       "</table>\n",
       "</div>"
      ],
      "text/plain": [
       "  员工姓名 性别  年龄  基本工资   销售业绩   销售提成    应发工资  出勤天数  a\n",
       "0   小明  男  23  3500   8000  400.0  3900.0    24  1\n",
       "1   小李  男  24  4000  12000  600.0  4600.0    22  2\n",
       "2   小红  女  25  4500   6000  300.0  4800.0    23  3"
      ]
     },
     "execution_count": 17,
     "metadata": {},
     "output_type": "execute_result"
    }
   ],
   "source": [
    "df['a'] = [1, 2, 3]\n",
    "df"
   ]
  },
  {
   "cell_type": "code",
   "execution_count": 18,
   "metadata": {
    "ExecuteTime": {
     "end_time": "2019-12-10T23:53:44.206254Z",
     "start_time": "2019-12-10T23:53:44.202266Z"
    }
   },
   "outputs": [],
   "source": [
    "del df['a']  # 直接在原表上进行删除"
   ]
  },
  {
   "cell_type": "code",
   "execution_count": 19,
   "metadata": {
    "ExecuteTime": {
     "end_time": "2019-12-10T23:53:44.633421Z",
     "start_time": "2019-12-10T23:53:44.626440Z"
    }
   },
   "outputs": [
    {
     "data": {
      "text/html": [
       "<div>\n",
       "<style scoped>\n",
       "    .dataframe tbody tr th:only-of-type {\n",
       "        vertical-align: middle;\n",
       "    }\n",
       "\n",
       "    .dataframe tbody tr th {\n",
       "        vertical-align: top;\n",
       "    }\n",
       "\n",
       "    .dataframe thead th {\n",
       "        text-align: right;\n",
       "    }\n",
       "</style>\n",
       "<table border=\"1\" class=\"dataframe\">\n",
       "  <thead>\n",
       "    <tr style=\"text-align: right;\">\n",
       "      <th></th>\n",
       "      <th>员工姓名</th>\n",
       "      <th>性别</th>\n",
       "      <th>年龄</th>\n",
       "      <th>基本工资</th>\n",
       "      <th>销售业绩</th>\n",
       "      <th>销售提成</th>\n",
       "      <th>应发工资</th>\n",
       "      <th>出勤天数</th>\n",
       "    </tr>\n",
       "  </thead>\n",
       "  <tbody>\n",
       "    <tr>\n",
       "      <th>0</th>\n",
       "      <td>小明</td>\n",
       "      <td>男</td>\n",
       "      <td>23</td>\n",
       "      <td>3500</td>\n",
       "      <td>8000</td>\n",
       "      <td>400.0</td>\n",
       "      <td>3900.0</td>\n",
       "      <td>24</td>\n",
       "    </tr>\n",
       "    <tr>\n",
       "      <th>1</th>\n",
       "      <td>小李</td>\n",
       "      <td>男</td>\n",
       "      <td>24</td>\n",
       "      <td>4000</td>\n",
       "      <td>12000</td>\n",
       "      <td>600.0</td>\n",
       "      <td>4600.0</td>\n",
       "      <td>22</td>\n",
       "    </tr>\n",
       "    <tr>\n",
       "      <th>2</th>\n",
       "      <td>小红</td>\n",
       "      <td>女</td>\n",
       "      <td>25</td>\n",
       "      <td>4500</td>\n",
       "      <td>6000</td>\n",
       "      <td>300.0</td>\n",
       "      <td>4800.0</td>\n",
       "      <td>23</td>\n",
       "    </tr>\n",
       "  </tbody>\n",
       "</table>\n",
       "</div>"
      ],
      "text/plain": [
       "  员工姓名 性别  年龄  基本工资   销售业绩   销售提成    应发工资  出勤天数\n",
       "0   小明  男  23  3500   8000  400.0  3900.0    24\n",
       "1   小李  男  24  4000  12000  600.0  4600.0    22\n",
       "2   小红  女  25  4500   6000  300.0  4800.0    23"
      ]
     },
     "execution_count": 19,
     "metadata": {},
     "output_type": "execute_result"
    }
   ],
   "source": [
    "df"
   ]
  },
  {
   "cell_type": "markdown",
   "metadata": {},
   "source": [
    "### df.pop(要删除的列名)  \n",
    "直接会在原表上删除该列， 并会以Series返回该列"
   ]
  },
  {
   "cell_type": "code",
   "execution_count": 20,
   "metadata": {
    "ExecuteTime": {
     "end_time": "2019-12-10T23:54:00.691923Z",
     "start_time": "2019-12-10T23:54:00.684943Z"
    }
   },
   "outputs": [
    {
     "data": {
      "text/html": [
       "<div>\n",
       "<style scoped>\n",
       "    .dataframe tbody tr th:only-of-type {\n",
       "        vertical-align: middle;\n",
       "    }\n",
       "\n",
       "    .dataframe tbody tr th {\n",
       "        vertical-align: top;\n",
       "    }\n",
       "\n",
       "    .dataframe thead th {\n",
       "        text-align: right;\n",
       "    }\n",
       "</style>\n",
       "<table border=\"1\" class=\"dataframe\">\n",
       "  <thead>\n",
       "    <tr style=\"text-align: right;\">\n",
       "      <th></th>\n",
       "      <th>员工姓名</th>\n",
       "      <th>性别</th>\n",
       "      <th>年龄</th>\n",
       "      <th>基本工资</th>\n",
       "      <th>销售业绩</th>\n",
       "      <th>销售提成</th>\n",
       "      <th>应发工资</th>\n",
       "      <th>出勤天数</th>\n",
       "    </tr>\n",
       "  </thead>\n",
       "  <tbody>\n",
       "    <tr>\n",
       "      <th>0</th>\n",
       "      <td>小明</td>\n",
       "      <td>男</td>\n",
       "      <td>23</td>\n",
       "      <td>3500</td>\n",
       "      <td>8000</td>\n",
       "      <td>400.0</td>\n",
       "      <td>3900.0</td>\n",
       "      <td>24</td>\n",
       "    </tr>\n",
       "    <tr>\n",
       "      <th>1</th>\n",
       "      <td>小李</td>\n",
       "      <td>男</td>\n",
       "      <td>24</td>\n",
       "      <td>4000</td>\n",
       "      <td>12000</td>\n",
       "      <td>600.0</td>\n",
       "      <td>4600.0</td>\n",
       "      <td>22</td>\n",
       "    </tr>\n",
       "    <tr>\n",
       "      <th>2</th>\n",
       "      <td>小红</td>\n",
       "      <td>女</td>\n",
       "      <td>25</td>\n",
       "      <td>4500</td>\n",
       "      <td>6000</td>\n",
       "      <td>300.0</td>\n",
       "      <td>4800.0</td>\n",
       "      <td>23</td>\n",
       "    </tr>\n",
       "  </tbody>\n",
       "</table>\n",
       "</div>"
      ],
      "text/plain": [
       "  员工姓名 性别  年龄  基本工资   销售业绩   销售提成    应发工资  出勤天数\n",
       "0   小明  男  23  3500   8000  400.0  3900.0    24\n",
       "1   小李  男  24  4000  12000  600.0  4600.0    22\n",
       "2   小红  女  25  4500   6000  300.0  4800.0    23"
      ]
     },
     "execution_count": 20,
     "metadata": {},
     "output_type": "execute_result"
    }
   ],
   "source": [
    "df"
   ]
  },
  {
   "cell_type": "code",
   "execution_count": 21,
   "metadata": {
    "ExecuteTime": {
     "end_time": "2019-12-10T23:54:07.050246Z",
     "start_time": "2019-12-10T23:54:07.046254Z"
    }
   },
   "outputs": [],
   "source": [
    "df['A'] = 3  # 如果是一个标量会自动全部用这个标量填充"
   ]
  },
  {
   "cell_type": "code",
   "execution_count": 22,
   "metadata": {
    "ExecuteTime": {
     "end_time": "2019-12-10T23:54:07.560944Z",
     "start_time": "2019-12-10T23:54:07.552966Z"
    }
   },
   "outputs": [
    {
     "data": {
      "text/html": [
       "<div>\n",
       "<style scoped>\n",
       "    .dataframe tbody tr th:only-of-type {\n",
       "        vertical-align: middle;\n",
       "    }\n",
       "\n",
       "    .dataframe tbody tr th {\n",
       "        vertical-align: top;\n",
       "    }\n",
       "\n",
       "    .dataframe thead th {\n",
       "        text-align: right;\n",
       "    }\n",
       "</style>\n",
       "<table border=\"1\" class=\"dataframe\">\n",
       "  <thead>\n",
       "    <tr style=\"text-align: right;\">\n",
       "      <th></th>\n",
       "      <th>员工姓名</th>\n",
       "      <th>性别</th>\n",
       "      <th>年龄</th>\n",
       "      <th>基本工资</th>\n",
       "      <th>销售业绩</th>\n",
       "      <th>销售提成</th>\n",
       "      <th>应发工资</th>\n",
       "      <th>出勤天数</th>\n",
       "      <th>A</th>\n",
       "    </tr>\n",
       "  </thead>\n",
       "  <tbody>\n",
       "    <tr>\n",
       "      <th>0</th>\n",
       "      <td>小明</td>\n",
       "      <td>男</td>\n",
       "      <td>23</td>\n",
       "      <td>3500</td>\n",
       "      <td>8000</td>\n",
       "      <td>400.0</td>\n",
       "      <td>3900.0</td>\n",
       "      <td>24</td>\n",
       "      <td>3</td>\n",
       "    </tr>\n",
       "    <tr>\n",
       "      <th>1</th>\n",
       "      <td>小李</td>\n",
       "      <td>男</td>\n",
       "      <td>24</td>\n",
       "      <td>4000</td>\n",
       "      <td>12000</td>\n",
       "      <td>600.0</td>\n",
       "      <td>4600.0</td>\n",
       "      <td>22</td>\n",
       "      <td>3</td>\n",
       "    </tr>\n",
       "    <tr>\n",
       "      <th>2</th>\n",
       "      <td>小红</td>\n",
       "      <td>女</td>\n",
       "      <td>25</td>\n",
       "      <td>4500</td>\n",
       "      <td>6000</td>\n",
       "      <td>300.0</td>\n",
       "      <td>4800.0</td>\n",
       "      <td>23</td>\n",
       "      <td>3</td>\n",
       "    </tr>\n",
       "  </tbody>\n",
       "</table>\n",
       "</div>"
      ],
      "text/plain": [
       "  员工姓名 性别  年龄  基本工资   销售业绩   销售提成    应发工资  出勤天数  A\n",
       "0   小明  男  23  3500   8000  400.0  3900.0    24  3\n",
       "1   小李  男  24  4000  12000  600.0  4600.0    22  3\n",
       "2   小红  女  25  4500   6000  300.0  4800.0    23  3"
      ]
     },
     "execution_count": 22,
     "metadata": {},
     "output_type": "execute_result"
    }
   ],
   "source": [
    "df"
   ]
  },
  {
   "cell_type": "code",
   "execution_count": 23,
   "metadata": {
    "ExecuteTime": {
     "end_time": "2019-12-10T23:54:08.394225Z",
     "start_time": "2019-12-10T23:54:08.389235Z"
    }
   },
   "outputs": [
    {
     "data": {
      "text/plain": [
       "0    3\n",
       "1    3\n",
       "2    3\n",
       "Name: A, dtype: int64"
      ]
     },
     "execution_count": 23,
     "metadata": {},
     "output_type": "execute_result"
    }
   ],
   "source": [
    "df.pop('A')  # 直接会在原表上删除该列， 并会以Series返回该列"
   ]
  },
  {
   "cell_type": "code",
   "execution_count": 24,
   "metadata": {
    "ExecuteTime": {
     "end_time": "2019-12-10T23:54:28.624737Z",
     "start_time": "2019-12-10T23:54:28.617787Z"
    }
   },
   "outputs": [
    {
     "data": {
      "text/html": [
       "<div>\n",
       "<style scoped>\n",
       "    .dataframe tbody tr th:only-of-type {\n",
       "        vertical-align: middle;\n",
       "    }\n",
       "\n",
       "    .dataframe tbody tr th {\n",
       "        vertical-align: top;\n",
       "    }\n",
       "\n",
       "    .dataframe thead th {\n",
       "        text-align: right;\n",
       "    }\n",
       "</style>\n",
       "<table border=\"1\" class=\"dataframe\">\n",
       "  <thead>\n",
       "    <tr style=\"text-align: right;\">\n",
       "      <th></th>\n",
       "      <th>员工姓名</th>\n",
       "      <th>性别</th>\n",
       "      <th>年龄</th>\n",
       "      <th>基本工资</th>\n",
       "      <th>销售业绩</th>\n",
       "      <th>销售提成</th>\n",
       "      <th>应发工资</th>\n",
       "      <th>出勤天数</th>\n",
       "    </tr>\n",
       "  </thead>\n",
       "  <tbody>\n",
       "    <tr>\n",
       "      <th>0</th>\n",
       "      <td>小明</td>\n",
       "      <td>男</td>\n",
       "      <td>23</td>\n",
       "      <td>3500</td>\n",
       "      <td>8000</td>\n",
       "      <td>400.0</td>\n",
       "      <td>3900.0</td>\n",
       "      <td>24</td>\n",
       "    </tr>\n",
       "    <tr>\n",
       "      <th>1</th>\n",
       "      <td>小李</td>\n",
       "      <td>男</td>\n",
       "      <td>24</td>\n",
       "      <td>4000</td>\n",
       "      <td>12000</td>\n",
       "      <td>600.0</td>\n",
       "      <td>4600.0</td>\n",
       "      <td>22</td>\n",
       "    </tr>\n",
       "    <tr>\n",
       "      <th>2</th>\n",
       "      <td>小红</td>\n",
       "      <td>女</td>\n",
       "      <td>25</td>\n",
       "      <td>4500</td>\n",
       "      <td>6000</td>\n",
       "      <td>300.0</td>\n",
       "      <td>4800.0</td>\n",
       "      <td>23</td>\n",
       "    </tr>\n",
       "  </tbody>\n",
       "</table>\n",
       "</div>"
      ],
      "text/plain": [
       "  员工姓名 性别  年龄  基本工资   销售业绩   销售提成    应发工资  出勤天数\n",
       "0   小明  男  23  3500   8000  400.0  3900.0    24\n",
       "1   小李  男  24  4000  12000  600.0  4600.0    22\n",
       "2   小红  女  25  4500   6000  300.0  4800.0    23"
      ]
     },
     "execution_count": 24,
     "metadata": {},
     "output_type": "execute_result"
    }
   ],
   "source": [
    "df"
   ]
  },
  {
   "cell_type": "markdown",
   "metadata": {},
   "source": [
    "### df.drop(coumns=要删除的列名) "
   ]
  },
  {
   "cell_type": "code",
   "execution_count": 25,
   "metadata": {
    "ExecuteTime": {
     "end_time": "2019-12-10T23:54:29.457857Z",
     "start_time": "2019-12-10T23:54:29.451843Z"
    }
   },
   "outputs": [
    {
     "data": {
      "text/html": [
       "<div>\n",
       "<style scoped>\n",
       "    .dataframe tbody tr th:only-of-type {\n",
       "        vertical-align: middle;\n",
       "    }\n",
       "\n",
       "    .dataframe tbody tr th {\n",
       "        vertical-align: top;\n",
       "    }\n",
       "\n",
       "    .dataframe thead th {\n",
       "        text-align: right;\n",
       "    }\n",
       "</style>\n",
       "<table border=\"1\" class=\"dataframe\">\n",
       "  <thead>\n",
       "    <tr style=\"text-align: right;\">\n",
       "      <th></th>\n",
       "      <th>员工姓名</th>\n",
       "      <th>性别</th>\n",
       "      <th>年龄</th>\n",
       "      <th>基本工资</th>\n",
       "      <th>销售业绩</th>\n",
       "      <th>销售提成</th>\n",
       "      <th>应发工资</th>\n",
       "      <th>出勤天数</th>\n",
       "    </tr>\n",
       "  </thead>\n",
       "  <tbody>\n",
       "    <tr>\n",
       "      <th>0</th>\n",
       "      <td>小明</td>\n",
       "      <td>男</td>\n",
       "      <td>23</td>\n",
       "      <td>3500</td>\n",
       "      <td>8000</td>\n",
       "      <td>400.0</td>\n",
       "      <td>3900.0</td>\n",
       "      <td>24</td>\n",
       "    </tr>\n",
       "    <tr>\n",
       "      <th>1</th>\n",
       "      <td>小李</td>\n",
       "      <td>男</td>\n",
       "      <td>24</td>\n",
       "      <td>4000</td>\n",
       "      <td>12000</td>\n",
       "      <td>600.0</td>\n",
       "      <td>4600.0</td>\n",
       "      <td>22</td>\n",
       "    </tr>\n",
       "    <tr>\n",
       "      <th>2</th>\n",
       "      <td>小红</td>\n",
       "      <td>女</td>\n",
       "      <td>25</td>\n",
       "      <td>4500</td>\n",
       "      <td>6000</td>\n",
       "      <td>300.0</td>\n",
       "      <td>4800.0</td>\n",
       "      <td>23</td>\n",
       "    </tr>\n",
       "  </tbody>\n",
       "</table>\n",
       "</div>"
      ],
      "text/plain": [
       "  员工姓名 性别  年龄  基本工资   销售业绩   销售提成    应发工资  出勤天数\n",
       "0   小明  男  23  3500   8000  400.0  3900.0    24\n",
       "1   小李  男  24  4000  12000  600.0  4600.0    22\n",
       "2   小红  女  25  4500   6000  300.0  4800.0    23"
      ]
     },
     "execution_count": 25,
     "metadata": {},
     "output_type": "execute_result"
    }
   ],
   "source": [
    "df"
   ]
  },
  {
   "cell_type": "code",
   "execution_count": 26,
   "metadata": {
    "ExecuteTime": {
     "end_time": "2019-12-10T23:54:32.520845Z",
     "start_time": "2019-12-10T23:54:32.510869Z"
    }
   },
   "outputs": [
    {
     "data": {
      "text/html": [
       "<div>\n",
       "<style scoped>\n",
       "    .dataframe tbody tr th:only-of-type {\n",
       "        vertical-align: middle;\n",
       "    }\n",
       "\n",
       "    .dataframe tbody tr th {\n",
       "        vertical-align: top;\n",
       "    }\n",
       "\n",
       "    .dataframe thead th {\n",
       "        text-align: right;\n",
       "    }\n",
       "</style>\n",
       "<table border=\"1\" class=\"dataframe\">\n",
       "  <thead>\n",
       "    <tr style=\"text-align: right;\">\n",
       "      <th></th>\n",
       "      <th>员工姓名</th>\n",
       "      <th>性别</th>\n",
       "      <th>年龄</th>\n",
       "      <th>基本工资</th>\n",
       "      <th>销售业绩</th>\n",
       "      <th>销售提成</th>\n",
       "      <th>应发工资</th>\n",
       "      <th>出勤天数</th>\n",
       "      <th>a1</th>\n",
       "      <th>a2</th>\n",
       "      <th>a3</th>\n",
       "    </tr>\n",
       "  </thead>\n",
       "  <tbody>\n",
       "    <tr>\n",
       "      <th>0</th>\n",
       "      <td>小明</td>\n",
       "      <td>男</td>\n",
       "      <td>23</td>\n",
       "      <td>3500</td>\n",
       "      <td>8000</td>\n",
       "      <td>400.0</td>\n",
       "      <td>3900.0</td>\n",
       "      <td>24</td>\n",
       "      <td>1</td>\n",
       "      <td>4</td>\n",
       "      <td>7</td>\n",
       "    </tr>\n",
       "    <tr>\n",
       "      <th>1</th>\n",
       "      <td>小李</td>\n",
       "      <td>男</td>\n",
       "      <td>24</td>\n",
       "      <td>4000</td>\n",
       "      <td>12000</td>\n",
       "      <td>600.0</td>\n",
       "      <td>4600.0</td>\n",
       "      <td>22</td>\n",
       "      <td>2</td>\n",
       "      <td>5</td>\n",
       "      <td>8</td>\n",
       "    </tr>\n",
       "    <tr>\n",
       "      <th>2</th>\n",
       "      <td>小红</td>\n",
       "      <td>女</td>\n",
       "      <td>25</td>\n",
       "      <td>4500</td>\n",
       "      <td>6000</td>\n",
       "      <td>300.0</td>\n",
       "      <td>4800.0</td>\n",
       "      <td>23</td>\n",
       "      <td>3</td>\n",
       "      <td>6</td>\n",
       "      <td>9</td>\n",
       "    </tr>\n",
       "  </tbody>\n",
       "</table>\n",
       "</div>"
      ],
      "text/plain": [
       "  员工姓名 性别  年龄  基本工资   销售业绩   销售提成    应发工资  出勤天数  a1  a2  a3\n",
       "0   小明  男  23  3500   8000  400.0  3900.0    24   1   4   7\n",
       "1   小李  男  24  4000  12000  600.0  4600.0    22   2   5   8\n",
       "2   小红  女  25  4500   6000  300.0  4800.0    23   3   6   9"
      ]
     },
     "execution_count": 26,
     "metadata": {},
     "output_type": "execute_result"
    }
   ],
   "source": [
    "df['a1'] = [1, 2, 3]\n",
    "df['a2'] = [4, 5, 6]\n",
    "df['a3'] = [7, 8, 9]\n",
    "df"
   ]
  },
  {
   "cell_type": "code",
   "execution_count": 27,
   "metadata": {
    "ExecuteTime": {
     "end_time": "2019-12-10T23:54:37.385324Z",
     "start_time": "2019-12-10T23:54:37.041890Z"
    }
   },
   "outputs": [
    {
     "data": {
      "text/html": [
       "<div>\n",
       "<style scoped>\n",
       "    .dataframe tbody tr th:only-of-type {\n",
       "        vertical-align: middle;\n",
       "    }\n",
       "\n",
       "    .dataframe tbody tr th {\n",
       "        vertical-align: top;\n",
       "    }\n",
       "\n",
       "    .dataframe thead th {\n",
       "        text-align: right;\n",
       "    }\n",
       "</style>\n",
       "<table border=\"1\" class=\"dataframe\">\n",
       "  <thead>\n",
       "    <tr style=\"text-align: right;\">\n",
       "      <th></th>\n",
       "      <th>员工姓名</th>\n",
       "      <th>性别</th>\n",
       "      <th>年龄</th>\n",
       "      <th>基本工资</th>\n",
       "      <th>销售业绩</th>\n",
       "      <th>销售提成</th>\n",
       "      <th>应发工资</th>\n",
       "      <th>出勤天数</th>\n",
       "      <th>a2</th>\n",
       "      <th>a3</th>\n",
       "    </tr>\n",
       "  </thead>\n",
       "  <tbody>\n",
       "    <tr>\n",
       "      <th>0</th>\n",
       "      <td>小明</td>\n",
       "      <td>男</td>\n",
       "      <td>23</td>\n",
       "      <td>3500</td>\n",
       "      <td>8000</td>\n",
       "      <td>400.0</td>\n",
       "      <td>3900.0</td>\n",
       "      <td>24</td>\n",
       "      <td>4</td>\n",
       "      <td>7</td>\n",
       "    </tr>\n",
       "    <tr>\n",
       "      <th>1</th>\n",
       "      <td>小李</td>\n",
       "      <td>男</td>\n",
       "      <td>24</td>\n",
       "      <td>4000</td>\n",
       "      <td>12000</td>\n",
       "      <td>600.0</td>\n",
       "      <td>4600.0</td>\n",
       "      <td>22</td>\n",
       "      <td>5</td>\n",
       "      <td>8</td>\n",
       "    </tr>\n",
       "    <tr>\n",
       "      <th>2</th>\n",
       "      <td>小红</td>\n",
       "      <td>女</td>\n",
       "      <td>25</td>\n",
       "      <td>4500</td>\n",
       "      <td>6000</td>\n",
       "      <td>300.0</td>\n",
       "      <td>4800.0</td>\n",
       "      <td>23</td>\n",
       "      <td>6</td>\n",
       "      <td>9</td>\n",
       "    </tr>\n",
       "  </tbody>\n",
       "</table>\n",
       "</div>"
      ],
      "text/plain": [
       "  员工姓名 性别  年龄  基本工资   销售业绩   销售提成    应发工资  出勤天数  a2  a3\n",
       "0   小明  男  23  3500   8000  400.0  3900.0    24   4   7\n",
       "1   小李  男  24  4000  12000  600.0  4600.0    22   5   8\n",
       "2   小红  女  25  4500   6000  300.0  4800.0    23   6   9"
      ]
     },
     "execution_count": 27,
     "metadata": {},
     "output_type": "execute_result"
    }
   ],
   "source": [
    "df.drop(columns = 'a1')  #直接这样会返回新的表， 不会改变原来的表"
   ]
  },
  {
   "cell_type": "code",
   "execution_count": 28,
   "metadata": {
    "ExecuteTime": {
     "end_time": "2019-12-10T23:54:39.630792Z",
     "start_time": "2019-12-10T23:54:39.621846Z"
    }
   },
   "outputs": [
    {
     "data": {
      "text/html": [
       "<div>\n",
       "<style scoped>\n",
       "    .dataframe tbody tr th:only-of-type {\n",
       "        vertical-align: middle;\n",
       "    }\n",
       "\n",
       "    .dataframe tbody tr th {\n",
       "        vertical-align: top;\n",
       "    }\n",
       "\n",
       "    .dataframe thead th {\n",
       "        text-align: right;\n",
       "    }\n",
       "</style>\n",
       "<table border=\"1\" class=\"dataframe\">\n",
       "  <thead>\n",
       "    <tr style=\"text-align: right;\">\n",
       "      <th></th>\n",
       "      <th>员工姓名</th>\n",
       "      <th>性别</th>\n",
       "      <th>年龄</th>\n",
       "      <th>基本工资</th>\n",
       "      <th>销售业绩</th>\n",
       "      <th>销售提成</th>\n",
       "      <th>应发工资</th>\n",
       "      <th>出勤天数</th>\n",
       "      <th>a1</th>\n",
       "      <th>a2</th>\n",
       "      <th>a3</th>\n",
       "    </tr>\n",
       "  </thead>\n",
       "  <tbody>\n",
       "    <tr>\n",
       "      <th>0</th>\n",
       "      <td>小明</td>\n",
       "      <td>男</td>\n",
       "      <td>23</td>\n",
       "      <td>3500</td>\n",
       "      <td>8000</td>\n",
       "      <td>400.0</td>\n",
       "      <td>3900.0</td>\n",
       "      <td>24</td>\n",
       "      <td>1</td>\n",
       "      <td>4</td>\n",
       "      <td>7</td>\n",
       "    </tr>\n",
       "    <tr>\n",
       "      <th>1</th>\n",
       "      <td>小李</td>\n",
       "      <td>男</td>\n",
       "      <td>24</td>\n",
       "      <td>4000</td>\n",
       "      <td>12000</td>\n",
       "      <td>600.0</td>\n",
       "      <td>4600.0</td>\n",
       "      <td>22</td>\n",
       "      <td>2</td>\n",
       "      <td>5</td>\n",
       "      <td>8</td>\n",
       "    </tr>\n",
       "    <tr>\n",
       "      <th>2</th>\n",
       "      <td>小红</td>\n",
       "      <td>女</td>\n",
       "      <td>25</td>\n",
       "      <td>4500</td>\n",
       "      <td>6000</td>\n",
       "      <td>300.0</td>\n",
       "      <td>4800.0</td>\n",
       "      <td>23</td>\n",
       "      <td>3</td>\n",
       "      <td>6</td>\n",
       "      <td>9</td>\n",
       "    </tr>\n",
       "  </tbody>\n",
       "</table>\n",
       "</div>"
      ],
      "text/plain": [
       "  员工姓名 性别  年龄  基本工资   销售业绩   销售提成    应发工资  出勤天数  a1  a2  a3\n",
       "0   小明  男  23  3500   8000  400.0  3900.0    24   1   4   7\n",
       "1   小李  男  24  4000  12000  600.0  4600.0    22   2   5   8\n",
       "2   小红  女  25  4500   6000  300.0  4800.0    23   3   6   9"
      ]
     },
     "execution_count": 28,
     "metadata": {},
     "output_type": "execute_result"
    }
   ],
   "source": [
    "df"
   ]
  },
  {
   "cell_type": "code",
   "execution_count": 29,
   "metadata": {
    "ExecuteTime": {
     "end_time": "2019-12-10T23:54:41.769571Z",
     "start_time": "2019-12-10T23:54:41.765546Z"
    }
   },
   "outputs": [],
   "source": [
    "df.drop(columns = 'a1', inplace = True)"
   ]
  },
  {
   "cell_type": "code",
   "execution_count": 30,
   "metadata": {
    "ExecuteTime": {
     "end_time": "2019-12-10T23:54:42.144699Z",
     "start_time": "2019-12-10T23:54:42.137688Z"
    }
   },
   "outputs": [
    {
     "data": {
      "text/html": [
       "<div>\n",
       "<style scoped>\n",
       "    .dataframe tbody tr th:only-of-type {\n",
       "        vertical-align: middle;\n",
       "    }\n",
       "\n",
       "    .dataframe tbody tr th {\n",
       "        vertical-align: top;\n",
       "    }\n",
       "\n",
       "    .dataframe thead th {\n",
       "        text-align: right;\n",
       "    }\n",
       "</style>\n",
       "<table border=\"1\" class=\"dataframe\">\n",
       "  <thead>\n",
       "    <tr style=\"text-align: right;\">\n",
       "      <th></th>\n",
       "      <th>员工姓名</th>\n",
       "      <th>性别</th>\n",
       "      <th>年龄</th>\n",
       "      <th>基本工资</th>\n",
       "      <th>销售业绩</th>\n",
       "      <th>销售提成</th>\n",
       "      <th>应发工资</th>\n",
       "      <th>出勤天数</th>\n",
       "      <th>a2</th>\n",
       "      <th>a3</th>\n",
       "    </tr>\n",
       "  </thead>\n",
       "  <tbody>\n",
       "    <tr>\n",
       "      <th>0</th>\n",
       "      <td>小明</td>\n",
       "      <td>男</td>\n",
       "      <td>23</td>\n",
       "      <td>3500</td>\n",
       "      <td>8000</td>\n",
       "      <td>400.0</td>\n",
       "      <td>3900.0</td>\n",
       "      <td>24</td>\n",
       "      <td>4</td>\n",
       "      <td>7</td>\n",
       "    </tr>\n",
       "    <tr>\n",
       "      <th>1</th>\n",
       "      <td>小李</td>\n",
       "      <td>男</td>\n",
       "      <td>24</td>\n",
       "      <td>4000</td>\n",
       "      <td>12000</td>\n",
       "      <td>600.0</td>\n",
       "      <td>4600.0</td>\n",
       "      <td>22</td>\n",
       "      <td>5</td>\n",
       "      <td>8</td>\n",
       "    </tr>\n",
       "    <tr>\n",
       "      <th>2</th>\n",
       "      <td>小红</td>\n",
       "      <td>女</td>\n",
       "      <td>25</td>\n",
       "      <td>4500</td>\n",
       "      <td>6000</td>\n",
       "      <td>300.0</td>\n",
       "      <td>4800.0</td>\n",
       "      <td>23</td>\n",
       "      <td>6</td>\n",
       "      <td>9</td>\n",
       "    </tr>\n",
       "  </tbody>\n",
       "</table>\n",
       "</div>"
      ],
      "text/plain": [
       "  员工姓名 性别  年龄  基本工资   销售业绩   销售提成    应发工资  出勤天数  a2  a3\n",
       "0   小明  男  23  3500   8000  400.0  3900.0    24   4   7\n",
       "1   小李  男  24  4000  12000  600.0  4600.0    22   5   8\n",
       "2   小红  女  25  4500   6000  300.0  4800.0    23   6   9"
      ]
     },
     "execution_count": 30,
     "metadata": {},
     "output_type": "execute_result"
    }
   ],
   "source": [
    "df"
   ]
  },
  {
   "cell_type": "code",
   "execution_count": 31,
   "metadata": {
    "ExecuteTime": {
     "end_time": "2019-12-10T23:54:44.486717Z",
     "start_time": "2019-12-10T23:54:44.482728Z"
    }
   },
   "outputs": [],
   "source": [
    "df.drop(columns = ['a2', 'a3'], inplace = True)  # 删除多列就给columns传入一个包含列名的列表"
   ]
  },
  {
   "cell_type": "code",
   "execution_count": 32,
   "metadata": {
    "ExecuteTime": {
     "end_time": "2019-12-10T23:54:44.943272Z",
     "start_time": "2019-12-10T23:54:44.936290Z"
    }
   },
   "outputs": [
    {
     "data": {
      "text/html": [
       "<div>\n",
       "<style scoped>\n",
       "    .dataframe tbody tr th:only-of-type {\n",
       "        vertical-align: middle;\n",
       "    }\n",
       "\n",
       "    .dataframe tbody tr th {\n",
       "        vertical-align: top;\n",
       "    }\n",
       "\n",
       "    .dataframe thead th {\n",
       "        text-align: right;\n",
       "    }\n",
       "</style>\n",
       "<table border=\"1\" class=\"dataframe\">\n",
       "  <thead>\n",
       "    <tr style=\"text-align: right;\">\n",
       "      <th></th>\n",
       "      <th>员工姓名</th>\n",
       "      <th>性别</th>\n",
       "      <th>年龄</th>\n",
       "      <th>基本工资</th>\n",
       "      <th>销售业绩</th>\n",
       "      <th>销售提成</th>\n",
       "      <th>应发工资</th>\n",
       "      <th>出勤天数</th>\n",
       "    </tr>\n",
       "  </thead>\n",
       "  <tbody>\n",
       "    <tr>\n",
       "      <th>0</th>\n",
       "      <td>小明</td>\n",
       "      <td>男</td>\n",
       "      <td>23</td>\n",
       "      <td>3500</td>\n",
       "      <td>8000</td>\n",
       "      <td>400.0</td>\n",
       "      <td>3900.0</td>\n",
       "      <td>24</td>\n",
       "    </tr>\n",
       "    <tr>\n",
       "      <th>1</th>\n",
       "      <td>小李</td>\n",
       "      <td>男</td>\n",
       "      <td>24</td>\n",
       "      <td>4000</td>\n",
       "      <td>12000</td>\n",
       "      <td>600.0</td>\n",
       "      <td>4600.0</td>\n",
       "      <td>22</td>\n",
       "    </tr>\n",
       "    <tr>\n",
       "      <th>2</th>\n",
       "      <td>小红</td>\n",
       "      <td>女</td>\n",
       "      <td>25</td>\n",
       "      <td>4500</td>\n",
       "      <td>6000</td>\n",
       "      <td>300.0</td>\n",
       "      <td>4800.0</td>\n",
       "      <td>23</td>\n",
       "    </tr>\n",
       "  </tbody>\n",
       "</table>\n",
       "</div>"
      ],
      "text/plain": [
       "  员工姓名 性别  年龄  基本工资   销售业绩   销售提成    应发工资  出勤天数\n",
       "0   小明  男  23  3500   8000  400.0  3900.0    24\n",
       "1   小李  男  24  4000  12000  600.0  4600.0    22\n",
       "2   小红  女  25  4500   6000  300.0  4800.0    23"
      ]
     },
     "execution_count": 32,
     "metadata": {},
     "output_type": "execute_result"
    }
   ],
   "source": [
    "df"
   ]
  },
  {
   "cell_type": "markdown",
   "metadata": {},
   "source": [
    "## 修改列"
   ]
  },
  {
   "cell_type": "markdown",
   "metadata": {},
   "source": [
    "### 修改列的值 df[要修改的列] = 新值"
   ]
  },
  {
   "cell_type": "code",
   "execution_count": 33,
   "metadata": {
    "ExecuteTime": {
     "end_time": "2019-12-10T23:55:04.322852Z",
     "start_time": "2019-12-10T23:55:04.313884Z"
    }
   },
   "outputs": [
    {
     "data": {
      "text/html": [
       "<div>\n",
       "<style scoped>\n",
       "    .dataframe tbody tr th:only-of-type {\n",
       "        vertical-align: middle;\n",
       "    }\n",
       "\n",
       "    .dataframe tbody tr th {\n",
       "        vertical-align: top;\n",
       "    }\n",
       "\n",
       "    .dataframe thead th {\n",
       "        text-align: right;\n",
       "    }\n",
       "</style>\n",
       "<table border=\"1\" class=\"dataframe\">\n",
       "  <thead>\n",
       "    <tr style=\"text-align: right;\">\n",
       "      <th></th>\n",
       "      <th>员工姓名</th>\n",
       "      <th>性别</th>\n",
       "      <th>年龄</th>\n",
       "      <th>基本工资</th>\n",
       "      <th>销售业绩</th>\n",
       "      <th>销售提成</th>\n",
       "      <th>应发工资</th>\n",
       "      <th>出勤天数</th>\n",
       "    </tr>\n",
       "  </thead>\n",
       "  <tbody>\n",
       "    <tr>\n",
       "      <th>0</th>\n",
       "      <td>小明</td>\n",
       "      <td>男</td>\n",
       "      <td>23</td>\n",
       "      <td>3500</td>\n",
       "      <td>8000</td>\n",
       "      <td>400.0</td>\n",
       "      <td>3900.0</td>\n",
       "      <td>24</td>\n",
       "    </tr>\n",
       "    <tr>\n",
       "      <th>1</th>\n",
       "      <td>小李</td>\n",
       "      <td>男</td>\n",
       "      <td>24</td>\n",
       "      <td>4000</td>\n",
       "      <td>12000</td>\n",
       "      <td>600.0</td>\n",
       "      <td>4600.0</td>\n",
       "      <td>22</td>\n",
       "    </tr>\n",
       "    <tr>\n",
       "      <th>2</th>\n",
       "      <td>小红</td>\n",
       "      <td>女</td>\n",
       "      <td>25</td>\n",
       "      <td>4500</td>\n",
       "      <td>6000</td>\n",
       "      <td>300.0</td>\n",
       "      <td>4800.0</td>\n",
       "      <td>23</td>\n",
       "    </tr>\n",
       "  </tbody>\n",
       "</table>\n",
       "</div>"
      ],
      "text/plain": [
       "  员工姓名 性别  年龄  基本工资   销售业绩   销售提成    应发工资  出勤天数\n",
       "0   小明  男  23  3500   8000  400.0  3900.0    24\n",
       "1   小李  男  24  4000  12000  600.0  4600.0    22\n",
       "2   小红  女  25  4500   6000  300.0  4800.0    23"
      ]
     },
     "execution_count": 33,
     "metadata": {},
     "output_type": "execute_result"
    }
   ],
   "source": [
    "df"
   ]
  },
  {
   "cell_type": "markdown",
   "metadata": {},
   "source": [
    "**比如， 现在老板把业绩的提成从5%升到10%**"
   ]
  },
  {
   "cell_type": "code",
   "execution_count": 34,
   "metadata": {
    "ExecuteTime": {
     "end_time": "2019-12-10T23:55:06.186172Z",
     "start_time": "2019-12-10T23:55:06.182183Z"
    }
   },
   "outputs": [],
   "source": [
    "df['销售提成'] = df.销售业绩*0.1"
   ]
  },
  {
   "cell_type": "code",
   "execution_count": 35,
   "metadata": {
    "ExecuteTime": {
     "end_time": "2019-12-10T23:55:08.823335Z",
     "start_time": "2019-12-10T23:55:08.816354Z"
    }
   },
   "outputs": [
    {
     "data": {
      "text/html": [
       "<div>\n",
       "<style scoped>\n",
       "    .dataframe tbody tr th:only-of-type {\n",
       "        vertical-align: middle;\n",
       "    }\n",
       "\n",
       "    .dataframe tbody tr th {\n",
       "        vertical-align: top;\n",
       "    }\n",
       "\n",
       "    .dataframe thead th {\n",
       "        text-align: right;\n",
       "    }\n",
       "</style>\n",
       "<table border=\"1\" class=\"dataframe\">\n",
       "  <thead>\n",
       "    <tr style=\"text-align: right;\">\n",
       "      <th></th>\n",
       "      <th>员工姓名</th>\n",
       "      <th>性别</th>\n",
       "      <th>年龄</th>\n",
       "      <th>基本工资</th>\n",
       "      <th>销售业绩</th>\n",
       "      <th>销售提成</th>\n",
       "      <th>应发工资</th>\n",
       "      <th>出勤天数</th>\n",
       "    </tr>\n",
       "  </thead>\n",
       "  <tbody>\n",
       "    <tr>\n",
       "      <th>0</th>\n",
       "      <td>小明</td>\n",
       "      <td>男</td>\n",
       "      <td>23</td>\n",
       "      <td>3500</td>\n",
       "      <td>8000</td>\n",
       "      <td>800.0</td>\n",
       "      <td>3900.0</td>\n",
       "      <td>24</td>\n",
       "    </tr>\n",
       "    <tr>\n",
       "      <th>1</th>\n",
       "      <td>小李</td>\n",
       "      <td>男</td>\n",
       "      <td>24</td>\n",
       "      <td>4000</td>\n",
       "      <td>12000</td>\n",
       "      <td>1200.0</td>\n",
       "      <td>4600.0</td>\n",
       "      <td>22</td>\n",
       "    </tr>\n",
       "    <tr>\n",
       "      <th>2</th>\n",
       "      <td>小红</td>\n",
       "      <td>女</td>\n",
       "      <td>25</td>\n",
       "      <td>4500</td>\n",
       "      <td>6000</td>\n",
       "      <td>600.0</td>\n",
       "      <td>4800.0</td>\n",
       "      <td>23</td>\n",
       "    </tr>\n",
       "  </tbody>\n",
       "</table>\n",
       "</div>"
      ],
      "text/plain": [
       "  员工姓名 性别  年龄  基本工资   销售业绩    销售提成    应发工资  出勤天数\n",
       "0   小明  男  23  3500   8000   800.0  3900.0    24\n",
       "1   小李  男  24  4000  12000  1200.0  4600.0    22\n",
       "2   小红  女  25  4500   6000   600.0  4800.0    23"
      ]
     },
     "execution_count": 35,
     "metadata": {},
     "output_type": "execute_result"
    }
   ],
   "source": [
    "df"
   ]
  },
  {
   "cell_type": "markdown",
   "metadata": {},
   "source": [
    "### 修改列的名"
   ]
  },
  {
   "cell_type": "markdown",
   "metadata": {},
   "source": [
    "#### df.columns =  包含新列名的列表\n",
    "修改全部列的名字"
   ]
  },
  {
   "cell_type": "code",
   "execution_count": 36,
   "metadata": {
    "ExecuteTime": {
     "end_time": "2019-12-10T23:55:12.316853Z",
     "start_time": "2019-12-10T23:55:12.309846Z"
    }
   },
   "outputs": [
    {
     "data": {
      "text/html": [
       "<div>\n",
       "<style scoped>\n",
       "    .dataframe tbody tr th:only-of-type {\n",
       "        vertical-align: middle;\n",
       "    }\n",
       "\n",
       "    .dataframe tbody tr th {\n",
       "        vertical-align: top;\n",
       "    }\n",
       "\n",
       "    .dataframe thead th {\n",
       "        text-align: right;\n",
       "    }\n",
       "</style>\n",
       "<table border=\"1\" class=\"dataframe\">\n",
       "  <thead>\n",
       "    <tr style=\"text-align: right;\">\n",
       "      <th></th>\n",
       "      <th>员工姓名</th>\n",
       "      <th>性别</th>\n",
       "      <th>年龄</th>\n",
       "      <th>基本工资</th>\n",
       "      <th>销售业绩</th>\n",
       "      <th>销售提成</th>\n",
       "      <th>应发工资</th>\n",
       "      <th>出勤天数</th>\n",
       "    </tr>\n",
       "  </thead>\n",
       "  <tbody>\n",
       "    <tr>\n",
       "      <th>0</th>\n",
       "      <td>小明</td>\n",
       "      <td>男</td>\n",
       "      <td>23</td>\n",
       "      <td>3500</td>\n",
       "      <td>8000</td>\n",
       "      <td>800.0</td>\n",
       "      <td>3900.0</td>\n",
       "      <td>24</td>\n",
       "    </tr>\n",
       "    <tr>\n",
       "      <th>1</th>\n",
       "      <td>小李</td>\n",
       "      <td>男</td>\n",
       "      <td>24</td>\n",
       "      <td>4000</td>\n",
       "      <td>12000</td>\n",
       "      <td>1200.0</td>\n",
       "      <td>4600.0</td>\n",
       "      <td>22</td>\n",
       "    </tr>\n",
       "    <tr>\n",
       "      <th>2</th>\n",
       "      <td>小红</td>\n",
       "      <td>女</td>\n",
       "      <td>25</td>\n",
       "      <td>4500</td>\n",
       "      <td>6000</td>\n",
       "      <td>600.0</td>\n",
       "      <td>4800.0</td>\n",
       "      <td>23</td>\n",
       "    </tr>\n",
       "  </tbody>\n",
       "</table>\n",
       "</div>"
      ],
      "text/plain": [
       "  员工姓名 性别  年龄  基本工资   销售业绩    销售提成    应发工资  出勤天数\n",
       "0   小明  男  23  3500   8000   800.0  3900.0    24\n",
       "1   小李  男  24  4000  12000  1200.0  4600.0    22\n",
       "2   小红  女  25  4500   6000   600.0  4800.0    23"
      ]
     },
     "execution_count": 36,
     "metadata": {},
     "output_type": "execute_result"
    }
   ],
   "source": [
    "df1 = df.copy()\n",
    "df1"
   ]
  },
  {
   "cell_type": "code",
   "execution_count": 37,
   "metadata": {
    "ExecuteTime": {
     "end_time": "2019-12-10T23:55:28.198710Z",
     "start_time": "2019-12-10T23:55:28.192757Z"
    }
   },
   "outputs": [],
   "source": [
    "df1.columns = ['a', 'b', 'c', 'd', 'e', 'f', 'g', 'h']   # 直接在原列表上修改"
   ]
  },
  {
   "cell_type": "code",
   "execution_count": 38,
   "metadata": {
    "ExecuteTime": {
     "end_time": "2019-12-10T23:55:28.991533Z",
     "start_time": "2019-12-10T23:55:28.984551Z"
    }
   },
   "outputs": [
    {
     "data": {
      "text/html": [
       "<div>\n",
       "<style scoped>\n",
       "    .dataframe tbody tr th:only-of-type {\n",
       "        vertical-align: middle;\n",
       "    }\n",
       "\n",
       "    .dataframe tbody tr th {\n",
       "        vertical-align: top;\n",
       "    }\n",
       "\n",
       "    .dataframe thead th {\n",
       "        text-align: right;\n",
       "    }\n",
       "</style>\n",
       "<table border=\"1\" class=\"dataframe\">\n",
       "  <thead>\n",
       "    <tr style=\"text-align: right;\">\n",
       "      <th></th>\n",
       "      <th>a</th>\n",
       "      <th>b</th>\n",
       "      <th>c</th>\n",
       "      <th>d</th>\n",
       "      <th>e</th>\n",
       "      <th>f</th>\n",
       "      <th>g</th>\n",
       "      <th>h</th>\n",
       "    </tr>\n",
       "  </thead>\n",
       "  <tbody>\n",
       "    <tr>\n",
       "      <th>0</th>\n",
       "      <td>小明</td>\n",
       "      <td>男</td>\n",
       "      <td>23</td>\n",
       "      <td>3500</td>\n",
       "      <td>8000</td>\n",
       "      <td>800.0</td>\n",
       "      <td>3900.0</td>\n",
       "      <td>24</td>\n",
       "    </tr>\n",
       "    <tr>\n",
       "      <th>1</th>\n",
       "      <td>小李</td>\n",
       "      <td>男</td>\n",
       "      <td>24</td>\n",
       "      <td>4000</td>\n",
       "      <td>12000</td>\n",
       "      <td>1200.0</td>\n",
       "      <td>4600.0</td>\n",
       "      <td>22</td>\n",
       "    </tr>\n",
       "    <tr>\n",
       "      <th>2</th>\n",
       "      <td>小红</td>\n",
       "      <td>女</td>\n",
       "      <td>25</td>\n",
       "      <td>4500</td>\n",
       "      <td>6000</td>\n",
       "      <td>600.0</td>\n",
       "      <td>4800.0</td>\n",
       "      <td>23</td>\n",
       "    </tr>\n",
       "  </tbody>\n",
       "</table>\n",
       "</div>"
      ],
      "text/plain": [
       "    a  b   c     d      e       f       g   h\n",
       "0  小明  男  23  3500   8000   800.0  3900.0  24\n",
       "1  小李  男  24  4000  12000  1200.0  4600.0  22\n",
       "2  小红  女  25  4500   6000   600.0  4800.0  23"
      ]
     },
     "execution_count": 38,
     "metadata": {},
     "output_type": "execute_result"
    }
   ],
   "source": [
    "df1"
   ]
  },
  {
   "cell_type": "markdown",
   "metadata": {},
   "source": [
    "#### df.rename()   \n",
    "单独修改某些列的名字"
   ]
  },
  {
   "cell_type": "code",
   "execution_count": 39,
   "metadata": {
    "ExecuteTime": {
     "end_time": "2019-12-10T23:55:35.427629Z",
     "start_time": "2019-12-10T23:55:35.420647Z"
    }
   },
   "outputs": [
    {
     "data": {
      "text/html": [
       "<div>\n",
       "<style scoped>\n",
       "    .dataframe tbody tr th:only-of-type {\n",
       "        vertical-align: middle;\n",
       "    }\n",
       "\n",
       "    .dataframe tbody tr th {\n",
       "        vertical-align: top;\n",
       "    }\n",
       "\n",
       "    .dataframe thead th {\n",
       "        text-align: right;\n",
       "    }\n",
       "</style>\n",
       "<table border=\"1\" class=\"dataframe\">\n",
       "  <thead>\n",
       "    <tr style=\"text-align: right;\">\n",
       "      <th></th>\n",
       "      <th>员工姓名</th>\n",
       "      <th>性别</th>\n",
       "      <th>年龄</th>\n",
       "      <th>基本工资</th>\n",
       "      <th>销售业绩</th>\n",
       "      <th>销售提成</th>\n",
       "      <th>应发工资</th>\n",
       "      <th>出勤天数</th>\n",
       "    </tr>\n",
       "  </thead>\n",
       "  <tbody>\n",
       "    <tr>\n",
       "      <th>0</th>\n",
       "      <td>小明</td>\n",
       "      <td>男</td>\n",
       "      <td>23</td>\n",
       "      <td>3500</td>\n",
       "      <td>8000</td>\n",
       "      <td>800.0</td>\n",
       "      <td>3900.0</td>\n",
       "      <td>24</td>\n",
       "    </tr>\n",
       "    <tr>\n",
       "      <th>1</th>\n",
       "      <td>小李</td>\n",
       "      <td>男</td>\n",
       "      <td>24</td>\n",
       "      <td>4000</td>\n",
       "      <td>12000</td>\n",
       "      <td>1200.0</td>\n",
       "      <td>4600.0</td>\n",
       "      <td>22</td>\n",
       "    </tr>\n",
       "    <tr>\n",
       "      <th>2</th>\n",
       "      <td>小红</td>\n",
       "      <td>女</td>\n",
       "      <td>25</td>\n",
       "      <td>4500</td>\n",
       "      <td>6000</td>\n",
       "      <td>600.0</td>\n",
       "      <td>4800.0</td>\n",
       "      <td>23</td>\n",
       "    </tr>\n",
       "  </tbody>\n",
       "</table>\n",
       "</div>"
      ],
      "text/plain": [
       "  员工姓名 性别  年龄  基本工资   销售业绩    销售提成    应发工资  出勤天数\n",
       "0   小明  男  23  3500   8000   800.0  3900.0    24\n",
       "1   小李  男  24  4000  12000  1200.0  4600.0    22\n",
       "2   小红  女  25  4500   6000   600.0  4800.0    23"
      ]
     },
     "execution_count": 39,
     "metadata": {},
     "output_type": "execute_result"
    }
   ],
   "source": [
    "df2 = df.copy()\n",
    "df2"
   ]
  },
  {
   "cell_type": "markdown",
   "metadata": {},
   "source": [
    "比如把**应发工资**改变成**实发工资**"
   ]
  },
  {
   "cell_type": "code",
   "execution_count": 40,
   "metadata": {
    "ExecuteTime": {
     "end_time": "2019-12-10T23:55:43.072424Z",
     "start_time": "2019-12-10T23:55:43.068435Z"
    }
   },
   "outputs": [],
   "source": [
    "df2.rename(columns = {'应发工资':'实发工资'}, inplace=True)"
   ]
  },
  {
   "cell_type": "code",
   "execution_count": 41,
   "metadata": {
    "ExecuteTime": {
     "end_time": "2019-12-10T23:55:44.031229Z",
     "start_time": "2019-12-10T23:55:44.024248Z"
    }
   },
   "outputs": [
    {
     "data": {
      "text/html": [
       "<div>\n",
       "<style scoped>\n",
       "    .dataframe tbody tr th:only-of-type {\n",
       "        vertical-align: middle;\n",
       "    }\n",
       "\n",
       "    .dataframe tbody tr th {\n",
       "        vertical-align: top;\n",
       "    }\n",
       "\n",
       "    .dataframe thead th {\n",
       "        text-align: right;\n",
       "    }\n",
       "</style>\n",
       "<table border=\"1\" class=\"dataframe\">\n",
       "  <thead>\n",
       "    <tr style=\"text-align: right;\">\n",
       "      <th></th>\n",
       "      <th>员工姓名</th>\n",
       "      <th>性别</th>\n",
       "      <th>年龄</th>\n",
       "      <th>基本工资</th>\n",
       "      <th>销售业绩</th>\n",
       "      <th>销售提成</th>\n",
       "      <th>实发工资</th>\n",
       "      <th>出勤天数</th>\n",
       "    </tr>\n",
       "  </thead>\n",
       "  <tbody>\n",
       "    <tr>\n",
       "      <th>0</th>\n",
       "      <td>小明</td>\n",
       "      <td>男</td>\n",
       "      <td>23</td>\n",
       "      <td>3500</td>\n",
       "      <td>8000</td>\n",
       "      <td>800.0</td>\n",
       "      <td>3900.0</td>\n",
       "      <td>24</td>\n",
       "    </tr>\n",
       "    <tr>\n",
       "      <th>1</th>\n",
       "      <td>小李</td>\n",
       "      <td>男</td>\n",
       "      <td>24</td>\n",
       "      <td>4000</td>\n",
       "      <td>12000</td>\n",
       "      <td>1200.0</td>\n",
       "      <td>4600.0</td>\n",
       "      <td>22</td>\n",
       "    </tr>\n",
       "    <tr>\n",
       "      <th>2</th>\n",
       "      <td>小红</td>\n",
       "      <td>女</td>\n",
       "      <td>25</td>\n",
       "      <td>4500</td>\n",
       "      <td>6000</td>\n",
       "      <td>600.0</td>\n",
       "      <td>4800.0</td>\n",
       "      <td>23</td>\n",
       "    </tr>\n",
       "  </tbody>\n",
       "</table>\n",
       "</div>"
      ],
      "text/plain": [
       "  员工姓名 性别  年龄  基本工资   销售业绩    销售提成    实发工资  出勤天数\n",
       "0   小明  男  23  3500   8000   800.0  3900.0    24\n",
       "1   小李  男  24  4000  12000  1200.0  4600.0    22\n",
       "2   小红  女  25  4500   6000   600.0  4800.0    23"
      ]
     },
     "execution_count": 41,
     "metadata": {},
     "output_type": "execute_result"
    }
   ],
   "source": [
    "df2"
   ]
  },
  {
   "cell_type": "markdown",
   "metadata": {},
   "source": [
    "## 去重列"
   ]
  },
  {
   "cell_type": "code",
   "execution_count": 42,
   "metadata": {},
   "outputs": [
    {
     "data": {
      "text/html": [
       "<div>\n",
       "<style scoped>\n",
       "    .dataframe tbody tr th:only-of-type {\n",
       "        vertical-align: middle;\n",
       "    }\n",
       "\n",
       "    .dataframe tbody tr th {\n",
       "        vertical-align: top;\n",
       "    }\n",
       "\n",
       "    .dataframe thead th {\n",
       "        text-align: right;\n",
       "    }\n",
       "</style>\n",
       "<table border=\"1\" class=\"dataframe\">\n",
       "  <thead>\n",
       "    <tr style=\"text-align: right;\">\n",
       "      <th></th>\n",
       "      <th>员工姓名</th>\n",
       "      <th>性别</th>\n",
       "      <th>年龄</th>\n",
       "      <th>基本工资</th>\n",
       "      <th>销售业绩</th>\n",
       "      <th>销售提成</th>\n",
       "      <th>应发工资</th>\n",
       "      <th>出勤天数</th>\n",
       "    </tr>\n",
       "  </thead>\n",
       "  <tbody>\n",
       "    <tr>\n",
       "      <th>0</th>\n",
       "      <td>小明</td>\n",
       "      <td>男</td>\n",
       "      <td>23</td>\n",
       "      <td>3500</td>\n",
       "      <td>8000</td>\n",
       "      <td>800.0</td>\n",
       "      <td>3900.0</td>\n",
       "      <td>24</td>\n",
       "    </tr>\n",
       "    <tr>\n",
       "      <th>1</th>\n",
       "      <td>小李</td>\n",
       "      <td>男</td>\n",
       "      <td>24</td>\n",
       "      <td>4000</td>\n",
       "      <td>12000</td>\n",
       "      <td>1200.0</td>\n",
       "      <td>4600.0</td>\n",
       "      <td>22</td>\n",
       "    </tr>\n",
       "    <tr>\n",
       "      <th>2</th>\n",
       "      <td>小红</td>\n",
       "      <td>女</td>\n",
       "      <td>25</td>\n",
       "      <td>4500</td>\n",
       "      <td>6000</td>\n",
       "      <td>600.0</td>\n",
       "      <td>4800.0</td>\n",
       "      <td>23</td>\n",
       "    </tr>\n",
       "  </tbody>\n",
       "</table>\n",
       "</div>"
      ],
      "text/plain": [
       "  员工姓名 性别  年龄  基本工资   销售业绩    销售提成    应发工资  出勤天数\n",
       "0   小明  男  23  3500   8000   800.0  3900.0    24\n",
       "1   小李  男  24  4000  12000  1200.0  4600.0    22\n",
       "2   小红  女  25  4500   6000   600.0  4800.0    23"
      ]
     },
     "execution_count": 42,
     "metadata": {},
     "output_type": "execute_result"
    }
   ],
   "source": [
    "df"
   ]
  },
  {
   "cell_type": "code",
   "execution_count": 43,
   "metadata": {},
   "outputs": [],
   "source": [
    "df.insert(2, '性别', df.性别, allow_duplicates=True)"
   ]
  },
  {
   "cell_type": "code",
   "execution_count": 44,
   "metadata": {},
   "outputs": [
    {
     "data": {
      "text/html": [
       "<div>\n",
       "<style scoped>\n",
       "    .dataframe tbody tr th:only-of-type {\n",
       "        vertical-align: middle;\n",
       "    }\n",
       "\n",
       "    .dataframe tbody tr th {\n",
       "        vertical-align: top;\n",
       "    }\n",
       "\n",
       "    .dataframe thead th {\n",
       "        text-align: right;\n",
       "    }\n",
       "</style>\n",
       "<table border=\"1\" class=\"dataframe\">\n",
       "  <thead>\n",
       "    <tr style=\"text-align: right;\">\n",
       "      <th></th>\n",
       "      <th>员工姓名</th>\n",
       "      <th>性别</th>\n",
       "      <th>性别</th>\n",
       "      <th>年龄</th>\n",
       "      <th>基本工资</th>\n",
       "      <th>销售业绩</th>\n",
       "      <th>销售提成</th>\n",
       "      <th>应发工资</th>\n",
       "      <th>出勤天数</th>\n",
       "    </tr>\n",
       "  </thead>\n",
       "  <tbody>\n",
       "    <tr>\n",
       "      <th>0</th>\n",
       "      <td>小明</td>\n",
       "      <td>男</td>\n",
       "      <td>男</td>\n",
       "      <td>23</td>\n",
       "      <td>3500</td>\n",
       "      <td>8000</td>\n",
       "      <td>800.0</td>\n",
       "      <td>3900.0</td>\n",
       "      <td>24</td>\n",
       "    </tr>\n",
       "    <tr>\n",
       "      <th>1</th>\n",
       "      <td>小李</td>\n",
       "      <td>男</td>\n",
       "      <td>男</td>\n",
       "      <td>24</td>\n",
       "      <td>4000</td>\n",
       "      <td>12000</td>\n",
       "      <td>1200.0</td>\n",
       "      <td>4600.0</td>\n",
       "      <td>22</td>\n",
       "    </tr>\n",
       "    <tr>\n",
       "      <th>2</th>\n",
       "      <td>小红</td>\n",
       "      <td>女</td>\n",
       "      <td>女</td>\n",
       "      <td>25</td>\n",
       "      <td>4500</td>\n",
       "      <td>6000</td>\n",
       "      <td>600.0</td>\n",
       "      <td>4800.0</td>\n",
       "      <td>23</td>\n",
       "    </tr>\n",
       "  </tbody>\n",
       "</table>\n",
       "</div>"
      ],
      "text/plain": [
       "  员工姓名 性别 性别  年龄  基本工资   销售业绩    销售提成    应发工资  出勤天数\n",
       "0   小明  男  男  23  3500   8000   800.0  3900.0    24\n",
       "1   小李  男  男  24  4000  12000  1200.0  4600.0    22\n",
       "2   小红  女  女  25  4500   6000   600.0  4800.0    23"
      ]
     },
     "execution_count": 44,
     "metadata": {},
     "output_type": "execute_result"
    }
   ],
   "source": [
    "df"
   ]
  },
  {
   "cell_type": "code",
   "execution_count": 45,
   "metadata": {},
   "outputs": [
    {
     "data": {
      "text/html": [
       "<div>\n",
       "<style scoped>\n",
       "    .dataframe tbody tr th:only-of-type {\n",
       "        vertical-align: middle;\n",
       "    }\n",
       "\n",
       "    .dataframe tbody tr th {\n",
       "        vertical-align: top;\n",
       "    }\n",
       "\n",
       "    .dataframe thead th {\n",
       "        text-align: right;\n",
       "    }\n",
       "</style>\n",
       "<table border=\"1\" class=\"dataframe\">\n",
       "  <thead>\n",
       "    <tr style=\"text-align: right;\">\n",
       "      <th></th>\n",
       "      <th>员工姓名</th>\n",
       "      <th>性别</th>\n",
       "      <th>年龄</th>\n",
       "      <th>基本工资</th>\n",
       "      <th>销售业绩</th>\n",
       "      <th>销售提成</th>\n",
       "      <th>应发工资</th>\n",
       "      <th>出勤天数</th>\n",
       "    </tr>\n",
       "  </thead>\n",
       "  <tbody>\n",
       "    <tr>\n",
       "      <th>0</th>\n",
       "      <td>小明</td>\n",
       "      <td>男</td>\n",
       "      <td>23</td>\n",
       "      <td>3500</td>\n",
       "      <td>8000</td>\n",
       "      <td>800</td>\n",
       "      <td>3900</td>\n",
       "      <td>24</td>\n",
       "    </tr>\n",
       "    <tr>\n",
       "      <th>1</th>\n",
       "      <td>小李</td>\n",
       "      <td>男</td>\n",
       "      <td>24</td>\n",
       "      <td>4000</td>\n",
       "      <td>12000</td>\n",
       "      <td>1200</td>\n",
       "      <td>4600</td>\n",
       "      <td>22</td>\n",
       "    </tr>\n",
       "    <tr>\n",
       "      <th>2</th>\n",
       "      <td>小红</td>\n",
       "      <td>女</td>\n",
       "      <td>25</td>\n",
       "      <td>4500</td>\n",
       "      <td>6000</td>\n",
       "      <td>600</td>\n",
       "      <td>4800</td>\n",
       "      <td>23</td>\n",
       "    </tr>\n",
       "  </tbody>\n",
       "</table>\n",
       "</div>"
      ],
      "text/plain": [
       "  员工姓名 性别  年龄  基本工资   销售业绩  销售提成  应发工资 出勤天数\n",
       "0   小明  男  23  3500   8000   800  3900   24\n",
       "1   小李  男  24  4000  12000  1200  4600   22\n",
       "2   小红  女  25  4500   6000   600  4800   23"
      ]
     },
     "execution_count": 45,
     "metadata": {},
     "output_type": "execute_result"
    }
   ],
   "source": [
    "df.T.drop_duplicates().T"
   ]
  },
  {
   "cell_type": "markdown",
   "metadata": {},
   "source": [
    "# 行操作"
   ]
  },
  {
   "cell_type": "markdown",
   "metadata": {},
   "source": [
    "## 增加行"
   ]
  },
  {
   "cell_type": "code",
   "execution_count": 46,
   "metadata": {},
   "outputs": [
    {
     "data": {
      "text/html": [
       "<div>\n",
       "<style scoped>\n",
       "    .dataframe tbody tr th:only-of-type {\n",
       "        vertical-align: middle;\n",
       "    }\n",
       "\n",
       "    .dataframe tbody tr th {\n",
       "        vertical-align: top;\n",
       "    }\n",
       "\n",
       "    .dataframe thead th {\n",
       "        text-align: right;\n",
       "    }\n",
       "</style>\n",
       "<table border=\"1\" class=\"dataframe\">\n",
       "  <thead>\n",
       "    <tr style=\"text-align: right;\">\n",
       "      <th></th>\n",
       "      <th>员工姓名</th>\n",
       "      <th>性别</th>\n",
       "      <th>年龄</th>\n",
       "      <th>基本工资</th>\n",
       "      <th>销售业绩</th>\n",
       "      <th>销售提成</th>\n",
       "      <th>应发工资</th>\n",
       "      <th>出勤天数</th>\n",
       "    </tr>\n",
       "  </thead>\n",
       "  <tbody>\n",
       "    <tr>\n",
       "      <th>0</th>\n",
       "      <td>小明</td>\n",
       "      <td>男</td>\n",
       "      <td>23</td>\n",
       "      <td>3500</td>\n",
       "      <td>8000</td>\n",
       "      <td>800</td>\n",
       "      <td>3900</td>\n",
       "      <td>24</td>\n",
       "    </tr>\n",
       "    <tr>\n",
       "      <th>1</th>\n",
       "      <td>小李</td>\n",
       "      <td>男</td>\n",
       "      <td>24</td>\n",
       "      <td>4000</td>\n",
       "      <td>12000</td>\n",
       "      <td>1200</td>\n",
       "      <td>4600</td>\n",
       "      <td>22</td>\n",
       "    </tr>\n",
       "    <tr>\n",
       "      <th>2</th>\n",
       "      <td>小红</td>\n",
       "      <td>女</td>\n",
       "      <td>25</td>\n",
       "      <td>4500</td>\n",
       "      <td>6000</td>\n",
       "      <td>600</td>\n",
       "      <td>4800</td>\n",
       "      <td>23</td>\n",
       "    </tr>\n",
       "  </tbody>\n",
       "</table>\n",
       "</div>"
      ],
      "text/plain": [
       "  员工姓名 性别  年龄  基本工资   销售业绩  销售提成  应发工资 出勤天数\n",
       "0   小明  男  23  3500   8000   800  3900   24\n",
       "1   小李  男  24  4000  12000  1200  4600   22\n",
       "2   小红  女  25  4500   6000   600  4800   23"
      ]
     },
     "execution_count": 46,
     "metadata": {},
     "output_type": "execute_result"
    }
   ],
   "source": [
    "df = df.T.drop_duplicates().T\n",
    "df"
   ]
  },
  {
   "cell_type": "code",
   "execution_count": 47,
   "metadata": {},
   "outputs": [],
   "source": [
    "df.loc[3] = ['小兰', '女', 18, 10000, 10000, 1000, 4000, 20]"
   ]
  },
  {
   "cell_type": "code",
   "execution_count": 48,
   "metadata": {},
   "outputs": [
    {
     "data": {
      "text/html": [
       "<div>\n",
       "<style scoped>\n",
       "    .dataframe tbody tr th:only-of-type {\n",
       "        vertical-align: middle;\n",
       "    }\n",
       "\n",
       "    .dataframe tbody tr th {\n",
       "        vertical-align: top;\n",
       "    }\n",
       "\n",
       "    .dataframe thead th {\n",
       "        text-align: right;\n",
       "    }\n",
       "</style>\n",
       "<table border=\"1\" class=\"dataframe\">\n",
       "  <thead>\n",
       "    <tr style=\"text-align: right;\">\n",
       "      <th></th>\n",
       "      <th>员工姓名</th>\n",
       "      <th>性别</th>\n",
       "      <th>年龄</th>\n",
       "      <th>基本工资</th>\n",
       "      <th>销售业绩</th>\n",
       "      <th>销售提成</th>\n",
       "      <th>应发工资</th>\n",
       "      <th>出勤天数</th>\n",
       "    </tr>\n",
       "  </thead>\n",
       "  <tbody>\n",
       "    <tr>\n",
       "      <th>0</th>\n",
       "      <td>小明</td>\n",
       "      <td>男</td>\n",
       "      <td>23</td>\n",
       "      <td>3500</td>\n",
       "      <td>8000</td>\n",
       "      <td>800</td>\n",
       "      <td>3900</td>\n",
       "      <td>24</td>\n",
       "    </tr>\n",
       "    <tr>\n",
       "      <th>1</th>\n",
       "      <td>小李</td>\n",
       "      <td>男</td>\n",
       "      <td>24</td>\n",
       "      <td>4000</td>\n",
       "      <td>12000</td>\n",
       "      <td>1200</td>\n",
       "      <td>4600</td>\n",
       "      <td>22</td>\n",
       "    </tr>\n",
       "    <tr>\n",
       "      <th>2</th>\n",
       "      <td>小红</td>\n",
       "      <td>女</td>\n",
       "      <td>25</td>\n",
       "      <td>4500</td>\n",
       "      <td>6000</td>\n",
       "      <td>600</td>\n",
       "      <td>4800</td>\n",
       "      <td>23</td>\n",
       "    </tr>\n",
       "    <tr>\n",
       "      <th>3</th>\n",
       "      <td>小兰</td>\n",
       "      <td>女</td>\n",
       "      <td>18</td>\n",
       "      <td>10000</td>\n",
       "      <td>10000</td>\n",
       "      <td>1000</td>\n",
       "      <td>4000</td>\n",
       "      <td>20</td>\n",
       "    </tr>\n",
       "  </tbody>\n",
       "</table>\n",
       "</div>"
      ],
      "text/plain": [
       "  员工姓名 性别  年龄   基本工资   销售业绩  销售提成  应发工资 出勤天数\n",
       "0   小明  男  23   3500   8000   800  3900   24\n",
       "1   小李  男  24   4000  12000  1200  4600   22\n",
       "2   小红  女  25   4500   6000   600  4800   23\n",
       "3   小兰  女  18  10000  10000  1000  4000   20"
      ]
     },
     "execution_count": 48,
     "metadata": {},
     "output_type": "execute_result"
    }
   ],
   "source": [
    "df"
   ]
  },
  {
   "cell_type": "markdown",
   "metadata": {},
   "source": [
    "## 删除行"
   ]
  },
  {
   "cell_type": "code",
   "execution_count": 49,
   "metadata": {},
   "outputs": [],
   "source": [
    "df.loc[4] = ['小兰', '女', 18, 10000, 10000, 1000, 4000, 20]\n",
    "df.loc[5] = ['小兰', '女', 18, 10000, 10000, 1000, 4000, 20]\n",
    "df.loc[6] = ['小兰', '女', 18, 10000, 10000, 1000, 4000, 20]"
   ]
  },
  {
   "cell_type": "code",
   "execution_count": 50,
   "metadata": {},
   "outputs": [
    {
     "data": {
      "text/html": [
       "<div>\n",
       "<style scoped>\n",
       "    .dataframe tbody tr th:only-of-type {\n",
       "        vertical-align: middle;\n",
       "    }\n",
       "\n",
       "    .dataframe tbody tr th {\n",
       "        vertical-align: top;\n",
       "    }\n",
       "\n",
       "    .dataframe thead th {\n",
       "        text-align: right;\n",
       "    }\n",
       "</style>\n",
       "<table border=\"1\" class=\"dataframe\">\n",
       "  <thead>\n",
       "    <tr style=\"text-align: right;\">\n",
       "      <th></th>\n",
       "      <th>员工姓名</th>\n",
       "      <th>性别</th>\n",
       "      <th>年龄</th>\n",
       "      <th>基本工资</th>\n",
       "      <th>销售业绩</th>\n",
       "      <th>销售提成</th>\n",
       "      <th>应发工资</th>\n",
       "      <th>出勤天数</th>\n",
       "    </tr>\n",
       "  </thead>\n",
       "  <tbody>\n",
       "    <tr>\n",
       "      <th>0</th>\n",
       "      <td>小明</td>\n",
       "      <td>男</td>\n",
       "      <td>23</td>\n",
       "      <td>3500</td>\n",
       "      <td>8000</td>\n",
       "      <td>800</td>\n",
       "      <td>3900</td>\n",
       "      <td>24</td>\n",
       "    </tr>\n",
       "    <tr>\n",
       "      <th>1</th>\n",
       "      <td>小李</td>\n",
       "      <td>男</td>\n",
       "      <td>24</td>\n",
       "      <td>4000</td>\n",
       "      <td>12000</td>\n",
       "      <td>1200</td>\n",
       "      <td>4600</td>\n",
       "      <td>22</td>\n",
       "    </tr>\n",
       "    <tr>\n",
       "      <th>2</th>\n",
       "      <td>小红</td>\n",
       "      <td>女</td>\n",
       "      <td>25</td>\n",
       "      <td>4500</td>\n",
       "      <td>6000</td>\n",
       "      <td>600</td>\n",
       "      <td>4800</td>\n",
       "      <td>23</td>\n",
       "    </tr>\n",
       "    <tr>\n",
       "      <th>3</th>\n",
       "      <td>小兰</td>\n",
       "      <td>女</td>\n",
       "      <td>18</td>\n",
       "      <td>10000</td>\n",
       "      <td>10000</td>\n",
       "      <td>1000</td>\n",
       "      <td>4000</td>\n",
       "      <td>20</td>\n",
       "    </tr>\n",
       "    <tr>\n",
       "      <th>4</th>\n",
       "      <td>小兰</td>\n",
       "      <td>女</td>\n",
       "      <td>18</td>\n",
       "      <td>10000</td>\n",
       "      <td>10000</td>\n",
       "      <td>1000</td>\n",
       "      <td>4000</td>\n",
       "      <td>20</td>\n",
       "    </tr>\n",
       "    <tr>\n",
       "      <th>5</th>\n",
       "      <td>小兰</td>\n",
       "      <td>女</td>\n",
       "      <td>18</td>\n",
       "      <td>10000</td>\n",
       "      <td>10000</td>\n",
       "      <td>1000</td>\n",
       "      <td>4000</td>\n",
       "      <td>20</td>\n",
       "    </tr>\n",
       "    <tr>\n",
       "      <th>6</th>\n",
       "      <td>小兰</td>\n",
       "      <td>女</td>\n",
       "      <td>18</td>\n",
       "      <td>10000</td>\n",
       "      <td>10000</td>\n",
       "      <td>1000</td>\n",
       "      <td>4000</td>\n",
       "      <td>20</td>\n",
       "    </tr>\n",
       "  </tbody>\n",
       "</table>\n",
       "</div>"
      ],
      "text/plain": [
       "  员工姓名 性别  年龄   基本工资   销售业绩  销售提成  应发工资 出勤天数\n",
       "0   小明  男  23   3500   8000   800  3900   24\n",
       "1   小李  男  24   4000  12000  1200  4600   22\n",
       "2   小红  女  25   4500   6000   600  4800   23\n",
       "3   小兰  女  18  10000  10000  1000  4000   20\n",
       "4   小兰  女  18  10000  10000  1000  4000   20\n",
       "5   小兰  女  18  10000  10000  1000  4000   20\n",
       "6   小兰  女  18  10000  10000  1000  4000   20"
      ]
     },
     "execution_count": 50,
     "metadata": {},
     "output_type": "execute_result"
    }
   ],
   "source": [
    "df"
   ]
  },
  {
   "cell_type": "code",
   "execution_count": 51,
   "metadata": {},
   "outputs": [],
   "source": [
    "df.drop(index=5, inplace=True)"
   ]
  },
  {
   "cell_type": "code",
   "execution_count": 52,
   "metadata": {},
   "outputs": [
    {
     "data": {
      "text/html": [
       "<div>\n",
       "<style scoped>\n",
       "    .dataframe tbody tr th:only-of-type {\n",
       "        vertical-align: middle;\n",
       "    }\n",
       "\n",
       "    .dataframe tbody tr th {\n",
       "        vertical-align: top;\n",
       "    }\n",
       "\n",
       "    .dataframe thead th {\n",
       "        text-align: right;\n",
       "    }\n",
       "</style>\n",
       "<table border=\"1\" class=\"dataframe\">\n",
       "  <thead>\n",
       "    <tr style=\"text-align: right;\">\n",
       "      <th></th>\n",
       "      <th>员工姓名</th>\n",
       "      <th>性别</th>\n",
       "      <th>年龄</th>\n",
       "      <th>基本工资</th>\n",
       "      <th>销售业绩</th>\n",
       "      <th>销售提成</th>\n",
       "      <th>应发工资</th>\n",
       "      <th>出勤天数</th>\n",
       "    </tr>\n",
       "  </thead>\n",
       "  <tbody>\n",
       "    <tr>\n",
       "      <th>0</th>\n",
       "      <td>小明</td>\n",
       "      <td>男</td>\n",
       "      <td>23</td>\n",
       "      <td>3500</td>\n",
       "      <td>8000</td>\n",
       "      <td>800</td>\n",
       "      <td>3900</td>\n",
       "      <td>24</td>\n",
       "    </tr>\n",
       "    <tr>\n",
       "      <th>1</th>\n",
       "      <td>小李</td>\n",
       "      <td>男</td>\n",
       "      <td>24</td>\n",
       "      <td>4000</td>\n",
       "      <td>12000</td>\n",
       "      <td>1200</td>\n",
       "      <td>4600</td>\n",
       "      <td>22</td>\n",
       "    </tr>\n",
       "    <tr>\n",
       "      <th>2</th>\n",
       "      <td>小红</td>\n",
       "      <td>女</td>\n",
       "      <td>25</td>\n",
       "      <td>4500</td>\n",
       "      <td>6000</td>\n",
       "      <td>600</td>\n",
       "      <td>4800</td>\n",
       "      <td>23</td>\n",
       "    </tr>\n",
       "    <tr>\n",
       "      <th>3</th>\n",
       "      <td>小兰</td>\n",
       "      <td>女</td>\n",
       "      <td>18</td>\n",
       "      <td>10000</td>\n",
       "      <td>10000</td>\n",
       "      <td>1000</td>\n",
       "      <td>4000</td>\n",
       "      <td>20</td>\n",
       "    </tr>\n",
       "    <tr>\n",
       "      <th>4</th>\n",
       "      <td>小兰</td>\n",
       "      <td>女</td>\n",
       "      <td>18</td>\n",
       "      <td>10000</td>\n",
       "      <td>10000</td>\n",
       "      <td>1000</td>\n",
       "      <td>4000</td>\n",
       "      <td>20</td>\n",
       "    </tr>\n",
       "    <tr>\n",
       "      <th>6</th>\n",
       "      <td>小兰</td>\n",
       "      <td>女</td>\n",
       "      <td>18</td>\n",
       "      <td>10000</td>\n",
       "      <td>10000</td>\n",
       "      <td>1000</td>\n",
       "      <td>4000</td>\n",
       "      <td>20</td>\n",
       "    </tr>\n",
       "  </tbody>\n",
       "</table>\n",
       "</div>"
      ],
      "text/plain": [
       "  员工姓名 性别  年龄   基本工资   销售业绩  销售提成  应发工资 出勤天数\n",
       "0   小明  男  23   3500   8000   800  3900   24\n",
       "1   小李  男  24   4000  12000  1200  4600   22\n",
       "2   小红  女  25   4500   6000   600  4800   23\n",
       "3   小兰  女  18  10000  10000  1000  4000   20\n",
       "4   小兰  女  18  10000  10000  1000  4000   20\n",
       "6   小兰  女  18  10000  10000  1000  4000   20"
      ]
     },
     "execution_count": 52,
     "metadata": {},
     "output_type": "execute_result"
    }
   ],
   "source": [
    "df"
   ]
  },
  {
   "cell_type": "code",
   "execution_count": 53,
   "metadata": {},
   "outputs": [],
   "source": [
    "df.drop(index=[3, 4], inplace=True)"
   ]
  },
  {
   "cell_type": "code",
   "execution_count": 54,
   "metadata": {},
   "outputs": [
    {
     "data": {
      "text/html": [
       "<div>\n",
       "<style scoped>\n",
       "    .dataframe tbody tr th:only-of-type {\n",
       "        vertical-align: middle;\n",
       "    }\n",
       "\n",
       "    .dataframe tbody tr th {\n",
       "        vertical-align: top;\n",
       "    }\n",
       "\n",
       "    .dataframe thead th {\n",
       "        text-align: right;\n",
       "    }\n",
       "</style>\n",
       "<table border=\"1\" class=\"dataframe\">\n",
       "  <thead>\n",
       "    <tr style=\"text-align: right;\">\n",
       "      <th></th>\n",
       "      <th>员工姓名</th>\n",
       "      <th>性别</th>\n",
       "      <th>年龄</th>\n",
       "      <th>基本工资</th>\n",
       "      <th>销售业绩</th>\n",
       "      <th>销售提成</th>\n",
       "      <th>应发工资</th>\n",
       "      <th>出勤天数</th>\n",
       "    </tr>\n",
       "  </thead>\n",
       "  <tbody>\n",
       "    <tr>\n",
       "      <th>0</th>\n",
       "      <td>小明</td>\n",
       "      <td>男</td>\n",
       "      <td>23</td>\n",
       "      <td>3500</td>\n",
       "      <td>8000</td>\n",
       "      <td>800</td>\n",
       "      <td>3900</td>\n",
       "      <td>24</td>\n",
       "    </tr>\n",
       "    <tr>\n",
       "      <th>1</th>\n",
       "      <td>小李</td>\n",
       "      <td>男</td>\n",
       "      <td>24</td>\n",
       "      <td>4000</td>\n",
       "      <td>12000</td>\n",
       "      <td>1200</td>\n",
       "      <td>4600</td>\n",
       "      <td>22</td>\n",
       "    </tr>\n",
       "    <tr>\n",
       "      <th>2</th>\n",
       "      <td>小红</td>\n",
       "      <td>女</td>\n",
       "      <td>25</td>\n",
       "      <td>4500</td>\n",
       "      <td>6000</td>\n",
       "      <td>600</td>\n",
       "      <td>4800</td>\n",
       "      <td>23</td>\n",
       "    </tr>\n",
       "    <tr>\n",
       "      <th>6</th>\n",
       "      <td>小兰</td>\n",
       "      <td>女</td>\n",
       "      <td>18</td>\n",
       "      <td>10000</td>\n",
       "      <td>10000</td>\n",
       "      <td>1000</td>\n",
       "      <td>4000</td>\n",
       "      <td>20</td>\n",
       "    </tr>\n",
       "  </tbody>\n",
       "</table>\n",
       "</div>"
      ],
      "text/plain": [
       "  员工姓名 性别  年龄   基本工资   销售业绩  销售提成  应发工资 出勤天数\n",
       "0   小明  男  23   3500   8000   800  3900   24\n",
       "1   小李  男  24   4000  12000  1200  4600   22\n",
       "2   小红  女  25   4500   6000   600  4800   23\n",
       "6   小兰  女  18  10000  10000  1000  4000   20"
      ]
     },
     "execution_count": 54,
     "metadata": {},
     "output_type": "execute_result"
    }
   ],
   "source": [
    "df"
   ]
  },
  {
   "cell_type": "markdown",
   "metadata": {},
   "source": [
    "## 重置行索引"
   ]
  },
  {
   "cell_type": "code",
   "execution_count": 55,
   "metadata": {},
   "outputs": [
    {
     "data": {
      "text/html": [
       "<div>\n",
       "<style scoped>\n",
       "    .dataframe tbody tr th:only-of-type {\n",
       "        vertical-align: middle;\n",
       "    }\n",
       "\n",
       "    .dataframe tbody tr th {\n",
       "        vertical-align: top;\n",
       "    }\n",
       "\n",
       "    .dataframe thead th {\n",
       "        text-align: right;\n",
       "    }\n",
       "</style>\n",
       "<table border=\"1\" class=\"dataframe\">\n",
       "  <thead>\n",
       "    <tr style=\"text-align: right;\">\n",
       "      <th></th>\n",
       "      <th>员工姓名</th>\n",
       "      <th>性别</th>\n",
       "      <th>年龄</th>\n",
       "      <th>基本工资</th>\n",
       "      <th>销售业绩</th>\n",
       "      <th>销售提成</th>\n",
       "      <th>应发工资</th>\n",
       "      <th>出勤天数</th>\n",
       "    </tr>\n",
       "  </thead>\n",
       "  <tbody>\n",
       "    <tr>\n",
       "      <th>0</th>\n",
       "      <td>小明</td>\n",
       "      <td>男</td>\n",
       "      <td>23</td>\n",
       "      <td>3500</td>\n",
       "      <td>8000</td>\n",
       "      <td>800</td>\n",
       "      <td>3900</td>\n",
       "      <td>24</td>\n",
       "    </tr>\n",
       "    <tr>\n",
       "      <th>1</th>\n",
       "      <td>小李</td>\n",
       "      <td>男</td>\n",
       "      <td>24</td>\n",
       "      <td>4000</td>\n",
       "      <td>12000</td>\n",
       "      <td>1200</td>\n",
       "      <td>4600</td>\n",
       "      <td>22</td>\n",
       "    </tr>\n",
       "    <tr>\n",
       "      <th>2</th>\n",
       "      <td>小红</td>\n",
       "      <td>女</td>\n",
       "      <td>25</td>\n",
       "      <td>4500</td>\n",
       "      <td>6000</td>\n",
       "      <td>600</td>\n",
       "      <td>4800</td>\n",
       "      <td>23</td>\n",
       "    </tr>\n",
       "    <tr>\n",
       "      <th>6</th>\n",
       "      <td>小兰</td>\n",
       "      <td>女</td>\n",
       "      <td>18</td>\n",
       "      <td>10000</td>\n",
       "      <td>10000</td>\n",
       "      <td>1000</td>\n",
       "      <td>4000</td>\n",
       "      <td>20</td>\n",
       "    </tr>\n",
       "  </tbody>\n",
       "</table>\n",
       "</div>"
      ],
      "text/plain": [
       "  员工姓名 性别  年龄   基本工资   销售业绩  销售提成  应发工资 出勤天数\n",
       "0   小明  男  23   3500   8000   800  3900   24\n",
       "1   小李  男  24   4000  12000  1200  4600   22\n",
       "2   小红  女  25   4500   6000   600  4800   23\n",
       "6   小兰  女  18  10000  10000  1000  4000   20"
      ]
     },
     "execution_count": 55,
     "metadata": {},
     "output_type": "execute_result"
    }
   ],
   "source": [
    "df"
   ]
  },
  {
   "cell_type": "code",
   "execution_count": 56,
   "metadata": {},
   "outputs": [],
   "source": [
    "df.reset_index(drop=True, inplace=True)"
   ]
  },
  {
   "cell_type": "code",
   "execution_count": 57,
   "metadata": {},
   "outputs": [
    {
     "data": {
      "text/html": [
       "<div>\n",
       "<style scoped>\n",
       "    .dataframe tbody tr th:only-of-type {\n",
       "        vertical-align: middle;\n",
       "    }\n",
       "\n",
       "    .dataframe tbody tr th {\n",
       "        vertical-align: top;\n",
       "    }\n",
       "\n",
       "    .dataframe thead th {\n",
       "        text-align: right;\n",
       "    }\n",
       "</style>\n",
       "<table border=\"1\" class=\"dataframe\">\n",
       "  <thead>\n",
       "    <tr style=\"text-align: right;\">\n",
       "      <th></th>\n",
       "      <th>员工姓名</th>\n",
       "      <th>性别</th>\n",
       "      <th>年龄</th>\n",
       "      <th>基本工资</th>\n",
       "      <th>销售业绩</th>\n",
       "      <th>销售提成</th>\n",
       "      <th>应发工资</th>\n",
       "      <th>出勤天数</th>\n",
       "    </tr>\n",
       "  </thead>\n",
       "  <tbody>\n",
       "    <tr>\n",
       "      <th>0</th>\n",
       "      <td>小明</td>\n",
       "      <td>男</td>\n",
       "      <td>23</td>\n",
       "      <td>3500</td>\n",
       "      <td>8000</td>\n",
       "      <td>800</td>\n",
       "      <td>3900</td>\n",
       "      <td>24</td>\n",
       "    </tr>\n",
       "    <tr>\n",
       "      <th>1</th>\n",
       "      <td>小李</td>\n",
       "      <td>男</td>\n",
       "      <td>24</td>\n",
       "      <td>4000</td>\n",
       "      <td>12000</td>\n",
       "      <td>1200</td>\n",
       "      <td>4600</td>\n",
       "      <td>22</td>\n",
       "    </tr>\n",
       "    <tr>\n",
       "      <th>2</th>\n",
       "      <td>小红</td>\n",
       "      <td>女</td>\n",
       "      <td>25</td>\n",
       "      <td>4500</td>\n",
       "      <td>6000</td>\n",
       "      <td>600</td>\n",
       "      <td>4800</td>\n",
       "      <td>23</td>\n",
       "    </tr>\n",
       "    <tr>\n",
       "      <th>3</th>\n",
       "      <td>小兰</td>\n",
       "      <td>女</td>\n",
       "      <td>18</td>\n",
       "      <td>10000</td>\n",
       "      <td>10000</td>\n",
       "      <td>1000</td>\n",
       "      <td>4000</td>\n",
       "      <td>20</td>\n",
       "    </tr>\n",
       "  </tbody>\n",
       "</table>\n",
       "</div>"
      ],
      "text/plain": [
       "  员工姓名 性别  年龄   基本工资   销售业绩  销售提成  应发工资 出勤天数\n",
       "0   小明  男  23   3500   8000   800  3900   24\n",
       "1   小李  男  24   4000  12000  1200  4600   22\n",
       "2   小红  女  25   4500   6000   600  4800   23\n",
       "3   小兰  女  18  10000  10000  1000  4000   20"
      ]
     },
     "execution_count": 57,
     "metadata": {},
     "output_type": "execute_result"
    }
   ],
   "source": [
    "df"
   ]
  },
  {
   "cell_type": "code",
   "execution_count": null,
   "metadata": {},
   "outputs": [],
   "source": []
  }
 ],
 "metadata": {
  "kernelspec": {
   "display_name": "Python 3",
   "language": "python",
   "name": "python3"
  },
  "language_info": {
   "codemirror_mode": {
    "name": "ipython",
    "version": 3
   },
   "file_extension": ".py",
   "mimetype": "text/x-python",
   "name": "python",
   "nbconvert_exporter": "python",
   "pygments_lexer": "ipython3",
   "version": "3.7.6"
  },
  "toc": {
   "base_numbering": 1,
   "nav_menu": {},
   "number_sections": true,
   "sideBar": true,
   "skip_h1_title": false,
   "title_cell": "Table of Contents",
   "title_sidebar": "Contents",
   "toc_cell": true,
   "toc_position": {
    "height": "calc(100% - 180px)",
    "left": "10px",
    "top": "150px",
    "width": "165px"
   },
   "toc_section_display": true,
   "toc_window_display": true
  }
 },
 "nbformat": 4,
 "nbformat_minor": 2
}
