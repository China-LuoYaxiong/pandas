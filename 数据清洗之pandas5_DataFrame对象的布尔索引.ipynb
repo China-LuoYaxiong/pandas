{
 "cells": [
  {
   "cell_type": "markdown",
   "metadata": {
    "toc": true
   },
   "source": [
    "<h1>Table of Contents<span class=\"tocSkip\"></span></h1>\n",
    "<div class=\"toc\"><ul class=\"toc-item\"><li><span><a href=\"#Series对象的运算\" data-toc-modified-id=\"Series对象的运算-1\"><span class=\"toc-item-num\">1&nbsp;&nbsp;</span>Series对象的运算</a></span><ul class=\"toc-item\"><li><span><a href=\"#算数运算\" data-toc-modified-id=\"算数运算-1.1\"><span class=\"toc-item-num\">1.1&nbsp;&nbsp;</span>算数运算</a></span></li><li><span><a href=\"#比较运算\" data-toc-modified-id=\"比较运算-1.2\"><span class=\"toc-item-num\">1.2&nbsp;&nbsp;</span>比较运算</a></span></li><li><span><a href=\"#逻辑运算\" data-toc-modified-id=\"逻辑运算-1.3\"><span class=\"toc-item-num\">1.3&nbsp;&nbsp;</span>逻辑运算</a></span></li></ul></li><li><span><a href=\"#DataFrame对象的布尔索引\" data-toc-modified-id=\"DataFrame对象的布尔索引-2\"><span class=\"toc-item-num\">2&nbsp;&nbsp;</span>DataFrame对象的布尔索引</a></span><ul class=\"toc-item\"><li><span><a href=\"#新增一列-性别-男女男男男女男女男女\" data-toc-modified-id=\"新增一列-性别-男女男男男女男女男女-2.1\"><span class=\"toc-item-num\">2.1&nbsp;&nbsp;</span>新增一列 性别 男女男男男女男女男女</a></span></li><li><span><a href=\"#新增一列-三总-位置放在英语之后\" data-toc-modified-id=\"新增一列-三总-位置放在英语之后-2.2\"><span class=\"toc-item-num\">2.2&nbsp;&nbsp;</span>新增一列 三总 位置放在英语之后</a></span></li><li><span><a href=\"#新增一列-理综-位置放在生物之后\" data-toc-modified-id=\"新增一列-理综-位置放在生物之后-2.3\"><span class=\"toc-item-num\">2.3&nbsp;&nbsp;</span>新增一列 理综 位置放在生物之后</a></span></li><li><span><a href=\"#新增一列总分，-位置放在第一列\" data-toc-modified-id=\"新增一列总分，-位置放在第一列-2.4\"><span class=\"toc-item-num\">2.4&nbsp;&nbsp;</span>新增一列总分， 位置放在第一列</a></span></li><li><span><a href=\"#挑选出-总分-最高的-前三名\" data-toc-modified-id=\"挑选出-总分-最高的-前三名-2.5\"><span class=\"toc-item-num\">2.5&nbsp;&nbsp;</span>挑选出 总分 最高的 前三名</a></span></li><li><span><a href=\"#挑选出-总分-大于-475分的同学信息\" data-toc-modified-id=\"挑选出-总分-大于-475分的同学信息-2.6\"><span class=\"toc-item-num\">2.6&nbsp;&nbsp;</span>挑选出 总分 大于 475分的同学信息</a></span></li><li><span><a href=\"#挑选出--理综--大于--240分的同学信息\" data-toc-modified-id=\"挑选出--理综--大于--240分的同学信息-2.7\"><span class=\"toc-item-num\">2.7&nbsp;&nbsp;</span>挑选出  理综  大于  240分的同学信息</a></span></li><li><span><a href=\"#挑选出理综大于250-并且-总分-大于500的同学信息\" data-toc-modified-id=\"挑选出理综大于250-并且-总分-大于500的同学信息-2.8\"><span class=\"toc-item-num\">2.8&nbsp;&nbsp;</span>挑选出理综大于250 并且 总分 大于500的同学信息</a></span></li><li><span><a href=\"#挑选出所有的男同学\" data-toc-modified-id=\"挑选出所有的男同学-2.9\"><span class=\"toc-item-num\">2.9&nbsp;&nbsp;</span>挑选出所有的男同学</a></span></li><li><span><a href=\"#查看女同学语文的平均成绩\" data-toc-modified-id=\"查看女同学语文的平均成绩-2.10\"><span class=\"toc-item-num\">2.10&nbsp;&nbsp;</span>查看女同学语文的平均成绩</a></span></li><li><span><a href=\"#查看总分在480分以上的男同学的理综的平均成绩\" data-toc-modified-id=\"查看总分在480分以上的男同学的理综的平均成绩-2.11\"><span class=\"toc-item-num\">2.11&nbsp;&nbsp;</span>查看总分在480分以上的男同学的理综的平均成绩</a></span></li><li><span><a href=\"#找出数学成绩比语文成绩高的同学\" data-toc-modified-id=\"找出数学成绩比语文成绩高的同学-2.12\"><span class=\"toc-item-num\">2.12&nbsp;&nbsp;</span>找出数学成绩比语文成绩高的同学</a></span></li><li><span><a href=\"#找出所有姓-张-的同学\" data-toc-modified-id=\"找出所有姓-张-的同学-2.13\"><span class=\"toc-item-num\">2.13&nbsp;&nbsp;</span>找出所有姓 张 的同学</a></span><ul class=\"toc-item\"><li><span><a href=\"#方法一-for-循环\" data-toc-modified-id=\"方法一-for-循环-2.13.1\"><span class=\"toc-item-num\">2.13.1&nbsp;&nbsp;</span>方法一 for 循环</a></span></li><li><span><a href=\"#方法二Series.map()方法\" data-toc-modified-id=\"方法二Series.map()方法-2.13.2\"><span class=\"toc-item-num\">2.13.2&nbsp;&nbsp;</span>方法二Series.map()方法</a></span></li></ul></li><li><span><a href=\"#新增一行\" data-toc-modified-id=\"新增一行-2.14\"><span class=\"toc-item-num\">2.14&nbsp;&nbsp;</span>新增一行</a></span></li><li><span><a href=\"#继续新增一行\" data-toc-modified-id=\"继续新增一行-2.15\"><span class=\"toc-item-num\">2.15&nbsp;&nbsp;</span>继续新增一行</a></span></li><li><span><a href=\"#找出性别这一列有--缺失--的行\" data-toc-modified-id=\"找出性别这一列有--缺失--的行-2.16\"><span class=\"toc-item-num\">2.16&nbsp;&nbsp;</span>找出性别这一列有  缺失  的行</a></span></li><li><span><a href=\"#挑选出任意有缺失的行\" data-toc-modified-id=\"挑选出任意有缺失的行-2.17\"><span class=\"toc-item-num\">2.17&nbsp;&nbsp;</span>挑选出任意有缺失的行</a></span></li><li><span><a href=\"#挑选出重复的行\" data-toc-modified-id=\"挑选出重复的行-2.18\"><span class=\"toc-item-num\">2.18&nbsp;&nbsp;</span>挑选出重复的行</a></span></li></ul></li></ul></div>"
   ]
  },
  {
   "cell_type": "code",
   "execution_count": 1,
   "metadata": {
    "ExecuteTime": {
     "end_time": "2019-12-11T00:01:27.480719Z",
     "start_time": "2019-12-11T00:01:27.476696Z"
    }
   },
   "outputs": [],
   "source": [
    "#全部行都能输出\n",
    "from IPython.core.interactiveshell import InteractiveShell\n",
    "InteractiveShell.ast_node_interactivity = \"all\""
   ]
  },
  {
   "cell_type": "code",
   "execution_count": 2,
   "metadata": {
    "ExecuteTime": {
     "end_time": "2019-12-11T00:01:28.597213Z",
     "start_time": "2019-12-11T00:01:28.111390Z"
    }
   },
   "outputs": [],
   "source": [
    "import numpy as np\n",
    "import pandas as pd"
   ]
  },
  {
   "cell_type": "markdown",
   "metadata": {},
   "source": [
    "# Series对象的运算"
   ]
  },
  {
   "cell_type": "markdown",
   "metadata": {},
   "source": [
    "## 算数运算"
   ]
  },
  {
   "cell_type": "code",
   "execution_count": null,
   "metadata": {},
   "outputs": [],
   "source": []
  },
  {
   "cell_type": "code",
   "execution_count": null,
   "metadata": {},
   "outputs": [],
   "source": []
  },
  {
   "cell_type": "markdown",
   "metadata": {},
   "source": [
    "其余加减乘除等等都是一样的， 都是对应位置上的元素进行元素"
   ]
  },
  {
   "cell_type": "markdown",
   "metadata": {},
   "source": [
    "## 比较运算"
   ]
  },
  {
   "cell_type": "code",
   "execution_count": null,
   "metadata": {},
   "outputs": [],
   "source": []
  },
  {
   "cell_type": "code",
   "execution_count": null,
   "metadata": {},
   "outputs": [],
   "source": []
  },
  {
   "cell_type": "markdown",
   "metadata": {},
   "source": [
    "## 逻辑运算"
   ]
  },
  {
   "cell_type": "markdown",
   "metadata": {},
   "source": [
    "|符号|含义|释义|\n",
    "|----|----|----|\n",
    "| \\||or|或者|\n",
    "|&|and|并且|\n",
    "|~|not|取反|\n",
    "|^|xor|异或|"
   ]
  },
  {
   "cell_type": "code",
   "execution_count": null,
   "metadata": {},
   "outputs": [],
   "source": []
  },
  {
   "cell_type": "code",
   "execution_count": null,
   "metadata": {},
   "outputs": [],
   "source": []
  },
  {
   "cell_type": "markdown",
   "metadata": {},
   "source": [
    "OK, 有了以上基础， 我们就可以来学习DataFrame对象的布尔索引"
   ]
  },
  {
   "cell_type": "markdown",
   "metadata": {},
   "source": [
    "# DataFrame对象的布尔索引"
   ]
  },
  {
   "cell_type": "code",
   "execution_count": 14,
   "metadata": {
    "ExecuteTime": {
     "end_time": "2019-12-11T00:02:06.625644Z",
     "start_time": "2019-12-11T00:02:06.610722Z"
    }
   },
   "outputs": [
    {
     "data": {
      "text/html": [
       "<div>\n",
       "<style scoped>\n",
       "    .dataframe tbody tr th:only-of-type {\n",
       "        vertical-align: middle;\n",
       "    }\n",
       "\n",
       "    .dataframe tbody tr th {\n",
       "        vertical-align: top;\n",
       "    }\n",
       "\n",
       "    .dataframe thead th {\n",
       "        text-align: right;\n",
       "    }\n",
       "</style>\n",
       "<table border=\"1\" class=\"dataframe\">\n",
       "  <thead>\n",
       "    <tr style=\"text-align: right;\">\n",
       "      <th></th>\n",
       "      <th>语文</th>\n",
       "      <th>数学</th>\n",
       "      <th>英语</th>\n",
       "      <th>化学</th>\n",
       "      <th>物理</th>\n",
       "      <th>生物</th>\n",
       "    </tr>\n",
       "  </thead>\n",
       "  <tbody>\n",
       "    <tr>\n",
       "      <th>张三</th>\n",
       "      <td>60</td>\n",
       "      <td>88</td>\n",
       "      <td>97</td>\n",
       "      <td>93</td>\n",
       "      <td>68</td>\n",
       "      <td>93</td>\n",
       "    </tr>\n",
       "    <tr>\n",
       "      <th>李四</th>\n",
       "      <td>87</td>\n",
       "      <td>91</td>\n",
       "      <td>85</td>\n",
       "      <td>76</td>\n",
       "      <td>68</td>\n",
       "      <td>68</td>\n",
       "    </tr>\n",
       "    <tr>\n",
       "      <th>王五</th>\n",
       "      <td>65</td>\n",
       "      <td>62</td>\n",
       "      <td>71</td>\n",
       "      <td>71</td>\n",
       "      <td>81</td>\n",
       "      <td>83</td>\n",
       "    </tr>\n",
       "    <tr>\n",
       "      <th>赵一</th>\n",
       "      <td>96</td>\n",
       "      <td>98</td>\n",
       "      <td>67</td>\n",
       "      <td>98</td>\n",
       "      <td>77</td>\n",
       "      <td>97</td>\n",
       "    </tr>\n",
       "    <tr>\n",
       "      <th>张四</th>\n",
       "      <td>98</td>\n",
       "      <td>92</td>\n",
       "      <td>64</td>\n",
       "      <td>73</td>\n",
       "      <td>80</td>\n",
       "      <td>68</td>\n",
       "    </tr>\n",
       "    <tr>\n",
       "      <th>刘六</th>\n",
       "      <td>99</td>\n",
       "      <td>87</td>\n",
       "      <td>83</td>\n",
       "      <td>80</td>\n",
       "      <td>65</td>\n",
       "      <td>77</td>\n",
       "    </tr>\n",
       "    <tr>\n",
       "      <th>张五</th>\n",
       "      <td>91</td>\n",
       "      <td>84</td>\n",
       "      <td>61</td>\n",
       "      <td>74</td>\n",
       "      <td>66</td>\n",
       "      <td>63</td>\n",
       "    </tr>\n",
       "    <tr>\n",
       "      <th>李一</th>\n",
       "      <td>68</td>\n",
       "      <td>69</td>\n",
       "      <td>74</td>\n",
       "      <td>76</td>\n",
       "      <td>91</td>\n",
       "      <td>72</td>\n",
       "    </tr>\n",
       "    <tr>\n",
       "      <th>周四</th>\n",
       "      <td>74</td>\n",
       "      <td>66</td>\n",
       "      <td>64</td>\n",
       "      <td>83</td>\n",
       "      <td>63</td>\n",
       "      <td>85</td>\n",
       "    </tr>\n",
       "    <tr>\n",
       "      <th>赵四</th>\n",
       "      <td>90</td>\n",
       "      <td>87</td>\n",
       "      <td>82</td>\n",
       "      <td>74</td>\n",
       "      <td>99</td>\n",
       "      <td>90</td>\n",
       "    </tr>\n",
       "  </tbody>\n",
       "</table>\n",
       "</div>"
      ],
      "text/plain": [
       "    语文  数学  英语  化学  物理  生物\n",
       "张三  60  88  97  93  68  93\n",
       "李四  87  91  85  76  68  68\n",
       "王五  65  62  71  71  81  83\n",
       "赵一  96  98  67  98  77  97\n",
       "张四  98  92  64  73  80  68\n",
       "刘六  99  87  83  80  65  77\n",
       "张五  91  84  61  74  66  63\n",
       "李一  68  69  74  76  91  72\n",
       "周四  74  66  64  83  63  85\n",
       "赵四  90  87  82  74  99  90"
      ]
     },
     "execution_count": 14,
     "metadata": {},
     "output_type": "execute_result"
    }
   ],
   "source": [
    "np.random.seed(999)\n",
    "a = np.random.randint(60, 100, (10, 6))\n",
    "df = pd.DataFrame(a)\n",
    "df.columns = ['语文', '数学', '英语', '化学', '物理', '生物']\n",
    "df.index = ['张三', '李四', '王五', '赵一', '张四', \n",
    "            '刘六', '张五', '李一', '周四', '赵四']\n",
    "df"
   ]
  },
  {
   "cell_type": "markdown",
   "metadata": {},
   "source": [
    "## 新增一列 性别 男女男男男女男女男女\n",
    "位置放在第一列"
   ]
  },
  {
   "cell_type": "code",
   "execution_count": null,
   "metadata": {},
   "outputs": [],
   "source": []
  },
  {
   "cell_type": "code",
   "execution_count": null,
   "metadata": {},
   "outputs": [],
   "source": []
  },
  {
   "cell_type": "markdown",
   "metadata": {},
   "source": [
    "## 新增一列 三总 位置放在英语之后"
   ]
  },
  {
   "cell_type": "code",
   "execution_count": null,
   "metadata": {},
   "outputs": [],
   "source": []
  },
  {
   "cell_type": "code",
   "execution_count": null,
   "metadata": {},
   "outputs": [],
   "source": []
  },
  {
   "cell_type": "markdown",
   "metadata": {},
   "source": [
    "## 新增一列 理综 位置放在生物之后"
   ]
  },
  {
   "cell_type": "code",
   "execution_count": null,
   "metadata": {},
   "outputs": [],
   "source": []
  },
  {
   "cell_type": "code",
   "execution_count": null,
   "metadata": {},
   "outputs": [],
   "source": []
  },
  {
   "cell_type": "markdown",
   "metadata": {},
   "source": [
    "## 新增一列总分， 位置放在第一列"
   ]
  },
  {
   "cell_type": "code",
   "execution_count": null,
   "metadata": {},
   "outputs": [],
   "source": []
  },
  {
   "cell_type": "code",
   "execution_count": null,
   "metadata": {},
   "outputs": [],
   "source": []
  },
  {
   "cell_type": "markdown",
   "metadata": {},
   "source": [
    "## 挑选出 总分 最高的 前三名"
   ]
  },
  {
   "cell_type": "code",
   "execution_count": null,
   "metadata": {},
   "outputs": [],
   "source": []
  },
  {
   "cell_type": "code",
   "execution_count": null,
   "metadata": {},
   "outputs": [],
   "source": []
  },
  {
   "cell_type": "markdown",
   "metadata": {},
   "source": [
    "## 挑选出 总分 大于 475分的同学信息"
   ]
  },
  {
   "cell_type": "code",
   "execution_count": null,
   "metadata": {},
   "outputs": [],
   "source": []
  },
  {
   "cell_type": "code",
   "execution_count": null,
   "metadata": {},
   "outputs": [],
   "source": []
  },
  {
   "cell_type": "markdown",
   "metadata": {},
   "source": [
    "## 挑选出  理综  大于  240分的同学信息"
   ]
  },
  {
   "cell_type": "code",
   "execution_count": null,
   "metadata": {},
   "outputs": [],
   "source": []
  },
  {
   "cell_type": "code",
   "execution_count": null,
   "metadata": {},
   "outputs": [],
   "source": []
  },
  {
   "cell_type": "markdown",
   "metadata": {},
   "source": [
    "## 挑选出理综大于250 并且 总分 大于500的同学信息"
   ]
  },
  {
   "cell_type": "code",
   "execution_count": null,
   "metadata": {},
   "outputs": [],
   "source": []
  },
  {
   "cell_type": "code",
   "execution_count": null,
   "metadata": {},
   "outputs": [],
   "source": []
  },
  {
   "cell_type": "markdown",
   "metadata": {},
   "source": [
    "## 挑选出所有的男同学"
   ]
  },
  {
   "cell_type": "code",
   "execution_count": null,
   "metadata": {},
   "outputs": [],
   "source": []
  },
  {
   "cell_type": "code",
   "execution_count": null,
   "metadata": {},
   "outputs": [],
   "source": []
  },
  {
   "cell_type": "markdown",
   "metadata": {},
   "source": [
    "## 查看女同学语文的平均成绩"
   ]
  },
  {
   "cell_type": "code",
   "execution_count": null,
   "metadata": {},
   "outputs": [],
   "source": []
  },
  {
   "cell_type": "code",
   "execution_count": null,
   "metadata": {},
   "outputs": [],
   "source": []
  },
  {
   "cell_type": "code",
   "execution_count": null,
   "metadata": {},
   "outputs": [],
   "source": []
  },
  {
   "cell_type": "markdown",
   "metadata": {},
   "source": [
    "## 查看总分在480分以上的男同学的理综的平均成绩"
   ]
  },
  {
   "cell_type": "code",
   "execution_count": null,
   "metadata": {},
   "outputs": [],
   "source": []
  },
  {
   "cell_type": "code",
   "execution_count": null,
   "metadata": {},
   "outputs": [],
   "source": []
  },
  {
   "cell_type": "markdown",
   "metadata": {},
   "source": [
    "## 找出数学成绩比语文成绩高的同学"
   ]
  },
  {
   "cell_type": "code",
   "execution_count": null,
   "metadata": {},
   "outputs": [],
   "source": []
  },
  {
   "cell_type": "code",
   "execution_count": null,
   "metadata": {},
   "outputs": [],
   "source": []
  },
  {
   "cell_type": "markdown",
   "metadata": {},
   "source": [
    "## 找出所有姓 张 的同学"
   ]
  },
  {
   "cell_type": "code",
   "execution_count": null,
   "metadata": {},
   "outputs": [],
   "source": []
  },
  {
   "cell_type": "code",
   "execution_count": null,
   "metadata": {},
   "outputs": [],
   "source": []
  },
  {
   "cell_type": "markdown",
   "metadata": {},
   "source": [
    "### 方法一 for 循环"
   ]
  },
  {
   "cell_type": "code",
   "execution_count": null,
   "metadata": {},
   "outputs": [],
   "source": []
  },
  {
   "cell_type": "code",
   "execution_count": null,
   "metadata": {},
   "outputs": [],
   "source": []
  },
  {
   "cell_type": "markdown",
   "metadata": {},
   "source": [
    "### 方法二Series.map()方法  \n",
    "map()方法可以接受一个函数"
   ]
  },
  {
   "cell_type": "code",
   "execution_count": null,
   "metadata": {},
   "outputs": [],
   "source": []
  },
  {
   "cell_type": "code",
   "execution_count": null,
   "metadata": {},
   "outputs": [],
   "source": []
  },
  {
   "cell_type": "code",
   "execution_count": null,
   "metadata": {},
   "outputs": [],
   "source": []
  },
  {
   "cell_type": "markdown",
   "metadata": {},
   "source": [
    "## 新增一行   \n",
    "df.loc[10] = ['小明', 0, '男', 0, 0, np.nan, 0, 0, 0, 0, 0]"
   ]
  },
  {
   "cell_type": "code",
   "execution_count": null,
   "metadata": {},
   "outputs": [],
   "source": []
  },
  {
   "cell_type": "code",
   "execution_count": null,
   "metadata": {},
   "outputs": [],
   "source": []
  },
  {
   "cell_type": "markdown",
   "metadata": {},
   "source": [
    "## 继续新增一行  \n",
    "df.loc[11] = ['小红', 0, np.nan, 0, 0, 0, np.nan, 0, 0, 0, 0]"
   ]
  },
  {
   "cell_type": "code",
   "execution_count": null,
   "metadata": {},
   "outputs": [],
   "source": []
  },
  {
   "cell_type": "code",
   "execution_count": null,
   "metadata": {},
   "outputs": [],
   "source": []
  },
  {
   "cell_type": "markdown",
   "metadata": {},
   "source": [
    "## 找出性别这一列有  缺失  的行"
   ]
  },
  {
   "cell_type": "code",
   "execution_count": null,
   "metadata": {},
   "outputs": [],
   "source": []
  },
  {
   "cell_type": "code",
   "execution_count": null,
   "metadata": {},
   "outputs": [],
   "source": []
  },
  {
   "cell_type": "code",
   "execution_count": null,
   "metadata": {},
   "outputs": [],
   "source": []
  },
  {
   "cell_type": "markdown",
   "metadata": {},
   "source": [
    "## 挑选出任意有缺失的行"
   ]
  },
  {
   "cell_type": "code",
   "execution_count": null,
   "metadata": {},
   "outputs": [],
   "source": []
  },
  {
   "cell_type": "markdown",
   "metadata": {},
   "source": [
    "## 挑选出重复的行"
   ]
  },
  {
   "cell_type": "code",
   "execution_count": null,
   "metadata": {},
   "outputs": [],
   "source": []
  }
 ],
 "metadata": {
  "kernelspec": {
   "display_name": "Python 3",
   "language": "python",
   "name": "python3"
  },
  "language_info": {
   "codemirror_mode": {
    "name": "ipython",
    "version": 3
   },
   "file_extension": ".py",
   "mimetype": "text/x-python",
   "name": "python",
   "nbconvert_exporter": "python",
   "pygments_lexer": "ipython3",
   "version": "3.7.6"
  },
  "toc": {
   "base_numbering": 1,
   "nav_menu": {},
   "number_sections": true,
   "sideBar": true,
   "skip_h1_title": false,
   "title_cell": "Table of Contents",
   "title_sidebar": "Contents",
   "toc_cell": true,
   "toc_position": {
    "height": "calc(100% - 180px)",
    "left": "10px",
    "top": "150px",
    "width": "180.979px"
   },
   "toc_section_display": true,
   "toc_window_display": true
  }
 },
 "nbformat": 4,
 "nbformat_minor": 2
}
