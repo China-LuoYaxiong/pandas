{
 "cells": [
  {
   "cell_type": "code",
   "execution_count": 3,
   "metadata": {
    "ExecuteTime": {
     "end_time": "2020-07-04T03:12:44.398815Z",
     "start_time": "2020-07-04T03:12:44.394813Z"
    }
   },
   "outputs": [],
   "source": [
    "#全部行都能输出\n",
    "from IPython.core.interactiveshell import InteractiveShell\n",
    "InteractiveShell.ast_node_interactivity = \"all\""
   ]
  },
  {
   "cell_type": "code",
   "execution_count": 4,
   "metadata": {
    "ExecuteTime": {
     "end_time": "2020-07-04T03:12:44.557398Z",
     "start_time": "2020-07-04T03:12:44.554384Z"
    }
   },
   "outputs": [],
   "source": [
    "import numpy as np\n",
    "import pandas as pd"
   ]
  },
  {
   "cell_type": "code",
   "execution_count": 5,
   "metadata": {
    "ExecuteTime": {
     "end_time": "2020-07-04T03:12:44.701990Z",
     "start_time": "2020-07-04T03:12:44.698001Z"
    }
   },
   "outputs": [],
   "source": [
    "#导入相关库\n",
    "import pandas as pd\n",
    "import numpy as np\n",
    "import time\n",
    "import datetime\n",
    "import matplotlib.pyplot as plt"
   ]
  },
  {
   "cell_type": "code",
   "execution_count": 6,
   "metadata": {
    "ExecuteTime": {
     "end_time": "2020-07-04T03:12:44.839623Z",
     "start_time": "2020-07-04T03:12:44.835667Z"
    }
   },
   "outputs": [],
   "source": [
    "# 解决坐标轴刻度负号乱码\n",
    "plt.rcParams['axes.unicode_minus'] = False\n",
    "# 解决中文乱码问题\n",
    "plt.rcParams['font.sans-serif'] = ['Simhei']"
   ]
  },
  {
   "cell_type": "markdown",
   "metadata": {},
   "source": [
    "在计算机中，时间实际上是用数字表示的。  \n",
    "我们把1970年1月1日 00:00:00 UTC+00:00时区的时刻称为epoch time(纪元)，记为0（1970年以前的时间timestamp为负数），当前时间就是相对于epoch time的秒数，称为timestamp。   \n",
    "timestamp的值与时区毫无关系，因为timestamp一旦确定，其UTC时间就确定了，转换到任意时区的时间也是完全确定的，这就是为什么计算机存储的当前时间是以timestamp表示的，因为全球各地的计算机在任意时刻的timestamp都是完全相同的（假定时间已校准）。    \n"
   ]
  },
  {
   "cell_type": "code",
   "execution_count": 7,
   "metadata": {
    "ExecuteTime": {
     "end_time": "2020-07-04T03:12:46.087957Z",
     "start_time": "2020-07-04T03:12:46.083968Z"
    }
   },
   "outputs": [
    {
     "data": {
      "text/plain": [
       "1598856932.159991"
      ]
     },
     "execution_count": 7,
     "metadata": {},
     "output_type": "execute_result"
    }
   ],
   "source": [
    "import time\n",
    "time.time()   # 返回当前的时间(1970到现在的秒数)"
   ]
  },
  {
   "cell_type": "markdown",
   "metadata": {},
   "source": [
    "# 时间戳Timestamp对象的生成"
   ]
  },
  {
   "cell_type": "markdown",
   "metadata": {},
   "source": [
    "## pd.Timestamp"
   ]
  },
  {
   "cell_type": "code",
   "execution_count": 8,
   "metadata": {
    "ExecuteTime": {
     "end_time": "2020-07-04T03:15:39.072746Z",
     "start_time": "2020-07-04T03:15:39.067758Z"
    }
   },
   "outputs": [
    {
     "data": {
      "text/plain": [
       "Timestamp('2020-08-31 06:55:33.090931416')"
      ]
     },
     "execution_count": 8,
     "metadata": {},
     "output_type": "execute_result"
    }
   ],
   "source": [
    "pd.Timestamp(time.time() ,unit='s')  # 时区+8， 03:14加上8大概就是11点多"
   ]
  },
  {
   "cell_type": "code",
   "execution_count": 9,
   "metadata": {
    "ExecuteTime": {
     "end_time": "2020-07-04T03:15:54.637932Z",
     "start_time": "2020-07-04T03:15:54.632946Z"
    }
   },
   "outputs": [
    {
     "data": {
      "text/plain": [
       "pandas._libs.tslibs.timestamps.Timestamp"
      ]
     },
     "execution_count": 9,
     "metadata": {},
     "output_type": "execute_result"
    }
   ],
   "source": [
    "type(pd.Timestamp(164913461,unit='s'))"
   ]
  },
  {
   "cell_type": "code",
   "execution_count": 10,
   "metadata": {
    "ExecuteTime": {
     "end_time": "2020-07-04T03:16:23.556500Z",
     "start_time": "2020-07-04T03:16:23.552511Z"
    }
   },
   "outputs": [
    {
     "data": {
      "text/plain": [
       "Timestamp('2019-12-12 00:00:00')"
      ]
     },
     "execution_count": 10,
     "metadata": {},
     "output_type": "execute_result"
    }
   ],
   "source": [
    "pd.Timestamp(\"2019-12-12\")  # 把字符串转换成Timestamp"
   ]
  },
  {
   "cell_type": "code",
   "execution_count": 11,
   "metadata": {
    "ExecuteTime": {
     "end_time": "2020-07-04T03:16:32.676792Z",
     "start_time": "2020-07-04T03:16:32.672803Z"
    }
   },
   "outputs": [
    {
     "data": {
      "text/plain": [
       "Timestamp('2019-12-12 00:00:00')"
      ]
     },
     "execution_count": 11,
     "metadata": {},
     "output_type": "execute_result"
    }
   ],
   "source": [
    "pd.Timestamp(\"2019/12/12\")"
   ]
  },
  {
   "cell_type": "code",
   "execution_count": 12,
   "metadata": {
    "ExecuteTime": {
     "end_time": "2020-07-04T03:16:54.470112Z",
     "start_time": "2020-07-04T03:16:54.465081Z"
    }
   },
   "outputs": [
    {
     "data": {
      "text/plain": [
       "Timestamp('2019-12-12 00:00:00')"
      ]
     },
     "execution_count": 12,
     "metadata": {},
     "output_type": "execute_result"
    }
   ],
   "source": [
    "pd.Timestamp(2019,12,12)"
   ]
  },
  {
   "cell_type": "code",
   "execution_count": 13,
   "metadata": {
    "ExecuteTime": {
     "end_time": "2020-07-04T03:17:11.427848Z",
     "start_time": "2020-07-04T03:17:11.422824Z"
    }
   },
   "outputs": [
    {
     "data": {
      "text/plain": [
       "Timestamp('2019-12-12 00:00:00')"
      ]
     },
     "execution_count": 13,
     "metadata": {},
     "output_type": "execute_result"
    }
   ],
   "source": [
    " pd.Timestamp(year=2019, month=12, day=12, hour=0,minute=0,second=0)"
   ]
  },
  {
   "cell_type": "markdown",
   "metadata": {},
   "source": [
    "## pd.to_datetime  \n",
    "处理日期序列"
   ]
  },
  {
   "cell_type": "code",
   "execution_count": 14,
   "metadata": {
    "ExecuteTime": {
     "end_time": "2020-07-04T03:18:41.137224Z",
     "start_time": "2020-07-04T03:18:41.132237Z"
    }
   },
   "outputs": [
    {
     "data": {
      "text/plain": [
       "0    2019/12/10\n",
       "1    2019/12/11\n",
       "2    2019/12/12\n",
       "dtype: object"
      ]
     },
     "execution_count": 14,
     "metadata": {},
     "output_type": "execute_result"
    }
   ],
   "source": [
    "mydate=pd.Series([\"2019/12/10\",\"2019/12/11\",\"2019/12/12\"])\n",
    "mydate"
   ]
  },
  {
   "cell_type": "code",
   "execution_count": 15,
   "metadata": {
    "ExecuteTime": {
     "end_time": "2020-07-04T03:18:44.667345Z",
     "start_time": "2020-07-04T03:18:44.661361Z"
    }
   },
   "outputs": [
    {
     "data": {
      "text/plain": [
       "0   2019-12-10\n",
       "1   2019-12-11\n",
       "2   2019-12-12\n",
       "dtype: datetime64[ns]"
      ]
     },
     "execution_count": 15,
     "metadata": {},
     "output_type": "execute_result"
    }
   ],
   "source": [
    "pd.to_datetime(mydate)"
   ]
  },
  {
   "cell_type": "code",
   "execution_count": 16,
   "metadata": {
    "ExecuteTime": {
     "end_time": "2020-07-04T03:21:01.838539Z",
     "start_time": "2020-07-04T03:21:01.832557Z"
    }
   },
   "outputs": [
    {
     "data": {
      "text/plain": [
       "Timestamp('2019-12-10 00:00:00')"
      ]
     },
     "execution_count": 16,
     "metadata": {},
     "output_type": "execute_result"
    }
   ],
   "source": [
    "pd.to_datetime(mydate)[0]"
   ]
  },
  {
   "cell_type": "code",
   "execution_count": 17,
   "metadata": {
    "ExecuteTime": {
     "end_time": "2020-07-04T03:21:21.021278Z",
     "start_time": "2020-07-04T03:21:21.008758Z"
    }
   },
   "outputs": [
    {
     "data": {
      "text/plain": [
       "Timestamp('2019-12-12 00:00:00')"
      ]
     },
     "execution_count": 17,
     "metadata": {},
     "output_type": "execute_result"
    }
   ],
   "source": [
    "pd.to_datetime(\"2019*12*12\",format=\"%Y*%m*%d\")\n",
    "#errors有raise,ignore,coerce"
   ]
  },
  {
   "cell_type": "code",
   "execution_count": 18,
   "metadata": {
    "ExecuteTime": {
     "end_time": "2020-07-04T03:21:32.357498Z",
     "start_time": "2020-07-04T03:21:32.353510Z"
    }
   },
   "outputs": [
    {
     "data": {
      "text/plain": [
       "Timestamp('2019-12-12 00:00:00')"
      ]
     },
     "execution_count": 18,
     "metadata": {},
     "output_type": "execute_result"
    }
   ],
   "source": [
    "pd.to_datetime(\"2019/12/12\",format=\"%Y/%m/%d\")\n",
    "#errors有raise,ignore,coerce"
   ]
  },
  {
   "cell_type": "code",
   "execution_count": 19,
   "metadata": {
    "ExecuteTime": {
     "end_time": "2020-07-04T03:22:23.708096Z",
     "start_time": "2020-07-04T03:22:23.702112Z"
    }
   },
   "outputs": [
    {
     "data": {
      "text/plain": [
       "0   2019-01-20\n",
       "1   2019-02-20\n",
       "2   2019-05-01\n",
       "dtype: datetime64[ns]"
      ]
     },
     "execution_count": 19,
     "metadata": {},
     "output_type": "execute_result"
    }
   ],
   "source": [
    "a=pd.Series([\"2019-1-20\",\"2019-2-20\",\"2019-5-1\"])\n",
    "pd.to_datetime(a)"
   ]
  },
  {
   "cell_type": "markdown",
   "metadata": {},
   "source": [
    "## pd.date_range  \n",
    "生成一个事件范围"
   ]
  },
  {
   "cell_type": "code",
   "execution_count": 20,
   "metadata": {
    "ExecuteTime": {
     "end_time": "2020-07-04T03:22:50.918569Z",
     "start_time": "2020-07-04T03:22:50.910590Z"
    }
   },
   "outputs": [
    {
     "data": {
      "text/plain": [
       "DatetimeIndex(['2011-01-20 00:00:00', '2011-01-20 01:00:00',\n",
       "               '2011-01-20 02:00:00', '2011-01-20 03:00:00',\n",
       "               '2011-01-20 04:00:00', '2011-01-20 05:00:00',\n",
       "               '2011-01-20 06:00:00', '2011-01-20 07:00:00'],\n",
       "              dtype='datetime64[ns]', freq='H')"
      ]
     },
     "execution_count": 20,
     "metadata": {},
     "output_type": "execute_result"
    }
   ],
   "source": [
    "s1=pd.date_range('2011-1-20',  freq='H',periods=8)   # 按小时生成\n",
    "s1"
   ]
  },
  {
   "cell_type": "code",
   "execution_count": 21,
   "metadata": {
    "ExecuteTime": {
     "end_time": "2020-07-04T03:24:56.061153Z",
     "start_time": "2020-07-04T03:24:56.056165Z"
    }
   },
   "outputs": [
    {
     "data": {
      "text/plain": [
       "Timestamp('2011-01-20 00:00:00', freq='H')"
      ]
     },
     "execution_count": 21,
     "metadata": {},
     "output_type": "execute_result"
    }
   ],
   "source": [
    "s1[0]"
   ]
  },
  {
   "cell_type": "code",
   "execution_count": 22,
   "metadata": {
    "ExecuteTime": {
     "end_time": "2020-07-04T03:25:26.924750Z",
     "start_time": "2020-07-04T03:25:26.918766Z"
    }
   },
   "outputs": [
    {
     "data": {
      "text/plain": [
       "DatetimeIndex(['2011-01-20', '2011-01-21', '2011-01-22', '2011-01-23',\n",
       "               '2011-01-24', '2011-01-25', '2011-01-26', '2011-01-27',\n",
       "               '2011-01-28', '2011-01-29',\n",
       "               ...\n",
       "               '2012-01-21', '2012-01-22', '2012-01-23', '2012-01-24',\n",
       "               '2012-01-25', '2012-01-26', '2012-01-27', '2012-01-28',\n",
       "               '2012-01-29', '2012-01-30'],\n",
       "              dtype='datetime64[ns]', length=376, freq='D')"
      ]
     },
     "execution_count": 22,
     "metadata": {},
     "output_type": "execute_result"
    }
   ],
   "source": [
    "s1=pd.date_range('2011-1-20',  '2012-1-30',freq='D') \n",
    "s1"
   ]
  },
  {
   "cell_type": "markdown",
   "metadata": {},
   "source": [
    "# 日期数据转化"
   ]
  },
  {
   "cell_type": "code",
   "execution_count": 23,
   "metadata": {
    "ExecuteTime": {
     "end_time": "2020-07-04T03:29:40.959539Z",
     "start_time": "2020-07-04T03:29:40.956550Z"
    }
   },
   "outputs": [],
   "source": [
    "# http://tushare.org/\n",
    "# 金融数据获取"
   ]
  },
  {
   "cell_type": "code",
   "execution_count": 24,
   "metadata": {
    "ExecuteTime": {
     "end_time": "2020-07-04T03:29:43.271312Z",
     "start_time": "2020-07-04T03:29:42.695853Z"
    }
   },
   "outputs": [
    {
     "data": {
      "text/html": [
       "<div>\n",
       "<style scoped>\n",
       "    .dataframe tbody tr th:only-of-type {\n",
       "        vertical-align: middle;\n",
       "    }\n",
       "\n",
       "    .dataframe tbody tr th {\n",
       "        vertical-align: top;\n",
       "    }\n",
       "\n",
       "    .dataframe thead th {\n",
       "        text-align: right;\n",
       "    }\n",
       "</style>\n",
       "<table border=\"1\" class=\"dataframe\">\n",
       "  <thead>\n",
       "    <tr style=\"text-align: right;\">\n",
       "      <th></th>\n",
       "      <th>日期</th>\n",
       "      <th>收盘价</th>\n",
       "      <th>最高价</th>\n",
       "      <th>最低价</th>\n",
       "      <th>开盘价</th>\n",
       "      <th>涨跌额</th>\n",
       "      <th>涨跌幅</th>\n",
       "      <th>成交量</th>\n",
       "      <th>成交额</th>\n",
       "    </tr>\n",
       "  </thead>\n",
       "  <tbody>\n",
       "    <tr>\n",
       "      <th>0</th>\n",
       "      <td>2017-09-14</td>\n",
       "      <td>3371.4256</td>\n",
       "      <td>3391.6435</td>\n",
       "      <td>3361.3335</td>\n",
       "      <td>3383.4700</td>\n",
       "      <td>-12.7214</td>\n",
       "      <td>-0.3759</td>\n",
       "      <td>221306487</td>\n",
       "      <td>256744421274</td>\n",
       "    </tr>\n",
       "    <tr>\n",
       "      <th>1</th>\n",
       "      <td>2017-09-13</td>\n",
       "      <td>3384.1470</td>\n",
       "      <td>3387.1397</td>\n",
       "      <td>3366.5412</td>\n",
       "      <td>3374.7185</td>\n",
       "      <td>4.659</td>\n",
       "      <td>0.1379</td>\n",
       "      <td>194550715</td>\n",
       "      <td>230733408867</td>\n",
       "    </tr>\n",
       "    <tr>\n",
       "      <th>2</th>\n",
       "      <td>2017-09-12</td>\n",
       "      <td>3379.4880</td>\n",
       "      <td>3391.0694</td>\n",
       "      <td>3370.8519</td>\n",
       "      <td>3381.4870</td>\n",
       "      <td>3.0692</td>\n",
       "      <td>0.0909</td>\n",
       "      <td>272910319</td>\n",
       "      <td>325024951982</td>\n",
       "    </tr>\n",
       "    <tr>\n",
       "      <th>3</th>\n",
       "      <td>2017-09-11</td>\n",
       "      <td>3376.4188</td>\n",
       "      <td>3384.8100</td>\n",
       "      <td>3360.0462</td>\n",
       "      <td>3365.3506</td>\n",
       "      <td>11.1762</td>\n",
       "      <td>0.3321</td>\n",
       "      <td>219011019</td>\n",
       "      <td>256888810547</td>\n",
       "    </tr>\n",
       "    <tr>\n",
       "      <th>4</th>\n",
       "      <td>2017-09-08</td>\n",
       "      <td>3365.2426</td>\n",
       "      <td>3380.8898</td>\n",
       "      <td>3353.6876</td>\n",
       "      <td>3364.4275</td>\n",
       "      <td>-0.2548</td>\n",
       "      <td>-0.0076</td>\n",
       "      <td>198405184</td>\n",
       "      <td>235160227356</td>\n",
       "    </tr>\n",
       "  </tbody>\n",
       "</table>\n",
       "</div>"
      ],
      "text/plain": [
       "          日期        收盘价        最高价        最低价        开盘价      涨跌额     涨跌幅  \\\n",
       "0 2017-09-14  3371.4256  3391.6435  3361.3335  3383.4700 -12.7214 -0.3759   \n",
       "1 2017-09-13  3384.1470  3387.1397  3366.5412  3374.7185    4.659  0.1379   \n",
       "2 2017-09-12  3379.4880  3391.0694  3370.8519  3381.4870   3.0692  0.0909   \n",
       "3 2017-09-11  3376.4188  3384.8100  3360.0462  3365.3506  11.1762  0.3321   \n",
       "4 2017-09-08  3365.2426  3380.8898  3353.6876  3364.4275  -0.2548 -0.0076   \n",
       "\n",
       "         成交量           成交额  \n",
       "0  221306487  256744421274  \n",
       "1  194550715  230733408867  \n",
       "2  272910319  325024951982  \n",
       "3  219011019  256888810547  \n",
       "4  198405184  235160227356  "
      ]
     },
     "execution_count": 24,
     "metadata": {},
     "output_type": "execute_result"
    }
   ],
   "source": [
    "raw_data=pd.read_excel(r\"D:\\资料\\所有完整课件高级版\\python数据清洗\\pandas\\data\\上证指数收盘价历史数据(1990-2017.9).xlsx\",header=0)\n",
    "raw_data.head()"
   ]
  },
  {
   "cell_type": "code",
   "execution_count": 25,
   "metadata": {
    "ExecuteTime": {
     "end_time": "2020-07-04T03:32:16.684452Z",
     "start_time": "2020-07-04T03:32:16.674479Z"
    }
   },
   "outputs": [
    {
     "name": "stdout",
     "output_type": "stream",
     "text": [
      "<class 'pandas.core.frame.DataFrame'>\n",
      "RangeIndex: 6542 entries, 0 to 6541\n",
      "Data columns (total 9 columns):\n",
      " #   Column  Non-Null Count  Dtype         \n",
      "---  ------  --------------  -----         \n",
      " 0   日期      6542 non-null   datetime64[ns]\n",
      " 1   收盘价     6542 non-null   float64       \n",
      " 2   最高价     6542 non-null   float64       \n",
      " 3   最低价     6542 non-null   float64       \n",
      " 4   开盘价     6542 non-null   float64       \n",
      " 5   涨跌额     6542 non-null   object        \n",
      " 6   涨跌幅     6542 non-null   object        \n",
      " 7   成交量     6542 non-null   int64         \n",
      " 8   成交额     6542 non-null   object        \n",
      "dtypes: datetime64[ns](1), float64(4), int64(1), object(3)\n",
      "memory usage: 460.1+ KB\n"
     ]
    }
   ],
   "source": [
    "raw_data.info()"
   ]
  },
  {
   "cell_type": "markdown",
   "metadata": {},
   "source": [
    "如果日期字段不是datetime格式的呢？比如object格式？该如何转化为datetime格式？"
   ]
  },
  {
   "cell_type": "code",
   "execution_count": 26,
   "metadata": {
    "ExecuteTime": {
     "end_time": "2020-07-04T03:33:28.277719Z",
     "start_time": "2020-07-04T03:33:28.232825Z"
    }
   },
   "outputs": [
    {
     "data": {
      "text/plain": [
       "0    2017-09-14\n",
       "1    2017-09-13\n",
       "2    2017-09-12\n",
       "3    2017-09-11\n",
       "4    2017-09-08\n",
       "Name: 日期, dtype: object"
      ]
     },
     "execution_count": 26,
     "metadata": {},
     "output_type": "execute_result"
    }
   ],
   "source": [
    "date=raw_data.日期.astype(str)\n",
    "date.head()"
   ]
  },
  {
   "cell_type": "code",
   "execution_count": 27,
   "metadata": {
    "ExecuteTime": {
     "end_time": "2020-07-04T03:33:56.780526Z",
     "start_time": "2020-07-04T03:33:56.771550Z"
    }
   },
   "outputs": [
    {
     "data": {
      "text/plain": [
       "0   2017-09-14\n",
       "1   2017-09-13\n",
       "2   2017-09-12\n",
       "3   2017-09-11\n",
       "4   2017-09-08\n",
       "Name: 日期, dtype: datetime64[ns]"
      ]
     },
     "execution_count": 27,
     "metadata": {},
     "output_type": "execute_result"
    }
   ],
   "source": [
    "pd.to_datetime(date).head()"
   ]
  },
  {
   "cell_type": "markdown",
   "metadata": {},
   "source": [
    "##  转化为指定格式.dt.strftime()"
   ]
  },
  {
   "cell_type": "code",
   "execution_count": 28,
   "metadata": {
    "ExecuteTime": {
     "end_time": "2020-07-04T03:34:58.740294Z",
     "start_time": "2020-07-04T03:34:58.735307Z"
    }
   },
   "outputs": [
    {
     "data": {
      "text/plain": [
       "0   2017-09-14\n",
       "1   2017-09-13\n",
       "2   2017-09-12\n",
       "3   2017-09-11\n",
       "4   2017-09-08\n",
       "Name: 日期, dtype: datetime64[ns]"
      ]
     },
     "execution_count": 28,
     "metadata": {},
     "output_type": "execute_result"
    }
   ],
   "source": [
    "raw_data.日期.head()"
   ]
  },
  {
   "cell_type": "code",
   "execution_count": 29,
   "metadata": {
    "ExecuteTime": {
     "end_time": "2020-07-04T03:36:52.707967Z",
     "start_time": "2020-07-04T03:36:52.663202Z"
    }
   },
   "outputs": [
    {
     "data": {
      "text/plain": [
       "0    2017/09/14\n",
       "1    2017/09/13\n",
       "2    2017/09/12\n",
       "3    2017/09/11\n",
       "4    2017/09/08\n",
       "Name: 日期, dtype: object"
      ]
     },
     "execution_count": 29,
     "metadata": {},
     "output_type": "execute_result"
    }
   ],
   "source": [
    "raw_data.日期.dt.strftime(\"%Y/%m/%d\").head()\n",
    "# 把日期转换成其他样子， 但是数据类型就变成字符串了"
   ]
  },
  {
   "cell_type": "code",
   "execution_count": 49,
   "metadata": {
    "ExecuteTime": {
     "end_time": "2020-07-04T03:35:27.353886Z",
     "start_time": "2020-07-04T03:35:27.350641Z"
    }
   },
   "outputs": [
    {
     "name": "stdout",
     "output_type": "stream",
     "text": [
      "Object `dt.strftime` not found.\n"
     ]
    }
   ],
   "source": [
    "raw_data.日期.dt.strftime()"
   ]
  },
  {
   "cell_type": "code",
   "execution_count": 53,
   "metadata": {
    "ExecuteTime": {
     "end_time": "2020-07-04T03:38:11.020858Z",
     "start_time": "2020-07-04T03:38:10.981935Z"
    }
   },
   "outputs": [
    {
     "data": {
      "text/plain": [
       "0    2017\n",
       "1    2017\n",
       "2    2017\n",
       "3    2017\n",
       "4    2017\n",
       "Name: 日期, dtype: object"
      ]
     },
     "execution_count": 53,
     "metadata": {},
     "output_type": "execute_result"
    }
   ],
   "source": [
    "raw_data.日期.dt.strftime(\"%Y\").head()"
   ]
  },
  {
   "cell_type": "code",
   "execution_count": null,
   "metadata": {},
   "outputs": [],
   "source": []
  },
  {
   "cell_type": "code",
   "execution_count": null,
   "metadata": {},
   "outputs": [],
   "source": []
  },
  {
   "cell_type": "code",
   "execution_count": null,
   "metadata": {},
   "outputs": [],
   "source": []
  },
  {
   "cell_type": "code",
   "execution_count": 1,
   "metadata": {},
   "outputs": [],
   "source": [
    "import pandas as pd"
   ]
  },
  {
   "cell_type": "code",
   "execution_count": 13,
   "metadata": {},
   "outputs": [],
   "source": [
    "a = pd.date_range('2018-8-1',  freq='d',periods=800, )   "
   ]
  },
  {
   "cell_type": "code",
   "execution_count": 14,
   "metadata": {},
   "outputs": [
    {
     "data": {
      "text/html": [
       "<div>\n",
       "<style scoped>\n",
       "    .dataframe tbody tr th:only-of-type {\n",
       "        vertical-align: middle;\n",
       "    }\n",
       "\n",
       "    .dataframe tbody tr th {\n",
       "        vertical-align: top;\n",
       "    }\n",
       "\n",
       "    .dataframe thead th {\n",
       "        text-align: right;\n",
       "    }\n",
       "</style>\n",
       "<table border=\"1\" class=\"dataframe\">\n",
       "  <thead>\n",
       "    <tr style=\"text-align: right;\">\n",
       "      <th></th>\n",
       "      <th>0</th>\n",
       "    </tr>\n",
       "  </thead>\n",
       "  <tbody>\n",
       "    <tr>\n",
       "      <th>0</th>\n",
       "      <td>2018-08-01</td>\n",
       "    </tr>\n",
       "    <tr>\n",
       "      <th>1</th>\n",
       "      <td>2018-08-02</td>\n",
       "    </tr>\n",
       "    <tr>\n",
       "      <th>2</th>\n",
       "      <td>2018-08-03</td>\n",
       "    </tr>\n",
       "    <tr>\n",
       "      <th>3</th>\n",
       "      <td>2018-08-04</td>\n",
       "    </tr>\n",
       "    <tr>\n",
       "      <th>4</th>\n",
       "      <td>2018-08-05</td>\n",
       "    </tr>\n",
       "    <tr>\n",
       "      <th>...</th>\n",
       "      <td>...</td>\n",
       "    </tr>\n",
       "    <tr>\n",
       "      <th>795</th>\n",
       "      <td>2020-10-04</td>\n",
       "    </tr>\n",
       "    <tr>\n",
       "      <th>796</th>\n",
       "      <td>2020-10-05</td>\n",
       "    </tr>\n",
       "    <tr>\n",
       "      <th>797</th>\n",
       "      <td>2020-10-06</td>\n",
       "    </tr>\n",
       "    <tr>\n",
       "      <th>798</th>\n",
       "      <td>2020-10-07</td>\n",
       "    </tr>\n",
       "    <tr>\n",
       "      <th>799</th>\n",
       "      <td>2020-10-08</td>\n",
       "    </tr>\n",
       "  </tbody>\n",
       "</table>\n",
       "<p>800 rows × 1 columns</p>\n",
       "</div>"
      ],
      "text/plain": [
       "             0\n",
       "0   2018-08-01\n",
       "1   2018-08-02\n",
       "2   2018-08-03\n",
       "3   2018-08-04\n",
       "4   2018-08-05\n",
       "..         ...\n",
       "795 2020-10-04\n",
       "796 2020-10-05\n",
       "797 2020-10-06\n",
       "798 2020-10-07\n",
       "799 2020-10-08\n",
       "\n",
       "[800 rows x 1 columns]"
      ]
     },
     "execution_count": 14,
     "metadata": {},
     "output_type": "execute_result"
    }
   ],
   "source": [
    "pd.DataFrame(a)"
   ]
  },
  {
   "cell_type": "code",
   "execution_count": null,
   "metadata": {},
   "outputs": [],
   "source": []
  }
 ],
 "metadata": {
  "kernelspec": {
   "display_name": "Python 3",
   "language": "python",
   "name": "python3"
  },
  "language_info": {
   "codemirror_mode": {
    "name": "ipython",
    "version": 3
   },
   "file_extension": ".py",
   "mimetype": "text/x-python",
   "name": "python",
   "nbconvert_exporter": "python",
   "pygments_lexer": "ipython3",
   "version": "3.8.3"
  },
  "toc": {
   "base_numbering": 1,
   "nav_menu": {},
   "number_sections": true,
   "sideBar": true,
   "skip_h1_title": false,
   "title_cell": "Table of Contents",
   "title_sidebar": "Contents",
   "toc_cell": false,
   "toc_position": {
    "height": "calc(100% - 180px)",
    "left": "10px",
    "top": "150px",
    "width": "165px"
   },
   "toc_section_display": true,
   "toc_window_display": true
  }
 },
 "nbformat": 4,
 "nbformat_minor": 4
}
