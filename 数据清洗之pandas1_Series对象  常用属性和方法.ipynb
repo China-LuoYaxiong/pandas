{
 "cells": [
  {
   "cell_type": "markdown",
   "metadata": {
    "toc": true
   },
   "source": [
    "<h1>Table of Contents<span class=\"tocSkip\"></span></h1>\n",
    "<div class=\"toc\"><ul class=\"toc-item\"><li><span><a href=\"#pandas简介\" data-toc-modified-id=\"pandas简介-1\"><span class=\"toc-item-num\">1&nbsp;&nbsp;</span>pandas简介</a></span></li><li><span><a href=\"#Series对象\" data-toc-modified-id=\"Series对象-2\"><span class=\"toc-item-num\">2&nbsp;&nbsp;</span>Series对象</a></span><ul class=\"toc-item\"><li><span><a href=\"#什么是Series对象\" data-toc-modified-id=\"什么是Series对象-2.1\"><span class=\"toc-item-num\">2.1&nbsp;&nbsp;</span>什么是Series对象</a></span></li><li><span><a href=\"#Series对象的创建\" data-toc-modified-id=\"Series对象的创建-2.2\"><span class=\"toc-item-num\">2.2&nbsp;&nbsp;</span>Series对象的创建</a></span><ul class=\"toc-item\"><li><span><a href=\"#pd.Series(data,-index)\" data-toc-modified-id=\"pd.Series(data,-index)-2.2.1\"><span class=\"toc-item-num\">2.2.1&nbsp;&nbsp;</span>pd.Series(data, index)</a></span></li></ul></li><li><span><a href=\"#Series对象的常用属性\" data-toc-modified-id=\"Series对象的常用属性-2.3\"><span class=\"toc-item-num\">2.3&nbsp;&nbsp;</span>Series对象的常用属性</a></span><ul class=\"toc-item\"><li><span><a href=\"#ser.values\" data-toc-modified-id=\"ser.values-2.3.1\"><span class=\"toc-item-num\">2.3.1&nbsp;&nbsp;</span>ser.values</a></span></li><li><span><a href=\"#ser.index\" data-toc-modified-id=\"ser.index-2.3.2\"><span class=\"toc-item-num\">2.3.2&nbsp;&nbsp;</span>ser.index</a></span></li><li><span><a href=\"#ser.size\" data-toc-modified-id=\"ser.size-2.3.3\"><span class=\"toc-item-num\">2.3.3&nbsp;&nbsp;</span>ser.size</a></span></li></ul></li><li><span><a href=\"#Series对象常用的一些方法\" data-toc-modified-id=\"Series对象常用的一些方法-2.4\"><span class=\"toc-item-num\">2.4&nbsp;&nbsp;</span>Series对象常用的一些方法</a></span><ul class=\"toc-item\"><li><span><a href=\"#ser.value_counts()\" data-toc-modified-id=\"ser.value_counts()-2.4.1\"><span class=\"toc-item-num\">2.4.1&nbsp;&nbsp;</span>ser.value_counts()</a></span></li><li><span><a href=\"#ser.isnull()\" data-toc-modified-id=\"ser.isnull()-2.4.2\"><span class=\"toc-item-num\">2.4.2&nbsp;&nbsp;</span>ser.isnull()</a></span></li><li><span><a href=\"#ser.fillna()\" data-toc-modified-id=\"ser.fillna()-2.4.3\"><span class=\"toc-item-num\">2.4.3&nbsp;&nbsp;</span>ser.fillna()</a></span></li><li><span><a href=\"#ser.sort_values()\" data-toc-modified-id=\"ser.sort_values()-2.4.4\"><span class=\"toc-item-num\">2.4.4&nbsp;&nbsp;</span>ser.sort_values()</a></span></li><li><span><a href=\"#ser.sort_index()\" data-toc-modified-id=\"ser.sort_index()-2.4.5\"><span class=\"toc-item-num\">2.4.5&nbsp;&nbsp;</span>ser.sort_index()</a></span></li><li><span><a href=\"#ser.append()\" data-toc-modified-id=\"ser.append()-2.4.6\"><span class=\"toc-item-num\">2.4.6&nbsp;&nbsp;</span>ser.append()</a></span></li><li><span><a href=\"#ser.apply()\" data-toc-modified-id=\"ser.apply()-2.4.7\"><span class=\"toc-item-num\">2.4.7&nbsp;&nbsp;</span>ser.apply()</a></span></li><li><span><a href=\"#ser.map()\" data-toc-modified-id=\"ser.map()-2.4.8\"><span class=\"toc-item-num\">2.4.8&nbsp;&nbsp;</span>ser.map()</a></span></li></ul></li><li><span><a href=\"#Series对象的切片和索引\" data-toc-modified-id=\"Series对象的切片和索引-2.5\"><span class=\"toc-item-num\">2.5&nbsp;&nbsp;</span>Series对象的切片和索引</a></span><ul class=\"toc-item\"><li><span><a href=\"#隐式索引和切片\" data-toc-modified-id=\"隐式索引和切片-2.5.1\"><span class=\"toc-item-num\">2.5.1&nbsp;&nbsp;</span>隐式索引和切片</a></span></li><li><span><a href=\"#显示索引和切片\" data-toc-modified-id=\"显示索引和切片-2.5.2\"><span class=\"toc-item-num\">2.5.2&nbsp;&nbsp;</span>显示索引和切片</a></span></li></ul></li></ul></li></ul></div>"
   ]
  },
  {
   "cell_type": "code",
   "execution_count": 1,
   "metadata": {
    "ExecuteTime": {
     "end_time": "2019-12-10T00:24:38.975505Z",
     "start_time": "2019-12-10T00:24:38.970509Z"
    }
   },
   "outputs": [],
   "source": [
    "#全部行都能输出\n",
    "from IPython.core.interactiveshell import InteractiveShell\n",
    "InteractiveShell.ast_node_interactivity = \"all\""
   ]
  },
  {
   "cell_type": "markdown",
   "metadata": {},
   "source": [
    "# pandas简介"
   ]
  },
  {
   "cell_type": "markdown",
   "metadata": {},
   "source": [
    "Pandas是一个强大的分析结构化数据的工具集；\n",
    "\n",
    "(Pandas 纳入了大量库和一些标准的数据模型，提供了高效地操作大型数据集所需的函数和方法，能够快速便捷地处理数据)\n",
    "\n",
    "它的使用基础是Numpy（提供高性能的矩阵运算）；\n",
    "\n",
    "用于数据挖掘和数据分析，同时也提供数据清洗功能\n",
    "\n",
    "numpy中是用ndarray对象， 在pandas中是Series对象和DataFrame对象。"
   ]
  },
  {
   "cell_type": "markdown",
   "metadata": {},
   "source": [
    "引用习惯如下：  "
   ]
  },
  {
   "cell_type": "code",
   "execution_count": 2,
   "metadata": {
    "ExecuteTime": {
     "end_time": "2019-12-10T06:58:20.806709Z",
     "start_time": "2019-12-10T06:58:20.797708Z"
    }
   },
   "outputs": [],
   "source": [
    "#pip list"
   ]
  },
  {
   "cell_type": "code",
   "execution_count": 3,
   "metadata": {
    "ExecuteTime": {
     "end_time": "2019-12-10T06:58:43.634014Z",
     "start_time": "2019-12-10T06:58:41.580897Z"
    }
   },
   "outputs": [],
   "source": [
    "import numpy as np\n",
    "import pandas as pd"
   ]
  },
  {
   "cell_type": "markdown",
   "metadata": {},
   "source": [
    "# Series对象"
   ]
  },
  {
   "cell_type": "markdown",
   "metadata": {},
   "source": [
    "## 什么是Series对象"
   ]
  },
  {
   "cell_type": "markdown",
   "metadata": {},
   "source": [
    "Series是一种类似于一维数组的对象，是由一组数据(各种NumPy数据类型)以及一组与之相关的数据标签(即索引)组成。仅由一组数据也可产生简单的Series对象。  \n",
    "Series是Pandas包提供的一种Key-value型数据结构,其中Key为用户定义的显示index,每个显式index对应一个value值.\n",
    "\n",
    "它与Python列表的区别在于,Series的每个元素都带有两种index\n",
    "- 显示index : 由用户指定\n",
    "- 隐式index : 由系统自动分配(Series对象中每个元素的下标,类似Python\"列表\"的下标)\n",
    "\n",
    "Series的访问既可以通过显示index,也可以通过隐式index"
   ]
  },
  {
   "cell_type": "markdown",
   "metadata": {},
   "source": [
    "## Series对象的创建"
   ]
  },
  {
   "cell_type": "markdown",
   "metadata": {},
   "source": [
    "### pd.Series(data, index)  \n",
    "可以直接将ndarray对象 列表 元祖 字典等对象转化为Series对象"
   ]
  },
  {
   "cell_type": "code",
   "execution_count": 4,
   "metadata": {
    "ExecuteTime": {
     "end_time": "2019-12-10T00:24:45.032716Z",
     "start_time": "2019-12-10T00:24:45.017758Z"
    }
   },
   "outputs": [
    {
     "data": {
      "text/plain": [
       "array([1, 1, 1, 1, 1])"
      ]
     },
     "execution_count": 4,
     "metadata": {},
     "output_type": "execute_result"
    }
   ],
   "source": [
    "a = np.array([1, 1, 1, 1, 1])\n",
    "a"
   ]
  },
  {
   "cell_type": "code",
   "execution_count": 6,
   "metadata": {
    "ExecuteTime": {
     "end_time": "2019-12-10T00:24:47.992044Z",
     "start_time": "2019-12-10T00:24:47.986061Z"
    }
   },
   "outputs": [
    {
     "data": {
      "text/plain": [
       "0    1\n",
       "1    1\n",
       "2    1\n",
       "3    1\n",
       "4    1\n",
       "dtype: int32"
      ]
     },
     "execution_count": 6,
     "metadata": {},
     "output_type": "execute_result"
    }
   ],
   "source": [
    "pd.Series(a)  # 每一个元素有了一个索引， 这种索引是pandas自动分配的， 成为隐式索引"
   ]
  },
  {
   "cell_type": "code",
   "execution_count": 7,
   "metadata": {
    "ExecuteTime": {
     "end_time": "2019-12-10T00:24:51.292428Z",
     "start_time": "2019-12-10T00:24:51.189998Z"
    }
   },
   "outputs": [
    {
     "data": {
      "text/plain": [
       "0    1\n",
       "1    2\n",
       "2    5\n",
       "3    6\n",
       "4    0\n",
       "dtype: int64"
      ]
     },
     "execution_count": 7,
     "metadata": {},
     "output_type": "execute_result"
    }
   ],
   "source": [
    "pd.Series([1, 2, 5, 6, 0])"
   ]
  },
  {
   "cell_type": "code",
   "execution_count": 8,
   "metadata": {
    "ExecuteTime": {
     "end_time": "2019-12-10T00:24:52.934312Z",
     "start_time": "2019-12-10T00:24:52.929325Z"
    }
   },
   "outputs": [
    {
     "data": {
      "text/plain": [
       "0    3\n",
       "1    4\n",
       "2    5\n",
       "3    6\n",
       "dtype: int64"
      ]
     },
     "execution_count": 8,
     "metadata": {},
     "output_type": "execute_result"
    }
   ],
   "source": [
    "pd.Series((3, 4, 5, 6))"
   ]
  },
  {
   "cell_type": "markdown",
   "metadata": {},
   "source": [
    "通过index参数来自己定义索引"
   ]
  },
  {
   "cell_type": "code",
   "execution_count": 9,
   "metadata": {
    "ExecuteTime": {
     "end_time": "2019-12-10T00:25:28.405448Z",
     "start_time": "2019-12-10T00:25:28.399486Z"
    }
   },
   "outputs": [
    {
     "data": {
      "text/plain": [
       "张三    90\n",
       "李四    96\n",
       "王五    78\n",
       "dtype: int64"
      ]
     },
     "execution_count": 9,
     "metadata": {},
     "output_type": "execute_result"
    }
   ],
   "source": [
    "pd.Series([90, 96, 78], ['张三', '李四', '王五'])  # 第二参数是指定索引"
   ]
  },
  {
   "cell_type": "code",
   "execution_count": 10,
   "metadata": {
    "ExecuteTime": {
     "end_time": "2019-12-10T00:25:28.876879Z",
     "start_time": "2019-12-10T00:25:28.872858Z"
    }
   },
   "outputs": [
    {
     "data": {
      "text/plain": [
       "{'1': 123, '2': 456, '3': '789'}"
      ]
     },
     "execution_count": 10,
     "metadata": {},
     "output_type": "execute_result"
    }
   ],
   "source": [
    "d = {'1':123, '2':456, '3':'789'}\n",
    "d"
   ]
  },
  {
   "cell_type": "code",
   "execution_count": 11,
   "metadata": {
    "ExecuteTime": {
     "end_time": "2019-12-10T00:25:29.360855Z",
     "start_time": "2019-12-10T00:25:29.354845Z"
    }
   },
   "outputs": [
    {
     "data": {
      "text/plain": [
       "1    123\n",
       "2    456\n",
       "3    789\n",
       "dtype: object"
      ]
     },
     "execution_count": 11,
     "metadata": {},
     "output_type": "execute_result"
    }
   ],
   "source": [
    "pd.Series(d)  # 把字典的键作为索引"
   ]
  },
  {
   "cell_type": "markdown",
   "metadata": {},
   "source": [
    "## Series对象的常用属性"
   ]
  },
  {
   "cell_type": "code",
   "execution_count": 12,
   "metadata": {
    "ExecuteTime": {
     "end_time": "2019-12-10T00:25:30.937352Z",
     "start_time": "2019-12-10T00:25:30.931398Z"
    }
   },
   "outputs": [
    {
     "data": {
      "text/plain": [
       "赵一    90.0\n",
       "赵二    89.0\n",
       "赵三    90.0\n",
       "赵四    71.0\n",
       "赵五    87.0\n",
       "赵六    87.0\n",
       "赵七    65.0\n",
       "赵八    60.0\n",
       "赵九     NaN\n",
       "dtype: float64"
      ]
     },
     "execution_count": 12,
     "metadata": {},
     "output_type": "execute_result"
    }
   ],
   "source": [
    "ser = pd.Series([90, 89, 90, 71, 87, 87, 65, 60, np.nan],   # 有一个缺失值\n",
    "               ['赵一', '赵二', '赵三', '赵四', '赵五', '赵六', '赵七', '赵八', '赵九'])\n",
    "ser"
   ]
  },
  {
   "cell_type": "markdown",
   "metadata": {},
   "source": [
    "### ser.values\n",
    "返回Series对象的值, 返回的是一个一维的ndarray"
   ]
  },
  {
   "cell_type": "code",
   "execution_count": 13,
   "metadata": {
    "ExecuteTime": {
     "end_time": "2019-12-10T00:25:35.880580Z",
     "start_time": "2019-12-10T00:25:35.874768Z"
    }
   },
   "outputs": [
    {
     "data": {
      "text/plain": [
       "array([90., 89., 90., 71., 87., 87., 65., 60., nan])"
      ]
     },
     "execution_count": 13,
     "metadata": {},
     "output_type": "execute_result"
    }
   ],
   "source": [
    "ser.values"
   ]
  },
  {
   "cell_type": "markdown",
   "metadata": {},
   "source": [
    "### ser.index\n",
    "返回Series对象的索引, 返回的是一个一维的ndarray"
   ]
  },
  {
   "cell_type": "code",
   "execution_count": 14,
   "metadata": {
    "ExecuteTime": {
     "end_time": "2019-12-10T00:25:38.142281Z",
     "start_time": "2019-12-10T00:25:38.138288Z"
    }
   },
   "outputs": [
    {
     "data": {
      "text/plain": [
       "Index(['赵一', '赵二', '赵三', '赵四', '赵五', '赵六', '赵七', '赵八', '赵九'], dtype='object')"
      ]
     },
     "execution_count": 14,
     "metadata": {},
     "output_type": "execute_result"
    }
   ],
   "source": [
    "ser.index"
   ]
  },
  {
   "cell_type": "markdown",
   "metadata": {},
   "source": [
    "### ser.size  \n",
    "返回Series对象的行数"
   ]
  },
  {
   "cell_type": "code",
   "execution_count": 15,
   "metadata": {
    "ExecuteTime": {
     "end_time": "2019-12-10T00:25:39.186336Z",
     "start_time": "2019-12-10T00:25:39.181380Z"
    }
   },
   "outputs": [
    {
     "data": {
      "text/plain": [
       "9"
      ]
     },
     "execution_count": 15,
     "metadata": {},
     "output_type": "execute_result"
    }
   ],
   "source": [
    "ser.size"
   ]
  },
  {
   "cell_type": "markdown",
   "metadata": {},
   "source": [
    "## Series对象常用的一些方法"
   ]
  },
  {
   "cell_type": "code",
   "execution_count": 16,
   "metadata": {
    "ExecuteTime": {
     "end_time": "2019-12-10T00:25:48.188125Z",
     "start_time": "2019-12-10T00:25:48.181168Z"
    }
   },
   "outputs": [
    {
     "data": {
      "text/plain": [
       "赵一    90.0\n",
       "赵二    89.0\n",
       "赵三    90.0\n",
       "赵四    71.0\n",
       "赵五    87.0\n",
       "赵六    87.0\n",
       "赵七    65.0\n",
       "赵八    60.0\n",
       "赵九     NaN\n",
       "dtype: float64"
      ]
     },
     "execution_count": 16,
     "metadata": {},
     "output_type": "execute_result"
    }
   ],
   "source": [
    "ser = pd.Series([90, 89, 90, 71, 87, 87, 65, 60, np.nan],   # 有一个缺失值\n",
    "               ['赵一', '赵二', '赵三', '赵四', '赵五', '赵六', '赵七', '赵八', '赵九'])\n",
    "ser"
   ]
  },
  {
   "cell_type": "markdown",
   "metadata": {},
   "source": [
    "### ser.value_counts()  \n",
    "对值进行分类计数, 缺失值不计入"
   ]
  },
  {
   "cell_type": "code",
   "execution_count": 17,
   "metadata": {
    "ExecuteTime": {
     "end_time": "2019-12-10T00:25:53.219147Z",
     "start_time": "2019-12-10T00:25:53.211168Z"
    }
   },
   "outputs": [
    {
     "data": {
      "text/plain": [
       "87.0    2\n",
       "90.0    2\n",
       "60.0    1\n",
       "65.0    1\n",
       "71.0    1\n",
       "89.0    1\n",
       "dtype: int64"
      ]
     },
     "execution_count": 17,
     "metadata": {},
     "output_type": "execute_result"
    }
   ],
   "source": [
    "ser.value_counts()  \n",
    "\n",
    "# 默认是返回每个值出现的次数"
   ]
  },
  {
   "cell_type": "code",
   "execution_count": 18,
   "metadata": {},
   "outputs": [
    {
     "data": {
      "text/plain": [
       "87.0    0.250\n",
       "90.0    0.250\n",
       "60.0    0.125\n",
       "65.0    0.125\n",
       "71.0    0.125\n",
       "89.0    0.125\n",
       "dtype: float64"
      ]
     },
     "execution_count": 18,
     "metadata": {},
     "output_type": "execute_result"
    }
   ],
   "source": [
    "ser.value_counts(normalize=True)  # 返回每个值出现的评率, 缺失值忽略"
   ]
  },
  {
   "cell_type": "code",
   "execution_count": 19,
   "metadata": {},
   "outputs": [
    {
     "data": {
      "text/plain": [
       "89.0    1\n",
       "71.0    1\n",
       "65.0    1\n",
       "60.0    1\n",
       "90.0    2\n",
       "87.0    2\n",
       "dtype: int64"
      ]
     },
     "execution_count": 19,
     "metadata": {},
     "output_type": "execute_result"
    }
   ],
   "source": [
    "ser.value_counts(ascending=True)  # ascending=True, 按照出现的次数进行升序， 默认是降序"
   ]
  },
  {
   "cell_type": "code",
   "execution_count": 20,
   "metadata": {},
   "outputs": [
    {
     "data": {
      "text/plain": [
       "87.0    2\n",
       "90.0    2\n",
       "NaN     1\n",
       "60.0    1\n",
       "65.0    1\n",
       "71.0    1\n",
       "89.0    1\n",
       "dtype: int64"
      ]
     },
     "execution_count": 20,
     "metadata": {},
     "output_type": "execute_result"
    }
   ],
   "source": [
    "ser.value_counts(dropna=False)  # 是否删除缺失值"
   ]
  },
  {
   "cell_type": "code",
   "execution_count": 21,
   "metadata": {
    "ExecuteTime": {
     "end_time": "2019-12-10T00:25:55.537669Z",
     "start_time": "2019-12-10T00:25:55.047551Z"
    }
   },
   "outputs": [
    {
     "data": {
      "text/plain": [
       "87.0    0.222222\n",
       "90.0    0.222222\n",
       "60.0    0.111111\n",
       "65.0    0.111111\n",
       "71.0    0.111111\n",
       "89.0    0.111111\n",
       "dtype: float64"
      ]
     },
     "execution_count": 21,
     "metadata": {},
     "output_type": "execute_result"
    }
   ],
   "source": [
    "ser.value_counts()/ser.size  # 每个类别所占的比例"
   ]
  },
  {
   "cell_type": "code",
   "execution_count": null,
   "metadata": {},
   "outputs": [],
   "source": []
  },
  {
   "cell_type": "markdown",
   "metadata": {},
   "source": [
    "### ser.isnull()  \n",
    "判断每一个值是否是缺失值"
   ]
  },
  {
   "cell_type": "code",
   "execution_count": 22,
   "metadata": {
    "ExecuteTime": {
     "end_time": "2019-12-10T00:26:04.240158Z",
     "start_time": "2019-12-10T00:26:04.235205Z"
    }
   },
   "outputs": [
    {
     "data": {
      "text/plain": [
       "赵一    False\n",
       "赵二    False\n",
       "赵三    False\n",
       "赵四    False\n",
       "赵五    False\n",
       "赵六    False\n",
       "赵七    False\n",
       "赵八    False\n",
       "赵九     True\n",
       "dtype: bool"
      ]
     },
     "execution_count": 22,
     "metadata": {},
     "output_type": "execute_result"
    }
   ],
   "source": [
    "ser.isnull()"
   ]
  },
  {
   "cell_type": "markdown",
   "metadata": {},
   "source": [
    "可以通过这种方法查看缺失值的比例"
   ]
  },
  {
   "cell_type": "code",
   "execution_count": 23,
   "metadata": {
    "ExecuteTime": {
     "end_time": "2019-12-10T00:26:06.375772Z",
     "start_time": "2019-12-10T00:26:06.370786Z"
    }
   },
   "outputs": [
    {
     "data": {
      "text/plain": [
       "赵一    False\n",
       "赵二    False\n",
       "赵三    False\n",
       "赵四    False\n",
       "赵五    False\n",
       "赵六    False\n",
       "赵七    False\n",
       "赵八    False\n",
       "赵九     True\n",
       "dtype: bool"
      ]
     },
     "execution_count": 23,
     "metadata": {},
     "output_type": "execute_result"
    }
   ],
   "source": [
    "ser.isnull()"
   ]
  },
  {
   "cell_type": "code",
   "execution_count": 24,
   "metadata": {
    "ExecuteTime": {
     "end_time": "2019-12-10T00:26:07.043693Z",
     "start_time": "2019-12-10T00:26:07.038738Z"
    }
   },
   "outputs": [
    {
     "data": {
      "text/plain": [
       "1"
      ]
     },
     "execution_count": 24,
     "metadata": {},
     "output_type": "execute_result"
    }
   ],
   "source": [
    "ser.isnull().sum()  # 缺失值的个数"
   ]
  },
  {
   "cell_type": "code",
   "execution_count": 25,
   "metadata": {
    "ExecuteTime": {
     "end_time": "2019-12-10T00:26:07.508405Z",
     "start_time": "2019-12-10T00:26:07.502421Z"
    }
   },
   "outputs": [
    {
     "data": {
      "text/plain": [
       "0.1111111111111111"
      ]
     },
     "execution_count": 25,
     "metadata": {},
     "output_type": "execute_result"
    }
   ],
   "source": [
    "ser.isnull().sum()/ser.size  # 缺失值的 比列"
   ]
  },
  {
   "cell_type": "markdown",
   "metadata": {},
   "source": [
    "### ser.fillna()"
   ]
  },
  {
   "cell_type": "code",
   "execution_count": 26,
   "metadata": {},
   "outputs": [
    {
     "data": {
      "text/plain": [
       "赵一    90.0\n",
       "赵二    89.0\n",
       "赵三    90.0\n",
       "赵四    71.0\n",
       "赵五    87.0\n",
       "赵六    87.0\n",
       "赵七    65.0\n",
       "赵八    60.0\n",
       "赵九     NaN\n",
       "dtype: float64"
      ]
     },
     "execution_count": 26,
     "metadata": {},
     "output_type": "execute_result"
    }
   ],
   "source": [
    "ser"
   ]
  },
  {
   "cell_type": "code",
   "execution_count": 27,
   "metadata": {},
   "outputs": [
    {
     "data": {
      "text/plain": [
       "赵一    90.000\n",
       "赵二    89.000\n",
       "赵三    90.000\n",
       "赵四    71.000\n",
       "赵五    87.000\n",
       "赵六    87.000\n",
       "赵七    65.000\n",
       "赵八    60.000\n",
       "赵九    79.875\n",
       "dtype: float64"
      ]
     },
     "execution_count": 27,
     "metadata": {},
     "output_type": "execute_result"
    }
   ],
   "source": [
    "ser.fillna(ser.mean())  # 用均值填充该列的缺失值"
   ]
  },
  {
   "cell_type": "code",
   "execution_count": 28,
   "metadata": {},
   "outputs": [],
   "source": [
    "ser.fillna(ser.mean(), inplace=True)"
   ]
  },
  {
   "cell_type": "code",
   "execution_count": 29,
   "metadata": {},
   "outputs": [
    {
     "data": {
      "text/plain": [
       "赵一    90.000\n",
       "赵二    89.000\n",
       "赵三    90.000\n",
       "赵四    71.000\n",
       "赵五    87.000\n",
       "赵六    87.000\n",
       "赵七    65.000\n",
       "赵八    60.000\n",
       "赵九    79.875\n",
       "dtype: float64"
      ]
     },
     "execution_count": 29,
     "metadata": {},
     "output_type": "execute_result"
    }
   ],
   "source": [
    "ser"
   ]
  },
  {
   "cell_type": "markdown",
   "metadata": {},
   "source": [
    "### ser.sort_values()"
   ]
  },
  {
   "cell_type": "code",
   "execution_count": 30,
   "metadata": {},
   "outputs": [
    {
     "data": {
      "text/plain": [
       "赵八    60.000\n",
       "赵七    65.000\n",
       "赵四    71.000\n",
       "赵九    79.875\n",
       "赵五    87.000\n",
       "赵六    87.000\n",
       "赵二    89.000\n",
       "赵一    90.000\n",
       "赵三    90.000\n",
       "dtype: float64"
      ]
     },
     "execution_count": 30,
     "metadata": {},
     "output_type": "execute_result"
    }
   ],
   "source": [
    "ser.sort_values()  # 默认按值进行升序"
   ]
  },
  {
   "cell_type": "code",
   "execution_count": 31,
   "metadata": {},
   "outputs": [
    {
     "data": {
      "text/plain": [
       "赵三    90.000\n",
       "赵一    90.000\n",
       "赵二    89.000\n",
       "赵六    87.000\n",
       "赵五    87.000\n",
       "赵九    79.875\n",
       "赵四    71.000\n",
       "赵七    65.000\n",
       "赵八    60.000\n",
       "dtype: float64"
      ]
     },
     "execution_count": 31,
     "metadata": {},
     "output_type": "execute_result"
    }
   ],
   "source": [
    "ser.sort_values(ascending=False)  #ascending=False变成降序"
   ]
  },
  {
   "cell_type": "markdown",
   "metadata": {},
   "source": [
    "### ser.sort_index()"
   ]
  },
  {
   "cell_type": "code",
   "execution_count": 32,
   "metadata": {},
   "outputs": [
    {
     "data": {
      "text/plain": [
       "2    a\n",
       "5    c\n",
       "1    b\n",
       "4    d\n",
       "3    f\n",
       "dtype: object"
      ]
     },
     "execution_count": 32,
     "metadata": {},
     "output_type": "execute_result"
    }
   ],
   "source": [
    "ser = pd.Series(['a', 'c', 'b', 'd', 'f'], [2, 5, 1, 4, 3])\n",
    "ser"
   ]
  },
  {
   "cell_type": "code",
   "execution_count": 33,
   "metadata": {},
   "outputs": [
    {
     "data": {
      "text/plain": [
       "1    b\n",
       "2    a\n",
       "3    f\n",
       "4    d\n",
       "5    c\n",
       "dtype: object"
      ]
     },
     "execution_count": 33,
     "metadata": {},
     "output_type": "execute_result"
    }
   ],
   "source": [
    "ser.sort_index()  # 也是默认进行升序"
   ]
  },
  {
   "cell_type": "code",
   "execution_count": 34,
   "metadata": {},
   "outputs": [
    {
     "data": {
      "text/plain": [
       "5    c\n",
       "4    d\n",
       "3    f\n",
       "2    a\n",
       "1    b\n",
       "dtype: object"
      ]
     },
     "execution_count": 34,
     "metadata": {},
     "output_type": "execute_result"
    }
   ],
   "source": [
    "ser.sort_index(ascending=False)  # ascending=False变成降序"
   ]
  },
  {
   "cell_type": "markdown",
   "metadata": {},
   "source": [
    "### ser.append()"
   ]
  },
  {
   "cell_type": "code",
   "execution_count": 35,
   "metadata": {},
   "outputs": [
    {
     "data": {
      "text/plain": [
       "2    a\n",
       "5    c\n",
       "1    b\n",
       "4    d\n",
       "3    f\n",
       "dtype: object"
      ]
     },
     "execution_count": 35,
     "metadata": {},
     "output_type": "execute_result"
    }
   ],
   "source": [
    "ser"
   ]
  },
  {
   "cell_type": "code",
   "execution_count": 36,
   "metadata": {},
   "outputs": [
    {
     "data": {
      "text/plain": [
       "0    a\n",
       "1    b\n",
       "dtype: object"
      ]
     },
     "execution_count": 36,
     "metadata": {},
     "output_type": "execute_result"
    }
   ],
   "source": [
    "s = pd.Series(['a', 'b'], [0, 1])\n",
    "s"
   ]
  },
  {
   "cell_type": "code",
   "execution_count": 37,
   "metadata": {},
   "outputs": [
    {
     "data": {
      "text/plain": [
       "2    a\n",
       "5    c\n",
       "1    b\n",
       "4    d\n",
       "3    f\n",
       "0    a\n",
       "1    b\n",
       "dtype: object"
      ]
     },
     "execution_count": 37,
     "metadata": {},
     "output_type": "execute_result"
    }
   ],
   "source": [
    "ser.append(s )"
   ]
  },
  {
   "cell_type": "code",
   "execution_count": 38,
   "metadata": {},
   "outputs": [
    {
     "data": {
      "text/plain": [
       "0    a\n",
       "1    c\n",
       "2    b\n",
       "3    d\n",
       "4    f\n",
       "5    a\n",
       "6    b\n",
       "dtype: object"
      ]
     },
     "execution_count": 38,
     "metadata": {},
     "output_type": "execute_result"
    }
   ],
   "source": [
    "ser.append(s, ignore_index=True)  # ignore_index=True忽略原索引"
   ]
  },
  {
   "cell_type": "markdown",
   "metadata": {},
   "source": [
    "### ser.apply()  \n",
    "ser.apply(func, convert_dtype=True, args=(), **kwds)  \n",
    "- func:Python函数或NumPy ufunc应用 ，如果func返回Series对象，则结果将是DataFrame。\n",
    "- convert_dtype:默认的True，尝试为函数的结果找到更好的数据类型。如果为false，则保留为dtype=Object。默认就好。\n",
    "- args=()：元组位置参数传递定义的func。\n",
    "- **kwds：传递给func的附加关键字参数。"
   ]
  },
  {
   "cell_type": "code",
   "execution_count": 39,
   "metadata": {},
   "outputs": [],
   "source": [
    "ser.apply?"
   ]
  },
  {
   "cell_type": "code",
   "execution_count": 40,
   "metadata": {},
   "outputs": [
    {
     "data": {
      "text/plain": [
       "A    12K-15K 成都\n",
       "B    15K-18K 上海\n",
       "C    18K-22K 北京\n",
       "dtype: object"
      ]
     },
     "execution_count": 40,
     "metadata": {},
     "output_type": "execute_result"
    }
   ],
   "source": [
    "ser = pd.Series(['12K-15K 成都', '15K-18K 上海', '18K-22K 北京'], ['A', 'B', 'C'])\n",
    "ser"
   ]
  },
  {
   "cell_type": "code",
   "execution_count": 41,
   "metadata": {},
   "outputs": [],
   "source": [
    "# 取出所有的K\n",
    "def X(s):\n",
    "    return s.replace('K', '')"
   ]
  },
  {
   "cell_type": "code",
   "execution_count": 42,
   "metadata": {},
   "outputs": [
    {
     "data": {
      "text/plain": [
       "A    12-15 成都\n",
       "B    15-18 上海\n",
       "C    18-22 北京\n",
       "dtype: object"
      ]
     },
     "execution_count": 42,
     "metadata": {},
     "output_type": "execute_result"
    }
   ],
   "source": [
    "ser.apply(X)"
   ]
  },
  {
   "cell_type": "code",
   "execution_count": 43,
   "metadata": {},
   "outputs": [
    {
     "data": {
      "text/plain": [
       "A    12-15 成都\n",
       "B    15-18 上海\n",
       "C    18-22 北京\n",
       "dtype: object"
      ]
     },
     "execution_count": 43,
     "metadata": {},
     "output_type": "execute_result"
    }
   ],
   "source": [
    "# 也可以来一个匿名函数\n",
    "ser.apply(lambda s:s.replace('K', ''))"
   ]
  },
  {
   "cell_type": "markdown",
   "metadata": {},
   "source": [
    "若函数返回的是一个Series对象， 则返回一个DataFrame"
   ]
  },
  {
   "cell_type": "code",
   "execution_count": 44,
   "metadata": {},
   "outputs": [],
   "source": [
    "def XD(s):\n",
    "    return pd.Series(s.split(' '), ['工资', '城市'])"
   ]
  },
  {
   "cell_type": "code",
   "execution_count": 45,
   "metadata": {},
   "outputs": [
    {
     "data": {
      "text/plain": [
       "工资    12K-15K\n",
       "城市         成都\n",
       "dtype: object"
      ]
     },
     "execution_count": 45,
     "metadata": {},
     "output_type": "execute_result"
    }
   ],
   "source": [
    "XD('12K-15K 成都')"
   ]
  },
  {
   "cell_type": "code",
   "execution_count": 46,
   "metadata": {},
   "outputs": [
    {
     "data": {
      "text/html": [
       "<div>\n",
       "<style scoped>\n",
       "    .dataframe tbody tr th:only-of-type {\n",
       "        vertical-align: middle;\n",
       "    }\n",
       "\n",
       "    .dataframe tbody tr th {\n",
       "        vertical-align: top;\n",
       "    }\n",
       "\n",
       "    .dataframe thead th {\n",
       "        text-align: right;\n",
       "    }\n",
       "</style>\n",
       "<table border=\"1\" class=\"dataframe\">\n",
       "  <thead>\n",
       "    <tr style=\"text-align: right;\">\n",
       "      <th></th>\n",
       "      <th>工资</th>\n",
       "      <th>城市</th>\n",
       "    </tr>\n",
       "  </thead>\n",
       "  <tbody>\n",
       "    <tr>\n",
       "      <th>A</th>\n",
       "      <td>12K-15K</td>\n",
       "      <td>成都</td>\n",
       "    </tr>\n",
       "    <tr>\n",
       "      <th>B</th>\n",
       "      <td>15K-18K</td>\n",
       "      <td>上海</td>\n",
       "    </tr>\n",
       "    <tr>\n",
       "      <th>C</th>\n",
       "      <td>18K-22K</td>\n",
       "      <td>北京</td>\n",
       "    </tr>\n",
       "  </tbody>\n",
       "</table>\n",
       "</div>"
      ],
      "text/plain": [
       "        工资  城市\n",
       "A  12K-15K  成都\n",
       "B  15K-18K  上海\n",
       "C  18K-22K  北京"
      ]
     },
     "execution_count": 46,
     "metadata": {},
     "output_type": "execute_result"
    }
   ],
   "source": [
    "ser.apply(XD)"
   ]
  },
  {
   "cell_type": "code",
   "execution_count": 47,
   "metadata": {},
   "outputs": [
    {
     "data": {
      "text/plain": [
       "A    12K-15K 成都\n",
       "B    15K-18K 上海\n",
       "C    18K-22K 北京\n",
       "dtype: object"
      ]
     },
     "execution_count": 47,
     "metadata": {},
     "output_type": "execute_result"
    }
   ],
   "source": [
    "ser"
   ]
  },
  {
   "cell_type": "markdown",
   "metadata": {},
   "source": [
    "可以通过args=()给func传入位置参数"
   ]
  },
  {
   "cell_type": "code",
   "execution_count": 48,
   "metadata": {},
   "outputs": [
    {
     "data": {
      "text/plain": [
       "A    12K-15K 成都\n",
       "B    15K-18K 上海\n",
       "C    18K-22K 北京\n",
       "dtype: object"
      ]
     },
     "execution_count": 48,
     "metadata": {},
     "output_type": "execute_result"
    }
   ],
   "source": [
    "ser"
   ]
  },
  {
   "cell_type": "code",
   "execution_count": 49,
   "metadata": {},
   "outputs": [],
   "source": [
    "def X(s, new, num):\n",
    "    return s.replace('K', new, num)"
   ]
  },
  {
   "cell_type": "code",
   "execution_count": 50,
   "metadata": {},
   "outputs": [
    {
     "data": {
      "text/plain": [
       "'12-15K 成都'"
      ]
     },
     "execution_count": 50,
     "metadata": {},
     "output_type": "execute_result"
    }
   ],
   "source": [
    "X('12K-15K 成都', '', 1)"
   ]
  },
  {
   "cell_type": "code",
   "execution_count": 51,
   "metadata": {},
   "outputs": [
    {
     "data": {
      "text/plain": [
       "A    12A-15A 成都\n",
       "B    15A-18A 上海\n",
       "C    18A-22A 北京\n",
       "dtype: object"
      ]
     },
     "execution_count": 51,
     "metadata": {},
     "output_type": "execute_result"
    }
   ],
   "source": [
    "ser.apply(X, args=('A', 2))"
   ]
  },
  {
   "cell_type": "markdown",
   "metadata": {},
   "source": [
    "也可以直接在apply中给func中的形参以关键字参数传参"
   ]
  },
  {
   "cell_type": "code",
   "execution_count": 52,
   "metadata": {},
   "outputs": [
    {
     "data": {
      "text/plain": [
       "A    12A-15K 成都\n",
       "B    15A-18K 上海\n",
       "C    18A-22K 北京\n",
       "dtype: object"
      ]
     },
     "execution_count": 52,
     "metadata": {},
     "output_type": "execute_result"
    }
   ],
   "source": [
    "ser.apply(X, new='A', num=1)"
   ]
  },
  {
   "cell_type": "markdown",
   "metadata": {},
   "source": [
    "### ser.map()    \n",
    "ser.map(arg, na_action=None)  \n",
    "map和apply非常相似， 也可以接受一个函数， **还可以接受一个字典来映射每一个值**  \n",
    "但是返回Series的时候就不再是DataFrame  \n",
    "- arg:函数或者字典  \n",
    "- na_action:传入字典是没有匹配值会变成NaN"
   ]
  },
  {
   "cell_type": "code",
   "execution_count": 56,
   "metadata": {},
   "outputs": [
    {
     "data": {
      "text/plain": [
       "A    12K-15K 成都\n",
       "B    15K-18K 上海\n",
       "C    18K-22K 北京\n",
       "dtype: object"
      ]
     },
     "execution_count": 56,
     "metadata": {},
     "output_type": "execute_result"
    }
   ],
   "source": [
    "ser = pd.Series(['12K-15K 成都', '15K-18K 上海', '18K-22K 北京'], ['A', 'B', 'C'])\n",
    "ser"
   ]
  },
  {
   "cell_type": "code",
   "execution_count": 57,
   "metadata": {},
   "outputs": [
    {
     "data": {
      "text/plain": [
       "A    [12K-15K, 成都]\n",
       "B    [15K-18K, 上海]\n",
       "C    [18K-22K, 北京]\n",
       "dtype: object"
      ]
     },
     "execution_count": 57,
     "metadata": {},
     "output_type": "execute_result"
    }
   ],
   "source": [
    "ser.map(lambda s:s.split(' '))  # 返回列表"
   ]
  },
  {
   "cell_type": "code",
   "execution_count": 58,
   "metadata": {},
   "outputs": [
    {
     "data": {
      "text/plain": [
       "A    0    12K-15K\n",
       "1         成都\n",
       "dtype: object\n",
       "B    0    15K-18K\n",
       "1         上海\n",
       "dtype: object\n",
       "C    0    18K-22K\n",
       "1         北京\n",
       "dtype: object\n",
       "dtype: object"
      ]
     },
     "execution_count": 58,
     "metadata": {},
     "output_type": "execute_result"
    }
   ],
   "source": [
    "ser.map(lambda s:pd.Series(s.split(' ')))  # 返回Series"
   ]
  },
  {
   "cell_type": "code",
   "execution_count": 59,
   "metadata": {},
   "outputs": [
    {
     "data": {
      "text/html": [
       "<div>\n",
       "<style scoped>\n",
       "    .dataframe tbody tr th:only-of-type {\n",
       "        vertical-align: middle;\n",
       "    }\n",
       "\n",
       "    .dataframe tbody tr th {\n",
       "        vertical-align: top;\n",
       "    }\n",
       "\n",
       "    .dataframe thead th {\n",
       "        text-align: right;\n",
       "    }\n",
       "</style>\n",
       "<table border=\"1\" class=\"dataframe\">\n",
       "  <thead>\n",
       "    <tr style=\"text-align: right;\">\n",
       "      <th></th>\n",
       "      <th>0</th>\n",
       "      <th>1</th>\n",
       "    </tr>\n",
       "  </thead>\n",
       "  <tbody>\n",
       "    <tr>\n",
       "      <th>A</th>\n",
       "      <td>12K-15K</td>\n",
       "      <td>成都</td>\n",
       "    </tr>\n",
       "    <tr>\n",
       "      <th>B</th>\n",
       "      <td>15K-18K</td>\n",
       "      <td>上海</td>\n",
       "    </tr>\n",
       "    <tr>\n",
       "      <th>C</th>\n",
       "      <td>18K-22K</td>\n",
       "      <td>北京</td>\n",
       "    </tr>\n",
       "  </tbody>\n",
       "</table>\n",
       "</div>"
      ],
      "text/plain": [
       "         0   1\n",
       "A  12K-15K  成都\n",
       "B  15K-18K  上海\n",
       "C  18K-22K  北京"
      ]
     },
     "execution_count": 59,
     "metadata": {},
     "output_type": "execute_result"
    }
   ],
   "source": [
    "ser.apply(lambda s:pd.Series(s.split(' ')))  # 返回DataFrame"
   ]
  },
  {
   "cell_type": "code",
   "execution_count": 60,
   "metadata": {},
   "outputs": [
    {
     "data": {
      "text/plain": [
       "A    我的工资和城市是:12K-15K 成都\n",
       "B    我的工资和城市是:15K-18K 上海\n",
       "C    我的工资和城市是:18K-22K 北京\n",
       "dtype: object"
      ]
     },
     "execution_count": 60,
     "metadata": {},
     "output_type": "execute_result"
    }
   ],
   "source": [
    "ser.map('我的工资和城市是:{}'.format)"
   ]
  },
  {
   "cell_type": "code",
   "execution_count": 61,
   "metadata": {},
   "outputs": [
    {
     "data": {
      "text/plain": [
       "A    我的工资和城市是:12K-15K 成都\n",
       "B    我的工资和城市是:15K-18K 上海\n",
       "C    我的工资和城市是:18K-22K 北京\n",
       "dtype: object"
      ]
     },
     "execution_count": 61,
     "metadata": {},
     "output_type": "execute_result"
    }
   ],
   "source": [
    "ser.apply('我的工资和城市是:{}'.format)  \n",
    "\n",
    "# 所以当传入一个函数时其实两者没有多大的区别， \n",
    "#只是返回值有时会不同, func的返回值是series的时候， apply可以返回DataFrame\n",
    "# 还有就是apply自由度更高， 可以传入位置参数 关键字参数对func有更多操作， 而map不行\n",
    "# 所以传入函数时， 建议apply"
   ]
  },
  {
   "cell_type": "markdown",
   "metadata": {},
   "source": [
    "当传入函数时， apply更棒， 但是map可以传入字典作为映射"
   ]
  },
  {
   "cell_type": "code",
   "execution_count": 62,
   "metadata": {},
   "outputs": [
    {
     "data": {
      "text/plain": [
       "0    男\n",
       "1    女\n",
       "2    男\n",
       "3    男\n",
       "4    女\n",
       "dtype: object"
      ]
     },
     "execution_count": 62,
     "metadata": {},
     "output_type": "execute_result"
    }
   ],
   "source": [
    "# 把男变成1，   把女变成0\n",
    "ser = pd.Series(['男','女', '男',  '男', '女'])\n",
    "ser"
   ]
  },
  {
   "cell_type": "code",
   "execution_count": 63,
   "metadata": {},
   "outputs": [
    {
     "data": {
      "text/plain": [
       "0    1\n",
       "1    0\n",
       "2    1\n",
       "3    1\n",
       "4    0\n",
       "dtype: int64"
      ]
     },
     "execution_count": 63,
     "metadata": {},
     "output_type": "execute_result"
    }
   ],
   "source": [
    "ser.map({'男':1, '女':0})"
   ]
  },
  {
   "cell_type": "code",
   "execution_count": null,
   "metadata": {},
   "outputs": [],
   "source": []
  },
  {
   "cell_type": "markdown",
   "metadata": {},
   "source": [
    "## Series对象的切片和索引"
   ]
  },
  {
   "cell_type": "code",
   "execution_count": 64,
   "metadata": {
    "ExecuteTime": {
     "end_time": "2019-12-10T00:26:09.072759Z",
     "start_time": "2019-12-10T00:26:09.068766Z"
    }
   },
   "outputs": [
    {
     "data": {
      "text/plain": [
       "赵一    90.0\n",
       "赵二    89.0\n",
       "赵三    90.0\n",
       "赵四    71.0\n",
       "赵五    87.0\n",
       "赵六    87.0\n",
       "赵七    65.0\n",
       "赵八    60.0\n",
       "赵九     NaN\n",
       "dtype: float64"
      ]
     },
     "execution_count": 64,
     "metadata": {},
     "output_type": "execute_result"
    }
   ],
   "source": [
    "ser = pd.Series([90, 89, 90, 71, 87, 87, 65, 60, np.nan],   # 有一个缺失值\n",
    "               ['赵一', '赵二', '赵三', '赵四', '赵五', '赵六', '赵七', '赵八', '赵九'])\n",
    "ser"
   ]
  },
  {
   "cell_type": "markdown",
   "metadata": {},
   "source": [
    "### 隐式索引和切片\n",
    "通过隐藏的行号来索引， 索引从0开始  \n",
    "ser[开始索引:终止位置:步长和方向]\n",
    "其中：  \n",
    "开始位置取得到, 终止位置取不到。  "
   ]
  },
  {
   "cell_type": "code",
   "execution_count": 65,
   "metadata": {
    "ExecuteTime": {
     "end_time": "2019-12-10T00:26:16.376465Z",
     "start_time": "2019-12-10T00:26:16.371474Z"
    }
   },
   "outputs": [
    {
     "data": {
      "text/plain": [
       "90.0"
      ]
     },
     "execution_count": 65,
     "metadata": {},
     "output_type": "execute_result"
    }
   ],
   "source": [
    "ser[0]  # 取单行"
   ]
  },
  {
   "cell_type": "code",
   "execution_count": 66,
   "metadata": {
    "ExecuteTime": {
     "end_time": "2019-12-10T00:26:17.141042Z",
     "start_time": "2019-12-10T00:26:17.137026Z"
    }
   },
   "outputs": [
    {
     "data": {
      "text/plain": [
       "60.0"
      ]
     },
     "execution_count": 66,
     "metadata": {},
     "output_type": "execute_result"
    }
   ],
   "source": [
    "ser[7]"
   ]
  },
  {
   "cell_type": "code",
   "execution_count": 67,
   "metadata": {
    "ExecuteTime": {
     "end_time": "2019-12-10T00:26:17.770913Z",
     "start_time": "2019-12-10T00:26:17.765934Z"
    }
   },
   "outputs": [
    {
     "data": {
      "text/plain": [
       "nan"
      ]
     },
     "execution_count": 67,
     "metadata": {},
     "output_type": "execute_result"
    }
   ],
   "source": [
    "ser[-1]"
   ]
  },
  {
   "cell_type": "code",
   "execution_count": 68,
   "metadata": {
    "ExecuteTime": {
     "end_time": "2019-12-10T00:26:19.466026Z",
     "start_time": "2019-12-10T00:26:19.461088Z"
    }
   },
   "outputs": [
    {
     "data": {
      "text/plain": [
       "赵一    90.0\n",
       "赵七    65.0\n",
       "赵五    87.0\n",
       "dtype: float64"
      ]
     },
     "execution_count": 68,
     "metadata": {},
     "output_type": "execute_result"
    }
   ],
   "source": [
    "ser[[0, 6, 4]]  # 指定取多行"
   ]
  },
  {
   "cell_type": "code",
   "execution_count": 69,
   "metadata": {
    "ExecuteTime": {
     "end_time": "2019-12-10T00:26:22.594515Z",
     "start_time": "2019-12-10T00:26:22.589526Z"
    }
   },
   "outputs": [
    {
     "data": {
      "text/plain": [
       "赵一    90.0\n",
       "赵二    89.0\n",
       "赵三    90.0\n",
       "赵四    71.0\n",
       "dtype: float64"
      ]
     },
     "execution_count": 69,
     "metadata": {},
     "output_type": "execute_result"
    }
   ],
   "source": [
    "ser[0:4]  # 取第0 1 2 3 行， 终止位置取不到"
   ]
  },
  {
   "cell_type": "code",
   "execution_count": 70,
   "metadata": {
    "ExecuteTime": {
     "end_time": "2019-12-10T00:26:23.201530Z",
     "start_time": "2019-12-10T00:26:23.196547Z"
    }
   },
   "outputs": [
    {
     "data": {
      "text/plain": [
       "赵一    90.0\n",
       "赵二    89.0\n",
       "赵三    90.0\n",
       "赵四    71.0\n",
       "赵五    87.0\n",
       "赵六    87.0\n",
       "赵七    65.0\n",
       "赵八    60.0\n",
       "赵九     NaN\n",
       "dtype: float64"
      ]
     },
     "execution_count": 70,
     "metadata": {},
     "output_type": "execute_result"
    }
   ],
   "source": [
    "ser"
   ]
  },
  {
   "cell_type": "code",
   "execution_count": 71,
   "metadata": {
    "ExecuteTime": {
     "end_time": "2019-12-10T00:26:23.975227Z",
     "start_time": "2019-12-10T00:26:23.970089Z"
    }
   },
   "outputs": [
    {
     "data": {
      "text/plain": [
       "赵一    90.0\n",
       "赵四    71.0\n",
       "赵七    65.0\n",
       "dtype: float64"
      ]
     },
     "execution_count": 71,
     "metadata": {},
     "output_type": "execute_result"
    }
   ],
   "source": [
    "ser[0:7:3]  "
   ]
  },
  {
   "cell_type": "code",
   "execution_count": 72,
   "metadata": {
    "ExecuteTime": {
     "end_time": "2019-12-10T00:26:25.419758Z",
     "start_time": "2019-12-10T00:26:25.413743Z"
    }
   },
   "outputs": [
    {
     "data": {
      "text/plain": [
       "赵九     NaN\n",
       "赵八    60.0\n",
       "赵七    65.0\n",
       "赵六    87.0\n",
       "赵五    87.0\n",
       "赵四    71.0\n",
       "赵三    90.0\n",
       "赵二    89.0\n",
       "赵一    90.0\n",
       "dtype: float64"
      ]
     },
     "execution_count": 72,
     "metadata": {},
     "output_type": "execute_result"
    }
   ],
   "source": [
    "ser[::-1]"
   ]
  },
  {
   "cell_type": "markdown",
   "metadata": {},
   "source": [
    "### 显示索引和切片 \n",
    "基于我们自己定义的行索引进行索引"
   ]
  },
  {
   "cell_type": "code",
   "execution_count": 73,
   "metadata": {
    "ExecuteTime": {
     "end_time": "2019-12-10T00:26:27.034124Z",
     "start_time": "2019-12-10T00:26:27.029156Z"
    }
   },
   "outputs": [
    {
     "data": {
      "text/plain": [
       "赵一    90.0\n",
       "赵二    89.0\n",
       "赵三    90.0\n",
       "赵四    71.0\n",
       "赵五    87.0\n",
       "赵六    87.0\n",
       "赵七    65.0\n",
       "赵八    60.0\n",
       "赵九     NaN\n",
       "dtype: float64"
      ]
     },
     "execution_count": 73,
     "metadata": {},
     "output_type": "execute_result"
    }
   ],
   "source": [
    "ser"
   ]
  },
  {
   "cell_type": "code",
   "execution_count": 74,
   "metadata": {
    "ExecuteTime": {
     "end_time": "2019-12-10T00:26:27.867858Z",
     "start_time": "2019-12-10T00:26:27.862872Z"
    }
   },
   "outputs": [
    {
     "data": {
      "text/plain": [
       "90.0"
      ]
     },
     "execution_count": 74,
     "metadata": {},
     "output_type": "execute_result"
    }
   ],
   "source": [
    "ser['赵三']"
   ]
  },
  {
   "cell_type": "code",
   "execution_count": 75,
   "metadata": {
    "ExecuteTime": {
     "end_time": "2019-12-10T00:26:28.397875Z",
     "start_time": "2019-12-10T00:26:28.387934Z"
    }
   },
   "outputs": [
    {
     "data": {
      "text/plain": [
       "赵一    90.0\n",
       "赵八    60.0\n",
       "赵四    71.0\n",
       "dtype: float64"
      ]
     },
     "execution_count": 75,
     "metadata": {},
     "output_type": "execute_result"
    }
   ],
   "source": [
    "ser[['赵一', '赵八', '赵四']]"
   ]
  },
  {
   "cell_type": "markdown",
   "metadata": {},
   "source": [
    "**注意这里终止的能取到**"
   ]
  },
  {
   "cell_type": "code",
   "execution_count": 76,
   "metadata": {
    "ExecuteTime": {
     "end_time": "2019-12-10T00:26:29.950893Z",
     "start_time": "2019-12-10T00:26:29.602426Z"
    }
   },
   "outputs": [
    {
     "data": {
      "text/plain": [
       "赵二    89.0\n",
       "赵三    90.0\n",
       "赵四    71.0\n",
       "赵五    87.0\n",
       "赵六    87.0\n",
       "赵七    65.0\n",
       "赵八    60.0\n",
       "dtype: float64"
      ]
     },
     "execution_count": 76,
     "metadata": {},
     "output_type": "execute_result"
    }
   ],
   "source": [
    "ser['赵二':'赵八']  # 注意这里终止的能取到"
   ]
  },
  {
   "cell_type": "code",
   "execution_count": 77,
   "metadata": {
    "ExecuteTime": {
     "end_time": "2019-12-10T00:26:30.637720Z",
     "start_time": "2019-12-10T00:26:30.631736Z"
    }
   },
   "outputs": [
    {
     "data": {
      "text/plain": [
       "赵二    89.0\n",
       "赵五    87.0\n",
       "赵八    60.0\n",
       "dtype: float64"
      ]
     },
     "execution_count": 77,
     "metadata": {},
     "output_type": "execute_result"
    }
   ],
   "source": [
    "ser['赵二':'赵八':3]"
   ]
  },
  {
   "cell_type": "code",
   "execution_count": null,
   "metadata": {},
   "outputs": [],
   "source": []
  }
 ],
 "metadata": {
  "kernelspec": {
   "display_name": "Python 3",
   "language": "python",
   "name": "python3"
  },
  "language_info": {
   "codemirror_mode": {
    "name": "ipython",
    "version": 3
   },
   "file_extension": ".py",
   "mimetype": "text/x-python",
   "name": "python",
   "nbconvert_exporter": "python",
   "pygments_lexer": "ipython3",
   "version": "3.8.8"
  },
  "toc": {
   "base_numbering": 1,
   "nav_menu": {},
   "number_sections": true,
   "sideBar": true,
   "skip_h1_title": false,
   "title_cell": "Table of Contents",
   "title_sidebar": "Contents",
   "toc_cell": true,
   "toc_position": {
    "height": "calc(100% - 180px)",
    "left": "10px",
    "top": "150px",
    "width": "256.654px"
   },
   "toc_section_display": true,
   "toc_window_display": true
  }
 },
 "nbformat": 4,
 "nbformat_minor": 4
}
