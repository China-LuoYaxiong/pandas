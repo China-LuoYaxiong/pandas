{
 "cells": [
  {
   "cell_type": "markdown",
   "metadata": {
    "toc": true
   },
   "source": [
    "<h1>Table of Contents<span class=\"tocSkip\"></span></h1>\n",
    "<div class=\"toc\"><ul class=\"toc-item\"><li><span><a href=\"#DataFrame对象的选择-索引-和切片\" data-toc-modified-id=\"DataFrame对象的选择-索引-和切片-1\"><span class=\"toc-item-num\">1&nbsp;&nbsp;</span>DataFrame对象的选择 索引 和切片</a></span><ul class=\"toc-item\"><li><span><a href=\"#选择列df[列名]\" data-toc-modified-id=\"选择列df[列名]-1.1\"><span class=\"toc-item-num\">1.1&nbsp;&nbsp;</span>选择列df[列名]</a></span><ul class=\"toc-item\"><li><span><a href=\"#test1-选择-物理这列\" data-toc-modified-id=\"test1-选择-物理这列-1.1.1\"><span class=\"toc-item-num\">1.1.1&nbsp;&nbsp;</span>test1 选择 物理这列</a></span></li><li><span><a href=\"#test2-选择数学-物理-英语三列\" data-toc-modified-id=\"test2-选择数学-物理-英语三列-1.1.2\"><span class=\"toc-item-num\">1.1.2&nbsp;&nbsp;</span>test2 选择数学 物理 英语三列</a></span></li></ul></li><li><span><a href=\"#选择行df[开始位置：终止位置:步长和方向]\" data-toc-modified-id=\"选择行df[开始位置：终止位置:步长和方向]-1.2\"><span class=\"toc-item-num\">1.2&nbsp;&nbsp;</span>选择行df[开始位置：终止位置:步长和方向]</a></span><ul class=\"toc-item\"><li><span><a href=\"#基于位置(隐式)的索引\" data-toc-modified-id=\"基于位置(隐式)的索引-1.2.1\"><span class=\"toc-item-num\">1.2.1&nbsp;&nbsp;</span>基于位置(隐式)的索引</a></span><ul class=\"toc-item\"><li><span><a href=\"#取出E行\" data-toc-modified-id=\"取出E行-1.2.1.1\"><span class=\"toc-item-num\">1.2.1.1&nbsp;&nbsp;</span>取出E行</a></span></li><li><span><a href=\"#取出H行\" data-toc-modified-id=\"取出H行-1.2.1.2\"><span class=\"toc-item-num\">1.2.1.2&nbsp;&nbsp;</span>取出H行</a></span></li><li><span><a href=\"#将行倒叙\" data-toc-modified-id=\"将行倒叙-1.2.1.3\"><span class=\"toc-item-num\">1.2.1.3&nbsp;&nbsp;</span>将行倒叙</a></span></li></ul></li><li><span><a href=\"#基于标签(显示)的索引\" data-toc-modified-id=\"基于标签(显示)的索引-1.2.2\"><span class=\"toc-item-num\">1.2.2&nbsp;&nbsp;</span>基于标签(显示)的索引</a></span><ul class=\"toc-item\"><li><span><a href=\"#取出A行\" data-toc-modified-id=\"取出A行-1.2.2.1\"><span class=\"toc-item-num\">1.2.2.1&nbsp;&nbsp;</span>取出A行</a></span></li><li><span><a href=\"#取出B-D-F行\" data-toc-modified-id=\"取出B-D-F行-1.2.2.2\"><span class=\"toc-item-num\">1.2.2.2&nbsp;&nbsp;</span>取出B D F行</a></span></li></ul></li></ul></li><li><span><a href=\"#df.loc[]基于标签的索引(显示索引)\" data-toc-modified-id=\"df.loc[]基于标签的索引(显示索引)-1.3\"><span class=\"toc-item-num\">1.3&nbsp;&nbsp;</span>df.loc[]基于标签的索引(显示索引)</a></span><ul class=\"toc-item\"><li><span><a href=\"#索引行df.loc[行,-:]\" data-toc-modified-id=\"索引行df.loc[行,-:]-1.3.1\"><span class=\"toc-item-num\">1.3.1&nbsp;&nbsp;</span>索引行df.loc[行, :]</a></span><ul class=\"toc-item\"><li><span><a href=\"#取出A行\" data-toc-modified-id=\"取出A行-1.3.1.1\"><span class=\"toc-item-num\">1.3.1.1&nbsp;&nbsp;</span>取出A行</a></span></li></ul></li><li><span><a href=\"#切片行df.loc[行1：行2：步长和方向,-:]\" data-toc-modified-id=\"切片行df.loc[行1：行2：步长和方向,-:]-1.3.2\"><span class=\"toc-item-num\">1.3.2&nbsp;&nbsp;</span>切片行df.loc[行1：行2：步长和方向, :]</a></span><ul class=\"toc-item\"><li><span><a href=\"#取出A-B-C-D-四行\" data-toc-modified-id=\"取出A-B-C-D-四行-1.3.2.1\"><span class=\"toc-item-num\">1.3.2.1&nbsp;&nbsp;</span>取出A B C D 四行</a></span></li><li><span><a href=\"#取出H--E--B三行\" data-toc-modified-id=\"取出H--E--B三行-1.3.2.2\"><span class=\"toc-item-num\">1.3.2.2&nbsp;&nbsp;</span>取出H  E  B三行</a></span></li></ul></li><li><span><a href=\"#索引列df.loc[:,-列名]\" data-toc-modified-id=\"索引列df.loc[:,-列名]-1.3.3\"><span class=\"toc-item-num\">1.3.3&nbsp;&nbsp;</span>索引列df.loc[:, 列名]</a></span><ul class=\"toc-item\"><li><span><a href=\"#取出-生物-这一列\" data-toc-modified-id=\"取出-生物-这一列-1.3.3.1\"><span class=\"toc-item-num\">1.3.3.1&nbsp;&nbsp;</span>取出 生物 这一列</a></span></li><li><span><a href=\"#取出-数学-物理--语文-三列\" data-toc-modified-id=\"取出-数学-物理--语文-三列-1.3.3.2\"><span class=\"toc-item-num\">1.3.3.2&nbsp;&nbsp;</span>取出 数学 物理  语文 三列</a></span></li></ul></li><li><span><a href=\"#切片列df.loc[:,-列1-:列2-:-步长和方向]\" data-toc-modified-id=\"切片列df.loc[:,-列1-:列2-:-步长和方向]-1.3.4\"><span class=\"toc-item-num\">1.3.4&nbsp;&nbsp;</span>切片列df.loc[:, 列1 :列2 : 步长和方向]</a></span><ul class=\"toc-item\"><li><span><a href=\"#切片出-物理-化学-生物-三列\" data-toc-modified-id=\"切片出-物理-化学-生物-三列-1.3.4.1\"><span class=\"toc-item-num\">1.3.4.1&nbsp;&nbsp;</span>切片出 物理 化学 生物 三列</a></span></li><li><span><a href=\"#将列的顺序颠倒\" data-toc-modified-id=\"将列的顺序颠倒-1.3.4.2\"><span class=\"toc-item-num\">1.3.4.2&nbsp;&nbsp;</span>将列的顺序颠倒</a></span></li></ul></li><li><span><a href=\"#取一部分df.loc[行,-列]\" data-toc-modified-id=\"取一部分df.loc[行,-列]-1.3.5\"><span class=\"toc-item-num\">1.3.5&nbsp;&nbsp;</span>取一部分df.loc[行, 列]</a></span><ul class=\"toc-item\"><li><span><a href=\"#取出C-D-E-三个人的-物理-化学-生物的成绩\" data-toc-modified-id=\"取出C-D-E-三个人的-物理-化学-生物的成绩-1.3.5.1\"><span class=\"toc-item-num\">1.3.5.1&nbsp;&nbsp;</span>取出C D E 三个人的 物理 化学 生物的成绩</a></span></li><li><span><a href=\"#取出-B-F-H-三个人的物理-生物-数学成绩\" data-toc-modified-id=\"取出-B-F-H-三个人的物理-生物-数学成绩-1.3.5.2\"><span class=\"toc-item-num\">1.3.5.2&nbsp;&nbsp;</span>取出 B F H 三个人的物理 生物 数学成绩</a></span></li></ul></li><li><span><a href=\"#特殊用法，-用来增加行\" data-toc-modified-id=\"特殊用法，-用来增加行-1.3.6\"><span class=\"toc-item-num\">1.3.6&nbsp;&nbsp;</span>特殊用法， 用来增加行</a></span><ul class=\"toc-item\"><li><span><a href=\"#增加一个K同学，-各科成绩分别是80-90-70-70-80-75\" data-toc-modified-id=\"增加一个K同学，-各科成绩分别是80-90-70-70-80-75-1.3.6.1\"><span class=\"toc-item-num\">1.3.6.1&nbsp;&nbsp;</span>增加一个K同学， 各科成绩分别是80 90 70 70 80 75</a></span></li></ul></li></ul></li><li><span><a href=\"#df.iloc[]基于位置的索引（隐式索引)\" data-toc-modified-id=\"df.iloc[]基于位置的索引（隐式索引)-1.4\"><span class=\"toc-item-num\">1.4&nbsp;&nbsp;</span>df.iloc[]基于位置的索引（隐式索引)</a></span><ul class=\"toc-item\"><li><span><a href=\"#索引行df.iloc[行,-:]\" data-toc-modified-id=\"索引行df.iloc[行,-:]-1.4.1\"><span class=\"toc-item-num\">1.4.1&nbsp;&nbsp;</span>索引行df.iloc[行, :]</a></span><ul class=\"toc-item\"><li><span><a href=\"#取出A行\" data-toc-modified-id=\"取出A行-1.4.1.1\"><span class=\"toc-item-num\">1.4.1.1&nbsp;&nbsp;</span>取出A行</a></span></li><li><span><a href=\"#取出A-H-两行\" data-toc-modified-id=\"取出A-H-两行-1.4.1.2\"><span class=\"toc-item-num\">1.4.1.2&nbsp;&nbsp;</span>取出A H 两行</a></span></li></ul></li><li><span><a href=\"#切片行df.iloc[行1：行2：步长和方向,-:]\" data-toc-modified-id=\"切片行df.iloc[行1：行2：步长和方向,-:]-1.4.2\"><span class=\"toc-item-num\">1.4.2&nbsp;&nbsp;</span>切片行df.iloc[行1：行2：步长和方向, :]</a></span><ul class=\"toc-item\"><li><span><a href=\"#切片出A-B-C-D-4行\" data-toc-modified-id=\"切片出A-B-C-D-4行-1.4.2.1\"><span class=\"toc-item-num\">1.4.2.1&nbsp;&nbsp;</span>切片出A B C D 4行</a></span></li><li><span><a href=\"#取出-H-E-B-三行\" data-toc-modified-id=\"取出-H-E-B-三行-1.4.2.2\"><span class=\"toc-item-num\">1.4.2.2&nbsp;&nbsp;</span>取出 H E B 三行</a></span></li></ul></li><li><span><a href=\"#索引列df.iloc[:,-位置]\" data-toc-modified-id=\"索引列df.iloc[:,-位置]-1.4.3\"><span class=\"toc-item-num\">1.4.3&nbsp;&nbsp;</span>索引列df.iloc[:, 位置]</a></span><ul class=\"toc-item\"><li><span><a href=\"#取出生物这一列\" data-toc-modified-id=\"取出生物这一列-1.4.3.1\"><span class=\"toc-item-num\">1.4.3.1&nbsp;&nbsp;</span>取出生物这一列</a></span></li><li><span><a href=\"#取出-数学-物理-语文-三列\" data-toc-modified-id=\"取出-数学-物理-语文-三列-1.4.3.2\"><span class=\"toc-item-num\">1.4.3.2&nbsp;&nbsp;</span>取出 数学 物理 语文 三列</a></span></li></ul></li><li><span><a href=\"#切片列df.iloc[:,-列1：列2：步长和方向]\" data-toc-modified-id=\"切片列df.iloc[:,-列1：列2：步长和方向]-1.4.4\"><span class=\"toc-item-num\">1.4.4&nbsp;&nbsp;</span>切片列df.iloc[:, 列1：列2：步长和方向]</a></span><ul class=\"toc-item\"><li><span><a href=\"#取出-物理-化学-生物-三列\" data-toc-modified-id=\"取出-物理-化学-生物-三列-1.4.4.1\"><span class=\"toc-item-num\">1.4.4.1&nbsp;&nbsp;</span>取出 物理 化学 生物 三列</a></span></li><li><span><a href=\"#将列的顺序颠倒\" data-toc-modified-id=\"将列的顺序颠倒-1.4.4.2\"><span class=\"toc-item-num\">1.4.4.2&nbsp;&nbsp;</span>将列的顺序颠倒</a></span></li></ul></li><li><span><a href=\"#取一部分df.iloc[行：列]\" data-toc-modified-id=\"取一部分df.iloc[行：列]-1.4.5\"><span class=\"toc-item-num\">1.4.5&nbsp;&nbsp;</span>取一部分df.iloc[行：列]</a></span><ul class=\"toc-item\"><li><span><a href=\"#取出C-D-E-三个人的物理-化学-生物-成绩\" data-toc-modified-id=\"取出C-D-E-三个人的物理-化学-生物-成绩-1.4.5.1\"><span class=\"toc-item-num\">1.4.5.1&nbsp;&nbsp;</span>取出C D E 三个人的物理 化学 生物 成绩</a></span></li><li><span><a href=\"#取出-B-F-H-三个人的物理-生物-数学成绩\" data-toc-modified-id=\"取出-B-F-H-三个人的物理-生物-数学成绩-1.4.5.2\"><span class=\"toc-item-num\">1.4.5.2&nbsp;&nbsp;</span>取出 B F H 三个人的物理 生物 数学成绩</a></span></li></ul></li></ul></li></ul></li></ul></div>"
   ]
  },
  {
   "cell_type": "code",
   "execution_count": 1,
   "metadata": {
    "ExecuteTime": {
     "end_time": "2019-11-27T02:37:21.165606Z",
     "start_time": "2019-11-27T02:37:21.161606Z"
    }
   },
   "outputs": [],
   "source": [
    "#全部行都能输出\n",
    "from IPython.core.interactiveshell import InteractiveShell\n",
    "InteractiveShell.ast_node_interactivity = \"all\""
   ]
  },
  {
   "cell_type": "code",
   "execution_count": 2,
   "metadata": {
    "ExecuteTime": {
     "end_time": "2019-11-27T02:37:22.267669Z",
     "start_time": "2019-11-27T02:37:21.686636Z"
    }
   },
   "outputs": [],
   "source": [
    "import numpy as np\n",
    "import pandas as pd"
   ]
  },
  {
   "cell_type": "markdown",
   "metadata": {},
   "source": [
    "**索引/选择的基本语法如下：**\n",
    "\n",
    "| 实现目的 | 语法 | 结果 |    \n",
    "|----------|------|------|  \n",
    "| 选择列  | df[col] |Series| \n",
    "| 切片行 | df[5:10] |DataFrame |  \n",
    "| 按标签选择行| df.loc[label]| Series |  \n",
    "| 按位置选择行| df.iloc[loc] | Series |   "
   ]
  },
  {
   "cell_type": "markdown",
   "metadata": {},
   "source": [
    "# DataFrame对象的选择 索引 和切片"
   ]
  },
  {
   "cell_type": "code",
   "execution_count": 3,
   "metadata": {
    "ExecuteTime": {
     "end_time": "2019-11-27T02:37:25.794871Z",
     "start_time": "2019-11-27T02:37:25.764869Z"
    }
   },
   "outputs": [
    {
     "data": {
      "text/html": [
       "<div>\n",
       "<style scoped>\n",
       "    .dataframe tbody tr th:only-of-type {\n",
       "        vertical-align: middle;\n",
       "    }\n",
       "\n",
       "    .dataframe tbody tr th {\n",
       "        vertical-align: top;\n",
       "    }\n",
       "\n",
       "    .dataframe thead th {\n",
       "        text-align: right;\n",
       "    }\n",
       "</style>\n",
       "<table border=\"1\" class=\"dataframe\">\n",
       "  <thead>\n",
       "    <tr style=\"text-align: right;\">\n",
       "      <th></th>\n",
       "      <th>语文</th>\n",
       "      <th>数学</th>\n",
       "      <th>英语</th>\n",
       "      <th>物理</th>\n",
       "      <th>化学</th>\n",
       "      <th>生物</th>\n",
       "    </tr>\n",
       "  </thead>\n",
       "  <tbody>\n",
       "    <tr>\n",
       "      <th>A</th>\n",
       "      <td>63</td>\n",
       "      <td>80</td>\n",
       "      <td>65</td>\n",
       "      <td>86</td>\n",
       "      <td>68</td>\n",
       "      <td>79</td>\n",
       "    </tr>\n",
       "    <tr>\n",
       "      <th>B</th>\n",
       "      <td>81</td>\n",
       "      <td>70</td>\n",
       "      <td>87</td>\n",
       "      <td>73</td>\n",
       "      <td>69</td>\n",
       "      <td>75</td>\n",
       "    </tr>\n",
       "    <tr>\n",
       "      <th>C</th>\n",
       "      <td>89</td>\n",
       "      <td>94</td>\n",
       "      <td>78</td>\n",
       "      <td>74</td>\n",
       "      <td>98</td>\n",
       "      <td>89</td>\n",
       "    </tr>\n",
       "    <tr>\n",
       "      <th>D</th>\n",
       "      <td>69</td>\n",
       "      <td>64</td>\n",
       "      <td>67</td>\n",
       "      <td>86</td>\n",
       "      <td>62</td>\n",
       "      <td>98</td>\n",
       "    </tr>\n",
       "    <tr>\n",
       "      <th>E</th>\n",
       "      <td>69</td>\n",
       "      <td>97</td>\n",
       "      <td>77</td>\n",
       "      <td>75</td>\n",
       "      <td>88</td>\n",
       "      <td>87</td>\n",
       "    </tr>\n",
       "    <tr>\n",
       "      <th>F</th>\n",
       "      <td>82</td>\n",
       "      <td>91</td>\n",
       "      <td>80</td>\n",
       "      <td>81</td>\n",
       "      <td>68</td>\n",
       "      <td>88</td>\n",
       "    </tr>\n",
       "    <tr>\n",
       "      <th>G</th>\n",
       "      <td>88</td>\n",
       "      <td>91</td>\n",
       "      <td>70</td>\n",
       "      <td>60</td>\n",
       "      <td>67</td>\n",
       "      <td>62</td>\n",
       "    </tr>\n",
       "    <tr>\n",
       "      <th>H</th>\n",
       "      <td>98</td>\n",
       "      <td>67</td>\n",
       "      <td>91</td>\n",
       "      <td>96</td>\n",
       "      <td>85</td>\n",
       "      <td>98</td>\n",
       "    </tr>\n",
       "    <tr>\n",
       "      <th>I</th>\n",
       "      <td>87</td>\n",
       "      <td>64</td>\n",
       "      <td>97</td>\n",
       "      <td>62</td>\n",
       "      <td>78</td>\n",
       "      <td>98</td>\n",
       "    </tr>\n",
       "    <tr>\n",
       "      <th>J</th>\n",
       "      <td>82</td>\n",
       "      <td>99</td>\n",
       "      <td>66</td>\n",
       "      <td>91</td>\n",
       "      <td>92</td>\n",
       "      <td>69</td>\n",
       "    </tr>\n",
       "  </tbody>\n",
       "</table>\n",
       "</div>"
      ],
      "text/plain": [
       "   语文  数学  英语  物理  化学  生物\n",
       "A  63  80  65  86  68  79\n",
       "B  81  70  87  73  69  75\n",
       "C  89  94  78  74  98  89\n",
       "D  69  64  67  86  62  98\n",
       "E  69  97  77  75  88  87\n",
       "F  82  91  80  81  68  88\n",
       "G  88  91  70  60  67  62\n",
       "H  98  67  91  96  85  98\n",
       "I  87  64  97  62  78  98\n",
       "J  82  99  66  91  92  69"
      ]
     },
     "execution_count": 3,
     "metadata": {},
     "output_type": "execute_result"
    }
   ],
   "source": [
    "np.random.seed(8)\n",
    "a = np.random.randint(60, 100, (10, 6))\n",
    "df = pd.DataFrame(a)\n",
    "df.columns = ['语文', '数学', '英语', '物理', '化学', '生物']\n",
    "df.index = list('ABCDEFGHIJ')\n",
    "df"
   ]
  },
  {
   "cell_type": "markdown",
   "metadata": {},
   "source": [
    "## 选择列df[列名]  \n",
    "如果需要选择多个列， 则列名需要以列表的形式给出"
   ]
  },
  {
   "cell_type": "markdown",
   "metadata": {},
   "source": [
    "### test1 选择 物理这列"
   ]
  },
  {
   "cell_type": "code",
   "execution_count": null,
   "metadata": {},
   "outputs": [],
   "source": []
  },
  {
   "cell_type": "code",
   "execution_count": null,
   "metadata": {},
   "outputs": [],
   "source": []
  },
  {
   "cell_type": "markdown",
   "metadata": {},
   "source": [
    "### test2 选择数学 物理 英语三列"
   ]
  },
  {
   "cell_type": "code",
   "execution_count": null,
   "metadata": {},
   "outputs": [],
   "source": []
  },
  {
   "cell_type": "code",
   "execution_count": null,
   "metadata": {},
   "outputs": [],
   "source": []
  },
  {
   "cell_type": "markdown",
   "metadata": {},
   "source": [
    "## 选择行df[开始位置：终止位置:步长和方向]  \n",
    "注意不能单独的写一个进行索引  \n",
    "终止位置取不到"
   ]
  },
  {
   "cell_type": "markdown",
   "metadata": {},
   "source": [
    "### 基于位置(隐式)的索引"
   ]
  },
  {
   "cell_type": "markdown",
   "metadata": {},
   "source": [
    "#### 取出E行"
   ]
  },
  {
   "cell_type": "code",
   "execution_count": null,
   "metadata": {},
   "outputs": [],
   "source": []
  },
  {
   "cell_type": "code",
   "execution_count": null,
   "metadata": {},
   "outputs": [],
   "source": []
  },
  {
   "cell_type": "markdown",
   "metadata": {
    "ExecuteTime": {
     "end_time": "2019-11-27T02:37:44.013913Z",
     "start_time": "2019-11-27T02:37:43.987912Z"
    }
   },
   "source": [
    "#### 取出H行"
   ]
  },
  {
   "cell_type": "code",
   "execution_count": null,
   "metadata": {},
   "outputs": [],
   "source": []
  },
  {
   "cell_type": "code",
   "execution_count": null,
   "metadata": {},
   "outputs": [],
   "source": []
  },
  {
   "cell_type": "markdown",
   "metadata": {},
   "source": [
    "#### 将行倒叙"
   ]
  },
  {
   "cell_type": "code",
   "execution_count": null,
   "metadata": {},
   "outputs": [],
   "source": []
  },
  {
   "cell_type": "code",
   "execution_count": null,
   "metadata": {},
   "outputs": [],
   "source": []
  },
  {
   "cell_type": "markdown",
   "metadata": {},
   "source": [
    "### 基于标签(显示)的索引"
   ]
  },
  {
   "cell_type": "markdown",
   "metadata": {},
   "source": [
    "#### 取出A行"
   ]
  },
  {
   "cell_type": "code",
   "execution_count": null,
   "metadata": {},
   "outputs": [],
   "source": []
  },
  {
   "cell_type": "code",
   "execution_count": null,
   "metadata": {},
   "outputs": [],
   "source": []
  },
  {
   "cell_type": "markdown",
   "metadata": {},
   "source": [
    "#### 取出B D F行"
   ]
  },
  {
   "cell_type": "code",
   "execution_count": null,
   "metadata": {},
   "outputs": [],
   "source": []
  },
  {
   "cell_type": "code",
   "execution_count": null,
   "metadata": {},
   "outputs": [],
   "source": []
  },
  {
   "cell_type": "markdown",
   "metadata": {},
   "source": [
    "## df.loc[]基于标签的索引(显示索引)"
   ]
  },
  {
   "cell_type": "markdown",
   "metadata": {},
   "source": [
    "基于标签索引的基本语法 : **df.loc[行索引,列索引]**\n",
    "\n",
    "**逗号之前是切取的行信息,逗号之后是切取的列信息**\n",
    "\n",
    "只切取行信息返回所有列信息的时候,列索引和逗号可以省略\n",
    "\n",
    "只切取列信息返回所有行信息的时候,行索引和冒号不能省略,用冒号表示切取所有行."
   ]
  },
  {
   "cell_type": "markdown",
   "metadata": {},
   "source": [
    "### 索引行df.loc[行, :]  \n",
    "取多个行用列表给出"
   ]
  },
  {
   "cell_type": "markdown",
   "metadata": {},
   "source": [
    "#### 取出A行"
   ]
  },
  {
   "cell_type": "code",
   "execution_count": null,
   "metadata": {},
   "outputs": [],
   "source": []
  },
  {
   "cell_type": "code",
   "execution_count": null,
   "metadata": {},
   "outputs": [],
   "source": []
  },
  {
   "cell_type": "markdown",
   "metadata": {},
   "source": [
    "### 切片行df.loc[行1：行2：步长和方向, :]"
   ]
  },
  {
   "cell_type": "markdown",
   "metadata": {},
   "source": [
    "#### 取出A B C D 四行"
   ]
  },
  {
   "cell_type": "code",
   "execution_count": null,
   "metadata": {},
   "outputs": [],
   "source": []
  },
  {
   "cell_type": "code",
   "execution_count": null,
   "metadata": {},
   "outputs": [],
   "source": []
  },
  {
   "cell_type": "markdown",
   "metadata": {},
   "source": [
    "#### 取出H  E  B三行"
   ]
  },
  {
   "cell_type": "code",
   "execution_count": null,
   "metadata": {},
   "outputs": [],
   "source": []
  },
  {
   "cell_type": "code",
   "execution_count": null,
   "metadata": {},
   "outputs": [],
   "source": []
  },
  {
   "cell_type": "markdown",
   "metadata": {},
   "source": [
    "### 索引列df.loc[:, 列名]  \n",
    "取多列用列表给出"
   ]
  },
  {
   "cell_type": "markdown",
   "metadata": {},
   "source": [
    "#### 取出 生物 这一列"
   ]
  },
  {
   "cell_type": "code",
   "execution_count": null,
   "metadata": {},
   "outputs": [],
   "source": []
  },
  {
   "cell_type": "code",
   "execution_count": null,
   "metadata": {},
   "outputs": [],
   "source": []
  },
  {
   "cell_type": "markdown",
   "metadata": {},
   "source": [
    "#### 取出 数学 物理  语文 三列"
   ]
  },
  {
   "cell_type": "code",
   "execution_count": null,
   "metadata": {},
   "outputs": [],
   "source": []
  },
  {
   "cell_type": "code",
   "execution_count": null,
   "metadata": {},
   "outputs": [],
   "source": []
  },
  {
   "cell_type": "markdown",
   "metadata": {},
   "source": [
    "### 切片列df.loc[:, 列1 :列2 : 步长和方向]"
   ]
  },
  {
   "cell_type": "markdown",
   "metadata": {},
   "source": [
    "#### 切片出 物理 化学 生物 三列"
   ]
  },
  {
   "cell_type": "code",
   "execution_count": null,
   "metadata": {},
   "outputs": [],
   "source": []
  },
  {
   "cell_type": "code",
   "execution_count": null,
   "metadata": {},
   "outputs": [],
   "source": []
  },
  {
   "cell_type": "markdown",
   "metadata": {},
   "source": [
    "#### 将列的顺序颠倒"
   ]
  },
  {
   "cell_type": "code",
   "execution_count": null,
   "metadata": {},
   "outputs": [],
   "source": []
  },
  {
   "cell_type": "code",
   "execution_count": null,
   "metadata": {},
   "outputs": [],
   "source": []
  },
  {
   "cell_type": "markdown",
   "metadata": {},
   "source": [
    "### 取一部分df.loc[行, 列]"
   ]
  },
  {
   "cell_type": "markdown",
   "metadata": {},
   "source": [
    "#### 取出C D E 三个人的 物理 化学 生物的成绩"
   ]
  },
  {
   "cell_type": "code",
   "execution_count": null,
   "metadata": {},
   "outputs": [],
   "source": []
  },
  {
   "cell_type": "code",
   "execution_count": null,
   "metadata": {},
   "outputs": [],
   "source": []
  },
  {
   "cell_type": "markdown",
   "metadata": {},
   "source": [
    "#### 取出 B F H 三个人的物理 生物 数学成绩"
   ]
  },
  {
   "cell_type": "code",
   "execution_count": null,
   "metadata": {},
   "outputs": [],
   "source": []
  },
  {
   "cell_type": "code",
   "execution_count": null,
   "metadata": {},
   "outputs": [],
   "source": []
  },
  {
   "cell_type": "markdown",
   "metadata": {},
   "source": [
    "### 特殊用法， 用来增加行"
   ]
  },
  {
   "cell_type": "markdown",
   "metadata": {},
   "source": [
    "#### 增加一个K同学， 各科成绩分别是80 90 70 70 80 75"
   ]
  },
  {
   "cell_type": "code",
   "execution_count": null,
   "metadata": {},
   "outputs": [],
   "source": []
  },
  {
   "cell_type": "code",
   "execution_count": null,
   "metadata": {},
   "outputs": [],
   "source": []
  },
  {
   "cell_type": "markdown",
   "metadata": {},
   "source": [
    "## df.iloc[]基于位置的索引（隐式索引)"
   ]
  },
  {
   "cell_type": "markdown",
   "metadata": {},
   "source": [
    "**隐式索引的用法基本和显示一致， 区别在于一个用的位置， 一个用的标签而已。**"
   ]
  },
  {
   "cell_type": "markdown",
   "metadata": {},
   "source": [
    "### 索引行df.iloc[行, :]  \n",
    "多个位置用列表给出"
   ]
  },
  {
   "cell_type": "markdown",
   "metadata": {},
   "source": [
    "#### 取出A行"
   ]
  },
  {
   "cell_type": "code",
   "execution_count": null,
   "metadata": {},
   "outputs": [],
   "source": []
  },
  {
   "cell_type": "code",
   "execution_count": null,
   "metadata": {},
   "outputs": [],
   "source": []
  },
  {
   "cell_type": "markdown",
   "metadata": {},
   "source": [
    "#### 取出A H 两行"
   ]
  },
  {
   "cell_type": "code",
   "execution_count": null,
   "metadata": {},
   "outputs": [],
   "source": []
  },
  {
   "cell_type": "code",
   "execution_count": null,
   "metadata": {},
   "outputs": [],
   "source": []
  },
  {
   "cell_type": "markdown",
   "metadata": {},
   "source": [
    "### 切片行df.iloc[行1：行2：步长和方向, :]"
   ]
  },
  {
   "cell_type": "markdown",
   "metadata": {},
   "source": [
    "#### 切片出A B C D 4行"
   ]
  },
  {
   "cell_type": "code",
   "execution_count": null,
   "metadata": {},
   "outputs": [],
   "source": []
  },
  {
   "cell_type": "code",
   "execution_count": null,
   "metadata": {},
   "outputs": [],
   "source": []
  },
  {
   "cell_type": "markdown",
   "metadata": {},
   "source": [
    "#### 取出 H E B 三行"
   ]
  },
  {
   "cell_type": "code",
   "execution_count": null,
   "metadata": {},
   "outputs": [],
   "source": []
  },
  {
   "cell_type": "code",
   "execution_count": null,
   "metadata": {},
   "outputs": [],
   "source": []
  },
  {
   "cell_type": "markdown",
   "metadata": {},
   "source": [
    "### 索引列df.iloc[:, 位置]  \n",
    "多个位置用列表的形式给出"
   ]
  },
  {
   "cell_type": "markdown",
   "metadata": {},
   "source": [
    "#### 取出生物这一列"
   ]
  },
  {
   "cell_type": "code",
   "execution_count": null,
   "metadata": {},
   "outputs": [],
   "source": []
  },
  {
   "cell_type": "code",
   "execution_count": null,
   "metadata": {},
   "outputs": [],
   "source": []
  },
  {
   "cell_type": "markdown",
   "metadata": {},
   "source": [
    "#### 取出 数学 物理 语文 三列"
   ]
  },
  {
   "cell_type": "code",
   "execution_count": null,
   "metadata": {},
   "outputs": [],
   "source": []
  },
  {
   "cell_type": "code",
   "execution_count": null,
   "metadata": {},
   "outputs": [],
   "source": []
  },
  {
   "cell_type": "markdown",
   "metadata": {},
   "source": [
    "### 切片列df.iloc[:, 列1：列2：步长和方向]"
   ]
  },
  {
   "cell_type": "markdown",
   "metadata": {},
   "source": [
    "#### 取出 物理 化学 生物 三列"
   ]
  },
  {
   "cell_type": "code",
   "execution_count": null,
   "metadata": {},
   "outputs": [],
   "source": []
  },
  {
   "cell_type": "code",
   "execution_count": null,
   "metadata": {},
   "outputs": [],
   "source": []
  },
  {
   "cell_type": "markdown",
   "metadata": {},
   "source": [
    "#### 将列的顺序颠倒"
   ]
  },
  {
   "cell_type": "code",
   "execution_count": null,
   "metadata": {},
   "outputs": [],
   "source": []
  },
  {
   "cell_type": "code",
   "execution_count": null,
   "metadata": {},
   "outputs": [],
   "source": []
  },
  {
   "cell_type": "markdown",
   "metadata": {},
   "source": [
    "### 取一部分df.iloc[行：列]"
   ]
  },
  {
   "cell_type": "markdown",
   "metadata": {},
   "source": [
    "#### 取出C D E 三个人的物理 化学 生物 成绩"
   ]
  },
  {
   "cell_type": "code",
   "execution_count": null,
   "metadata": {},
   "outputs": [],
   "source": []
  },
  {
   "cell_type": "code",
   "execution_count": null,
   "metadata": {},
   "outputs": [],
   "source": []
  },
  {
   "cell_type": "markdown",
   "metadata": {},
   "source": [
    "#### 取出 B F H 三个人的物理 生物 数学成绩"
   ]
  },
  {
   "cell_type": "code",
   "execution_count": null,
   "metadata": {},
   "outputs": [],
   "source": []
  },
  {
   "cell_type": "code",
   "execution_count": null,
   "metadata": {},
   "outputs": [],
   "source": []
  }
 ],
 "metadata": {
  "kernelspec": {
   "display_name": "Python 3",
   "language": "python",
   "name": "python3"
  },
  "language_info": {
   "codemirror_mode": {
    "name": "ipython",
    "version": 3
   },
   "file_extension": ".py",
   "mimetype": "text/x-python",
   "name": "python",
   "nbconvert_exporter": "python",
   "pygments_lexer": "ipython3",
   "version": "3.7.6"
  },
  "toc": {
   "base_numbering": 1,
   "nav_menu": {},
   "number_sections": true,
   "sideBar": true,
   "skip_h1_title": false,
   "title_cell": "Table of Contents",
   "title_sidebar": "Contents",
   "toc_cell": true,
   "toc_position": {
    "height": "calc(100% - 180px)",
    "left": "10px",
    "top": "150px",
    "width": "274.232px"
   },
   "toc_section_display": true,
   "toc_window_display": true
  }
 },
 "nbformat": 4,
 "nbformat_minor": 2
}
